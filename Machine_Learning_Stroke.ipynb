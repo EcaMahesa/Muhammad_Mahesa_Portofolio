{
  "cells": [
    {
      "attachments": {},
      "cell_type": "markdown",
      "metadata": {
        "id": "QGy27JXzEnq7"
      },
      "source": [
        "# Exercise: Algorithm Chain\n",
        "\n",
        "Anda bekerja sebagai data scientist di perusahaan asuransi. Anda diminta untuk memprediksi apakah seorang calon nasabah akan mengajukan klaim atau tidak ketika nantinya dia memiliki asuransi di perusahaan Anda. \n",
        "\n",
        "- Dataset: Car_Insurance_Claim.csv\n",
        "- Target: 'OUTCOME'\n",
        "    - 0: tidak mengajukan claim\n",
        "    - 1: mengajukan claim\n",
        "<br><br>\n",
        "\n",
        "1. Definisikan FP dan FN dalam kasus asuransi kendaraan ini. Menurut Anda, manakah kesalahan yang memiliki cost lebih tinggi (FP atau FN)? Gunakan evaluation metric yang sesuai dengan kebutuhan bisnis!\n",
        "1. Lakukan data cleaning jika diperlukan!\n",
        "1. Lakukan EDA singkat untuk memahami dataset yang Anda gunakan!\n",
        "1. Lakukan data splitting!\n",
        "1. Lakukan preprocessing/feature engineering yang sesuai dengan kebutuhan!\n",
        "1. Lakukan cross validation menggunakan beberapa algoritma ML yang sudah Anda kuasai. Pilih algoritma terbaik untuk melakukan modeling akhir!\n",
        "1. Lakukan hyperparameter tuning pada model terpilih (dari cross validation). Pilih hyperparameter terbaik untuk melakukan modeling akhir!\n",
        "1. Bandingkan performa model sebelum dan sesudah hyperparameter tuning, apakah performanya meningkat?\n",
        "    - Model sebelum sebelum hyperparameter tuning\n",
        "    - Model setelah setelah hyperparameter tuning"
      ]
    },
    {
      "cell_type": "code",
      "execution_count": 3,
      "metadata": {
        "id": "gQuNvEZWD2zy"
      },
      "outputs": [],
      "source": [
        "# !pip install category_encoders"
      ]
    },
    {
      "cell_type": "code",
      "execution_count": 4,
      "metadata": {
        "id": "4cW2uHXlDX_c"
      },
      "outputs": [],
      "source": [
        "import numpy as np\n",
        "import pandas as pd\n",
        "import seaborn as sns \n",
        "import matplotlib.pyplot as plt\n",
        "\n",
        "# train test split\n",
        "from sklearn.model_selection import train_test_split\n",
        "\n",
        "# menyatukan beberapa tahap preprocessing atau fungsi lainnya\n",
        "from sklearn.compose import ColumnTransformer\n",
        "from sklearn.pipeline import Pipeline\n",
        "\n",
        "# encoder dan scaler\n",
        "from sklearn.preprocessing import OneHotEncoder\n",
        "from category_encoders import BinaryEncoder, OrdinalEncoder\n",
        "from sklearn.preprocessing import RobustScaler, MinMaxScaler, StandardScaler\n",
        "from sklearn.experimental import enable_iterative_imputer\n",
        "from sklearn.impute import SimpleImputer, IterativeImputer\n",
        "\n",
        "\n",
        "# algoritma ML\n",
        "from sklearn.linear_model import LogisticRegression\n",
        "from sklearn.neighbors import KNeighborsClassifier\n",
        "from sklearn.tree import DecisionTreeClassifier, plot_tree\n",
        "\n",
        "# cross validation untuk menentukan algoritma terbaik\n",
        "from sklearn.model_selection import cross_val_score, StratifiedKFold\n",
        "\n",
        "# metrics untuk regresi\n",
        "from sklearn.metrics import f1_score, classification_report, confusion_matrix, precision_recall_curve, roc_auc_score, roc_curve\n",
        "\n",
        "import warnings\n",
        "warnings.filterwarnings('ignore')"
      ]
    },
    {
      "cell_type": "markdown",
      "metadata": {
        "id": "pSMFfxlXFLiv"
      },
      "source": [
        "## Load Dataset"
      ]
    },
    {
      "cell_type": "code",
      "execution_count": 5,
      "metadata": {
        "colab": {
          "base_uri": "https://localhost:8080/",
          "height": 357
        },
        "id": "QtSeFFrEEEO_",
        "outputId": "673ca527-0087-42b2-eebf-d63f9fb7971b"
      },
      "outputs": [
        {
          "data": {
            "text/html": [
              "<div>\n",
              "<style scoped>\n",
              "    .dataframe tbody tr th:only-of-type {\n",
              "        vertical-align: middle;\n",
              "    }\n",
              "\n",
              "    .dataframe tbody tr th {\n",
              "        vertical-align: top;\n",
              "    }\n",
              "\n",
              "    .dataframe thead th {\n",
              "        text-align: right;\n",
              "    }\n",
              "</style>\n",
              "<table border=\"1\" class=\"dataframe\">\n",
              "  <thead>\n",
              "    <tr style=\"text-align: right;\">\n",
              "      <th></th>\n",
              "      <th>ID</th>\n",
              "      <th>AGE</th>\n",
              "      <th>GENDER</th>\n",
              "      <th>RACE</th>\n",
              "      <th>DRIVING_EXPERIENCE</th>\n",
              "      <th>EDUCATION</th>\n",
              "      <th>INCOME</th>\n",
              "      <th>CREDIT_SCORE</th>\n",
              "      <th>VEHICLE_OWNERSHIP</th>\n",
              "      <th>VEHICLE_YEAR</th>\n",
              "      <th>MARRIED</th>\n",
              "      <th>CHILDREN</th>\n",
              "      <th>POSTAL_CODE</th>\n",
              "      <th>ANNUAL_MILEAGE</th>\n",
              "      <th>VEHICLE_TYPE</th>\n",
              "      <th>SPEEDING_VIOLATIONS</th>\n",
              "      <th>DUIS</th>\n",
              "      <th>PAST_ACCIDENTS</th>\n",
              "      <th>OUTCOME</th>\n",
              "    </tr>\n",
              "  </thead>\n",
              "  <tbody>\n",
              "    <tr>\n",
              "      <th>0</th>\n",
              "      <td>569520</td>\n",
              "      <td>65+</td>\n",
              "      <td>female</td>\n",
              "      <td>majority</td>\n",
              "      <td>0-9y</td>\n",
              "      <td>high school</td>\n",
              "      <td>upper class</td>\n",
              "      <td>0.629027</td>\n",
              "      <td>1.0</td>\n",
              "      <td>after 2015</td>\n",
              "      <td>0.0</td>\n",
              "      <td>1.0</td>\n",
              "      <td>10238</td>\n",
              "      <td>12000.0</td>\n",
              "      <td>sedan</td>\n",
              "      <td>0</td>\n",
              "      <td>0</td>\n",
              "      <td>0</td>\n",
              "      <td>0.0</td>\n",
              "    </tr>\n",
              "    <tr>\n",
              "      <th>1</th>\n",
              "      <td>750365</td>\n",
              "      <td>16-25</td>\n",
              "      <td>male</td>\n",
              "      <td>majority</td>\n",
              "      <td>0-9y</td>\n",
              "      <td>none</td>\n",
              "      <td>poverty</td>\n",
              "      <td>0.357757</td>\n",
              "      <td>0.0</td>\n",
              "      <td>before 2015</td>\n",
              "      <td>0.0</td>\n",
              "      <td>0.0</td>\n",
              "      <td>10238</td>\n",
              "      <td>16000.0</td>\n",
              "      <td>sedan</td>\n",
              "      <td>0</td>\n",
              "      <td>0</td>\n",
              "      <td>0</td>\n",
              "      <td>1.0</td>\n",
              "    </tr>\n",
              "    <tr>\n",
              "      <th>2</th>\n",
              "      <td>199901</td>\n",
              "      <td>16-25</td>\n",
              "      <td>female</td>\n",
              "      <td>majority</td>\n",
              "      <td>0-9y</td>\n",
              "      <td>high school</td>\n",
              "      <td>working class</td>\n",
              "      <td>0.493146</td>\n",
              "      <td>1.0</td>\n",
              "      <td>before 2015</td>\n",
              "      <td>0.0</td>\n",
              "      <td>0.0</td>\n",
              "      <td>10238</td>\n",
              "      <td>11000.0</td>\n",
              "      <td>sedan</td>\n",
              "      <td>0</td>\n",
              "      <td>0</td>\n",
              "      <td>0</td>\n",
              "      <td>0.0</td>\n",
              "    </tr>\n",
              "    <tr>\n",
              "      <th>3</th>\n",
              "      <td>478866</td>\n",
              "      <td>16-25</td>\n",
              "      <td>male</td>\n",
              "      <td>majority</td>\n",
              "      <td>0-9y</td>\n",
              "      <td>university</td>\n",
              "      <td>working class</td>\n",
              "      <td>0.206013</td>\n",
              "      <td>1.0</td>\n",
              "      <td>before 2015</td>\n",
              "      <td>0.0</td>\n",
              "      <td>1.0</td>\n",
              "      <td>32765</td>\n",
              "      <td>11000.0</td>\n",
              "      <td>sedan</td>\n",
              "      <td>0</td>\n",
              "      <td>0</td>\n",
              "      <td>0</td>\n",
              "      <td>0.0</td>\n",
              "    </tr>\n",
              "    <tr>\n",
              "      <th>4</th>\n",
              "      <td>731664</td>\n",
              "      <td>26-39</td>\n",
              "      <td>male</td>\n",
              "      <td>majority</td>\n",
              "      <td>10-19y</td>\n",
              "      <td>none</td>\n",
              "      <td>working class</td>\n",
              "      <td>0.388366</td>\n",
              "      <td>1.0</td>\n",
              "      <td>before 2015</td>\n",
              "      <td>0.0</td>\n",
              "      <td>0.0</td>\n",
              "      <td>32765</td>\n",
              "      <td>12000.0</td>\n",
              "      <td>sedan</td>\n",
              "      <td>2</td>\n",
              "      <td>0</td>\n",
              "      <td>1</td>\n",
              "      <td>1.0</td>\n",
              "    </tr>\n",
              "  </tbody>\n",
              "</table>\n",
              "</div>"
            ],
            "text/plain": [
              "       ID    AGE  GENDER      RACE DRIVING_EXPERIENCE    EDUCATION  \\\n",
              "0  569520    65+  female  majority               0-9y  high school   \n",
              "1  750365  16-25    male  majority               0-9y         none   \n",
              "2  199901  16-25  female  majority               0-9y  high school   \n",
              "3  478866  16-25    male  majority               0-9y   university   \n",
              "4  731664  26-39    male  majority             10-19y         none   \n",
              "\n",
              "          INCOME  CREDIT_SCORE  VEHICLE_OWNERSHIP VEHICLE_YEAR  MARRIED  \\\n",
              "0    upper class      0.629027                1.0   after 2015      0.0   \n",
              "1        poverty      0.357757                0.0  before 2015      0.0   \n",
              "2  working class      0.493146                1.0  before 2015      0.0   \n",
              "3  working class      0.206013                1.0  before 2015      0.0   \n",
              "4  working class      0.388366                1.0  before 2015      0.0   \n",
              "\n",
              "   CHILDREN  POSTAL_CODE  ANNUAL_MILEAGE VEHICLE_TYPE  SPEEDING_VIOLATIONS  \\\n",
              "0       1.0        10238         12000.0        sedan                    0   \n",
              "1       0.0        10238         16000.0        sedan                    0   \n",
              "2       0.0        10238         11000.0        sedan                    0   \n",
              "3       1.0        32765         11000.0        sedan                    0   \n",
              "4       0.0        32765         12000.0        sedan                    2   \n",
              "\n",
              "   DUIS  PAST_ACCIDENTS  OUTCOME  \n",
              "0     0               0      0.0  \n",
              "1     0               0      1.0  \n",
              "2     0               0      0.0  \n",
              "3     0               0      0.0  \n",
              "4     0               1      1.0  "
            ]
          },
          "execution_count": 5,
          "metadata": {},
          "output_type": "execute_result"
        }
      ],
      "source": [
        "df = pd.read_csv('Car_Insurance_Claim.csv')\n",
        "df.head()"
      ]
    },
    {
      "cell_type": "code",
      "execution_count": 6,
      "metadata": {
        "colab": {
          "base_uri": "https://localhost:8080/"
        },
        "id": "OXWG5CA4EEK6",
        "outputId": "47bb223f-73a5-4102-b3cf-57645d6f0028"
      },
      "outputs": [
        {
          "name": "stdout",
          "output_type": "stream",
          "text": [
            "<class 'pandas.core.frame.DataFrame'>\n",
            "RangeIndex: 10000 entries, 0 to 9999\n",
            "Data columns (total 19 columns):\n",
            " #   Column               Non-Null Count  Dtype  \n",
            "---  ------               --------------  -----  \n",
            " 0   ID                   10000 non-null  int64  \n",
            " 1   AGE                  10000 non-null  object \n",
            " 2   GENDER               10000 non-null  object \n",
            " 3   RACE                 10000 non-null  object \n",
            " 4   DRIVING_EXPERIENCE   10000 non-null  object \n",
            " 5   EDUCATION            10000 non-null  object \n",
            " 6   INCOME               10000 non-null  object \n",
            " 7   CREDIT_SCORE         9018 non-null   float64\n",
            " 8   VEHICLE_OWNERSHIP    10000 non-null  float64\n",
            " 9   VEHICLE_YEAR         10000 non-null  object \n",
            " 10  MARRIED              10000 non-null  float64\n",
            " 11  CHILDREN             10000 non-null  float64\n",
            " 12  POSTAL_CODE          10000 non-null  int64  \n",
            " 13  ANNUAL_MILEAGE       9043 non-null   float64\n",
            " 14  VEHICLE_TYPE         10000 non-null  object \n",
            " 15  SPEEDING_VIOLATIONS  10000 non-null  int64  \n",
            " 16  DUIS                 10000 non-null  int64  \n",
            " 17  PAST_ACCIDENTS       10000 non-null  int64  \n",
            " 18  OUTCOME              10000 non-null  float64\n",
            "dtypes: float64(6), int64(5), object(8)\n",
            "memory usage: 1.4+ MB\n"
          ]
        }
      ],
      "source": [
        "df.info()"
      ]
    },
    {
      "cell_type": "code",
      "execution_count": 7,
      "metadata": {
        "colab": {
          "base_uri": "https://localhost:8080/",
          "height": 364
        },
        "id": "CBrtmN6wEEGj",
        "outputId": "dda1d6e6-3d63-4187-cff9-25c48dfcaeaf"
      },
      "outputs": [
        {
          "data": {
            "text/html": [
              "<div>\n",
              "<style scoped>\n",
              "    .dataframe tbody tr th:only-of-type {\n",
              "        vertical-align: middle;\n",
              "    }\n",
              "\n",
              "    .dataframe tbody tr th {\n",
              "        vertical-align: top;\n",
              "    }\n",
              "\n",
              "    .dataframe thead th {\n",
              "        text-align: right;\n",
              "    }\n",
              "</style>\n",
              "<table border=\"1\" class=\"dataframe\">\n",
              "  <thead>\n",
              "    <tr style=\"text-align: right;\">\n",
              "      <th></th>\n",
              "      <th>ID</th>\n",
              "      <th>CREDIT_SCORE</th>\n",
              "      <th>VEHICLE_OWNERSHIP</th>\n",
              "      <th>MARRIED</th>\n",
              "      <th>CHILDREN</th>\n",
              "      <th>POSTAL_CODE</th>\n",
              "      <th>ANNUAL_MILEAGE</th>\n",
              "      <th>SPEEDING_VIOLATIONS</th>\n",
              "      <th>DUIS</th>\n",
              "      <th>PAST_ACCIDENTS</th>\n",
              "      <th>OUTCOME</th>\n",
              "    </tr>\n",
              "  </thead>\n",
              "  <tbody>\n",
              "    <tr>\n",
              "      <th>count</th>\n",
              "      <td>10000.000000</td>\n",
              "      <td>9018.000000</td>\n",
              "      <td>10000.000000</td>\n",
              "      <td>10000.000000</td>\n",
              "      <td>10000.000000</td>\n",
              "      <td>10000.000000</td>\n",
              "      <td>9043.000000</td>\n",
              "      <td>10000.000000</td>\n",
              "      <td>10000.00000</td>\n",
              "      <td>10000.000000</td>\n",
              "      <td>10000.000000</td>\n",
              "    </tr>\n",
              "    <tr>\n",
              "      <th>mean</th>\n",
              "      <td>500521.906800</td>\n",
              "      <td>0.515813</td>\n",
              "      <td>0.697000</td>\n",
              "      <td>0.498200</td>\n",
              "      <td>0.688800</td>\n",
              "      <td>19864.548400</td>\n",
              "      <td>11697.003207</td>\n",
              "      <td>1.482900</td>\n",
              "      <td>0.23920</td>\n",
              "      <td>1.056300</td>\n",
              "      <td>0.313300</td>\n",
              "    </tr>\n",
              "    <tr>\n",
              "      <th>std</th>\n",
              "      <td>290030.768758</td>\n",
              "      <td>0.137688</td>\n",
              "      <td>0.459578</td>\n",
              "      <td>0.500022</td>\n",
              "      <td>0.463008</td>\n",
              "      <td>18915.613855</td>\n",
              "      <td>2818.434528</td>\n",
              "      <td>2.241966</td>\n",
              "      <td>0.55499</td>\n",
              "      <td>1.652454</td>\n",
              "      <td>0.463858</td>\n",
              "    </tr>\n",
              "    <tr>\n",
              "      <th>min</th>\n",
              "      <td>101.000000</td>\n",
              "      <td>0.053358</td>\n",
              "      <td>0.000000</td>\n",
              "      <td>0.000000</td>\n",
              "      <td>0.000000</td>\n",
              "      <td>10238.000000</td>\n",
              "      <td>2000.000000</td>\n",
              "      <td>0.000000</td>\n",
              "      <td>0.00000</td>\n",
              "      <td>0.000000</td>\n",
              "      <td>0.000000</td>\n",
              "    </tr>\n",
              "    <tr>\n",
              "      <th>25%</th>\n",
              "      <td>249638.500000</td>\n",
              "      <td>0.417191</td>\n",
              "      <td>0.000000</td>\n",
              "      <td>0.000000</td>\n",
              "      <td>0.000000</td>\n",
              "      <td>10238.000000</td>\n",
              "      <td>10000.000000</td>\n",
              "      <td>0.000000</td>\n",
              "      <td>0.00000</td>\n",
              "      <td>0.000000</td>\n",
              "      <td>0.000000</td>\n",
              "    </tr>\n",
              "    <tr>\n",
              "      <th>50%</th>\n",
              "      <td>501777.000000</td>\n",
              "      <td>0.525033</td>\n",
              "      <td>1.000000</td>\n",
              "      <td>0.000000</td>\n",
              "      <td>1.000000</td>\n",
              "      <td>10238.000000</td>\n",
              "      <td>12000.000000</td>\n",
              "      <td>0.000000</td>\n",
              "      <td>0.00000</td>\n",
              "      <td>0.000000</td>\n",
              "      <td>0.000000</td>\n",
              "    </tr>\n",
              "    <tr>\n",
              "      <th>75%</th>\n",
              "      <td>753974.500000</td>\n",
              "      <td>0.618312</td>\n",
              "      <td>1.000000</td>\n",
              "      <td>1.000000</td>\n",
              "      <td>1.000000</td>\n",
              "      <td>32765.000000</td>\n",
              "      <td>14000.000000</td>\n",
              "      <td>2.000000</td>\n",
              "      <td>0.00000</td>\n",
              "      <td>2.000000</td>\n",
              "      <td>1.000000</td>\n",
              "    </tr>\n",
              "    <tr>\n",
              "      <th>max</th>\n",
              "      <td>999976.000000</td>\n",
              "      <td>0.960819</td>\n",
              "      <td>1.000000</td>\n",
              "      <td>1.000000</td>\n",
              "      <td>1.000000</td>\n",
              "      <td>92101.000000</td>\n",
              "      <td>22000.000000</td>\n",
              "      <td>22.000000</td>\n",
              "      <td>6.00000</td>\n",
              "      <td>15.000000</td>\n",
              "      <td>1.000000</td>\n",
              "    </tr>\n",
              "  </tbody>\n",
              "</table>\n",
              "</div>"
            ],
            "text/plain": [
              "                  ID  CREDIT_SCORE  VEHICLE_OWNERSHIP       MARRIED  \\\n",
              "count   10000.000000   9018.000000       10000.000000  10000.000000   \n",
              "mean   500521.906800      0.515813           0.697000      0.498200   \n",
              "std    290030.768758      0.137688           0.459578      0.500022   \n",
              "min       101.000000      0.053358           0.000000      0.000000   \n",
              "25%    249638.500000      0.417191           0.000000      0.000000   \n",
              "50%    501777.000000      0.525033           1.000000      0.000000   \n",
              "75%    753974.500000      0.618312           1.000000      1.000000   \n",
              "max    999976.000000      0.960819           1.000000      1.000000   \n",
              "\n",
              "           CHILDREN   POSTAL_CODE  ANNUAL_MILEAGE  SPEEDING_VIOLATIONS  \\\n",
              "count  10000.000000  10000.000000     9043.000000         10000.000000   \n",
              "mean       0.688800  19864.548400    11697.003207             1.482900   \n",
              "std        0.463008  18915.613855     2818.434528             2.241966   \n",
              "min        0.000000  10238.000000     2000.000000             0.000000   \n",
              "25%        0.000000  10238.000000    10000.000000             0.000000   \n",
              "50%        1.000000  10238.000000    12000.000000             0.000000   \n",
              "75%        1.000000  32765.000000    14000.000000             2.000000   \n",
              "max        1.000000  92101.000000    22000.000000            22.000000   \n",
              "\n",
              "              DUIS  PAST_ACCIDENTS       OUTCOME  \n",
              "count  10000.00000    10000.000000  10000.000000  \n",
              "mean       0.23920        1.056300      0.313300  \n",
              "std        0.55499        1.652454      0.463858  \n",
              "min        0.00000        0.000000      0.000000  \n",
              "25%        0.00000        0.000000      0.000000  \n",
              "50%        0.00000        0.000000      0.000000  \n",
              "75%        0.00000        2.000000      1.000000  \n",
              "max        6.00000       15.000000      1.000000  "
            ]
          },
          "execution_count": 7,
          "metadata": {},
          "output_type": "execute_result"
        }
      ],
      "source": [
        "df.describe()"
      ]
    },
    {
      "cell_type": "code",
      "execution_count": 8,
      "metadata": {
        "colab": {
          "base_uri": "https://localhost:8080/"
        },
        "id": "JoUKaMffY5oU",
        "outputId": "6ca8a49a-8101-40dc-f013-fe473b9ab67f"
      },
      "outputs": [
        {
          "data": {
            "text/plain": [
              "10238    6940\n",
              "32765    2456\n",
              "92101     484\n",
              "21217     120\n",
              "Name: POSTAL_CODE, dtype: int64"
            ]
          },
          "execution_count": 8,
          "metadata": {},
          "output_type": "execute_result"
        }
      ],
      "source": [
        "df['POSTAL_CODE'].value_counts()\n",
        "# sebaiknya diencoding"
      ]
    },
    {
      "cell_type": "code",
      "execution_count": 9,
      "metadata": {
        "colab": {
          "base_uri": "https://localhost:8080/",
          "height": 175
        },
        "id": "eY3ugVJWEECb",
        "outputId": "cae31ae9-1d3b-47a4-dba5-5fbdbdb6cf8d"
      },
      "outputs": [
        {
          "data": {
            "text/html": [
              "<div>\n",
              "<style scoped>\n",
              "    .dataframe tbody tr th:only-of-type {\n",
              "        vertical-align: middle;\n",
              "    }\n",
              "\n",
              "    .dataframe tbody tr th {\n",
              "        vertical-align: top;\n",
              "    }\n",
              "\n",
              "    .dataframe thead th {\n",
              "        text-align: right;\n",
              "    }\n",
              "</style>\n",
              "<table border=\"1\" class=\"dataframe\">\n",
              "  <thead>\n",
              "    <tr style=\"text-align: right;\">\n",
              "      <th></th>\n",
              "      <th>AGE</th>\n",
              "      <th>GENDER</th>\n",
              "      <th>RACE</th>\n",
              "      <th>DRIVING_EXPERIENCE</th>\n",
              "      <th>EDUCATION</th>\n",
              "      <th>INCOME</th>\n",
              "      <th>VEHICLE_YEAR</th>\n",
              "      <th>VEHICLE_TYPE</th>\n",
              "    </tr>\n",
              "  </thead>\n",
              "  <tbody>\n",
              "    <tr>\n",
              "      <th>count</th>\n",
              "      <td>10000</td>\n",
              "      <td>10000</td>\n",
              "      <td>10000</td>\n",
              "      <td>10000</td>\n",
              "      <td>10000</td>\n",
              "      <td>10000</td>\n",
              "      <td>10000</td>\n",
              "      <td>10000</td>\n",
              "    </tr>\n",
              "    <tr>\n",
              "      <th>unique</th>\n",
              "      <td>4</td>\n",
              "      <td>2</td>\n",
              "      <td>2</td>\n",
              "      <td>4</td>\n",
              "      <td>3</td>\n",
              "      <td>4</td>\n",
              "      <td>2</td>\n",
              "      <td>2</td>\n",
              "    </tr>\n",
              "    <tr>\n",
              "      <th>top</th>\n",
              "      <td>26-39</td>\n",
              "      <td>female</td>\n",
              "      <td>majority</td>\n",
              "      <td>0-9y</td>\n",
              "      <td>high school</td>\n",
              "      <td>upper class</td>\n",
              "      <td>before 2015</td>\n",
              "      <td>sedan</td>\n",
              "    </tr>\n",
              "    <tr>\n",
              "      <th>freq</th>\n",
              "      <td>3063</td>\n",
              "      <td>5010</td>\n",
              "      <td>9012</td>\n",
              "      <td>3530</td>\n",
              "      <td>4157</td>\n",
              "      <td>4336</td>\n",
              "      <td>6967</td>\n",
              "      <td>9523</td>\n",
              "    </tr>\n",
              "  </tbody>\n",
              "</table>\n",
              "</div>"
            ],
            "text/plain": [
              "          AGE  GENDER      RACE DRIVING_EXPERIENCE    EDUCATION       INCOME  \\\n",
              "count   10000   10000     10000              10000        10000        10000   \n",
              "unique      4       2         2                  4            3            4   \n",
              "top     26-39  female  majority               0-9y  high school  upper class   \n",
              "freq     3063    5010      9012               3530         4157         4336   \n",
              "\n",
              "       VEHICLE_YEAR VEHICLE_TYPE  \n",
              "count         10000        10000  \n",
              "unique            2            2  \n",
              "top     before 2015        sedan  \n",
              "freq           6967         9523  "
            ]
          },
          "execution_count": 9,
          "metadata": {},
          "output_type": "execute_result"
        }
      ],
      "source": [
        "df.describe(include='object')"
      ]
    },
    {
      "cell_type": "markdown",
      "metadata": {
        "id": "E0afgtj4ED-T"
      },
      "source": [
        "## EDA"
      ]
    },
    {
      "cell_type": "code",
      "execution_count": 10,
      "metadata": {
        "colab": {
          "base_uri": "https://localhost:8080/"
        },
        "id": "S8Z1ELd2ED6P",
        "outputId": "0841470b-3bd2-4f6d-c66f-149cd5e9497f"
      },
      "outputs": [
        {
          "name": "stdout",
          "output_type": "stream",
          "text": [
            "AGE \n",
            " ['65+' '16-25' '26-39' '40-64'] \n",
            "\n",
            "GENDER \n",
            " ['female' 'male'] \n",
            "\n",
            "RACE \n",
            " ['majority' 'minority'] \n",
            "\n",
            "DRIVING_EXPERIENCE \n",
            " ['0-9y' '10-19y' '20-29y' '30y+'] \n",
            "\n",
            "EDUCATION \n",
            " ['high school' 'none' 'university'] \n",
            "\n",
            "INCOME \n",
            " ['upper class' 'poverty' 'working class' 'middle class'] \n",
            "\n",
            "VEHICLE_YEAR \n",
            " ['after 2015' 'before 2015'] \n",
            "\n",
            "VEHICLE_TYPE \n",
            " ['sedan' 'sports car'] \n",
            "\n"
          ]
        }
      ],
      "source": [
        "# unique values in categorical columns\n",
        "\n",
        "for i in df.describe(include='object').columns:\n",
        "    print(i, '\\n', df[i].unique(), '\\n')"
      ]
    },
    {
      "cell_type": "code",
      "execution_count": 11,
      "metadata": {
        "colab": {
          "base_uri": "https://localhost:8080/"
        },
        "id": "NzPY8oUGED2e",
        "outputId": "1b5e9e44-cdb3-456e-ad73-e5982f32f895"
      },
      "outputs": [
        {
          "data": {
            "text/plain": [
              "ID                       0\n",
              "AGE                      0\n",
              "GENDER                   0\n",
              "RACE                     0\n",
              "DRIVING_EXPERIENCE       0\n",
              "EDUCATION                0\n",
              "INCOME                   0\n",
              "CREDIT_SCORE           982\n",
              "VEHICLE_OWNERSHIP        0\n",
              "VEHICLE_YEAR             0\n",
              "MARRIED                  0\n",
              "CHILDREN                 0\n",
              "POSTAL_CODE              0\n",
              "ANNUAL_MILEAGE         957\n",
              "VEHICLE_TYPE             0\n",
              "SPEEDING_VIOLATIONS      0\n",
              "DUIS                     0\n",
              "PAST_ACCIDENTS           0\n",
              "OUTCOME                  0\n",
              "dtype: int64"
            ]
          },
          "execution_count": 11,
          "metadata": {},
          "output_type": "execute_result"
        }
      ],
      "source": [
        "# missing values\n",
        "\n",
        "df.isna().sum()"
      ]
    },
    {
      "cell_type": "code",
      "execution_count": 12,
      "metadata": {
        "colab": {
          "base_uri": "https://localhost:8080/",
          "height": 458
        },
        "id": "khU7_UGgC21Q",
        "outputId": "22e718ea-78d3-4c00-fe7c-475d9fb8cd93"
      },
      "outputs": [
        {
          "data": {
            "text/html": [
              "<div>\n",
              "<style scoped>\n",
              "    .dataframe tbody tr th:only-of-type {\n",
              "        vertical-align: middle;\n",
              "    }\n",
              "\n",
              "    .dataframe tbody tr th {\n",
              "        vertical-align: top;\n",
              "    }\n",
              "\n",
              "    .dataframe thead th {\n",
              "        text-align: right;\n",
              "    }\n",
              "</style>\n",
              "<table border=\"1\" class=\"dataframe\">\n",
              "  <thead>\n",
              "    <tr style=\"text-align: right;\">\n",
              "      <th></th>\n",
              "      <th>ID</th>\n",
              "      <th>CREDIT_SCORE</th>\n",
              "      <th>VEHICLE_OWNERSHIP</th>\n",
              "      <th>MARRIED</th>\n",
              "      <th>CHILDREN</th>\n",
              "      <th>POSTAL_CODE</th>\n",
              "      <th>ANNUAL_MILEAGE</th>\n",
              "      <th>SPEEDING_VIOLATIONS</th>\n",
              "      <th>DUIS</th>\n",
              "      <th>PAST_ACCIDENTS</th>\n",
              "      <th>OUTCOME</th>\n",
              "    </tr>\n",
              "  </thead>\n",
              "  <tbody>\n",
              "    <tr>\n",
              "      <th>ID</th>\n",
              "      <td>1.000000</td>\n",
              "      <td>0.001704</td>\n",
              "      <td>0.009197</td>\n",
              "      <td>0.014826</td>\n",
              "      <td>0.001233</td>\n",
              "      <td>0.006038</td>\n",
              "      <td>-0.002217</td>\n",
              "      <td>0.008156</td>\n",
              "      <td>0.009268</td>\n",
              "      <td>0.001831</td>\n",
              "      <td>-0.010506</td>\n",
              "    </tr>\n",
              "    <tr>\n",
              "      <th>CREDIT_SCORE</th>\n",
              "      <td>0.001704</td>\n",
              "      <td>1.000000</td>\n",
              "      <td>0.312037</td>\n",
              "      <td>0.281238</td>\n",
              "      <td>0.220658</td>\n",
              "      <td>0.009040</td>\n",
              "      <td>-0.174453</td>\n",
              "      <td>0.204542</td>\n",
              "      <td>0.127366</td>\n",
              "      <td>0.180978</td>\n",
              "      <td>-0.325286</td>\n",
              "    </tr>\n",
              "    <tr>\n",
              "      <th>VEHICLE_OWNERSHIP</th>\n",
              "      <td>0.009197</td>\n",
              "      <td>0.312037</td>\n",
              "      <td>1.000000</td>\n",
              "      <td>0.175626</td>\n",
              "      <td>0.125990</td>\n",
              "      <td>-0.004866</td>\n",
              "      <td>-0.097433</td>\n",
              "      <td>0.133868</td>\n",
              "      <td>0.086567</td>\n",
              "      <td>0.119521</td>\n",
              "      <td>-0.378921</td>\n",
              "    </tr>\n",
              "    <tr>\n",
              "      <th>MARRIED</th>\n",
              "      <td>0.014826</td>\n",
              "      <td>0.281238</td>\n",
              "      <td>0.175626</td>\n",
              "      <td>1.000000</td>\n",
              "      <td>0.287009</td>\n",
              "      <td>0.012045</td>\n",
              "      <td>-0.462193</td>\n",
              "      <td>0.218855</td>\n",
              "      <td>0.120840</td>\n",
              "      <td>0.215269</td>\n",
              "      <td>-0.262104</td>\n",
              "    </tr>\n",
              "    <tr>\n",
              "      <th>CHILDREN</th>\n",
              "      <td>0.001233</td>\n",
              "      <td>0.220658</td>\n",
              "      <td>0.125990</td>\n",
              "      <td>0.287009</td>\n",
              "      <td>1.000000</td>\n",
              "      <td>0.020911</td>\n",
              "      <td>-0.447655</td>\n",
              "      <td>0.220415</td>\n",
              "      <td>0.115354</td>\n",
              "      <td>0.206295</td>\n",
              "      <td>-0.232835</td>\n",
              "    </tr>\n",
              "    <tr>\n",
              "      <th>POSTAL_CODE</th>\n",
              "      <td>0.006038</td>\n",
              "      <td>0.009040</td>\n",
              "      <td>-0.004866</td>\n",
              "      <td>0.012045</td>\n",
              "      <td>0.020911</td>\n",
              "      <td>1.000000</td>\n",
              "      <td>-0.133978</td>\n",
              "      <td>0.113686</td>\n",
              "      <td>0.038492</td>\n",
              "      <td>-0.116985</td>\n",
              "      <td>0.095889</td>\n",
              "    </tr>\n",
              "    <tr>\n",
              "      <th>ANNUAL_MILEAGE</th>\n",
              "      <td>-0.002217</td>\n",
              "      <td>-0.174453</td>\n",
              "      <td>-0.097433</td>\n",
              "      <td>-0.462193</td>\n",
              "      <td>-0.447655</td>\n",
              "      <td>-0.133978</td>\n",
              "      <td>1.000000</td>\n",
              "      <td>-0.323547</td>\n",
              "      <td>-0.116598</td>\n",
              "      <td>-0.195217</td>\n",
              "      <td>0.187154</td>\n",
              "    </tr>\n",
              "    <tr>\n",
              "      <th>SPEEDING_VIOLATIONS</th>\n",
              "      <td>0.008156</td>\n",
              "      <td>0.204542</td>\n",
              "      <td>0.133868</td>\n",
              "      <td>0.218855</td>\n",
              "      <td>0.220415</td>\n",
              "      <td>0.113686</td>\n",
              "      <td>-0.323547</td>\n",
              "      <td>1.000000</td>\n",
              "      <td>0.359838</td>\n",
              "      <td>0.443074</td>\n",
              "      <td>-0.291862</td>\n",
              "    </tr>\n",
              "    <tr>\n",
              "      <th>DUIS</th>\n",
              "      <td>0.009268</td>\n",
              "      <td>0.127366</td>\n",
              "      <td>0.086567</td>\n",
              "      <td>0.120840</td>\n",
              "      <td>0.115354</td>\n",
              "      <td>0.038492</td>\n",
              "      <td>-0.116598</td>\n",
              "      <td>0.359838</td>\n",
              "      <td>1.000000</td>\n",
              "      <td>0.259359</td>\n",
              "      <td>-0.189352</td>\n",
              "    </tr>\n",
              "    <tr>\n",
              "      <th>PAST_ACCIDENTS</th>\n",
              "      <td>0.001831</td>\n",
              "      <td>0.180978</td>\n",
              "      <td>0.119521</td>\n",
              "      <td>0.215269</td>\n",
              "      <td>0.206295</td>\n",
              "      <td>-0.116985</td>\n",
              "      <td>-0.195217</td>\n",
              "      <td>0.443074</td>\n",
              "      <td>0.259359</td>\n",
              "      <td>1.000000</td>\n",
              "      <td>-0.311495</td>\n",
              "    </tr>\n",
              "    <tr>\n",
              "      <th>OUTCOME</th>\n",
              "      <td>-0.010506</td>\n",
              "      <td>-0.325286</td>\n",
              "      <td>-0.378921</td>\n",
              "      <td>-0.262104</td>\n",
              "      <td>-0.232835</td>\n",
              "      <td>0.095889</td>\n",
              "      <td>0.187154</td>\n",
              "      <td>-0.291862</td>\n",
              "      <td>-0.189352</td>\n",
              "      <td>-0.311495</td>\n",
              "      <td>1.000000</td>\n",
              "    </tr>\n",
              "  </tbody>\n",
              "</table>\n",
              "</div>"
            ],
            "text/plain": [
              "                           ID  CREDIT_SCORE  VEHICLE_OWNERSHIP   MARRIED  \\\n",
              "ID                   1.000000      0.001704           0.009197  0.014826   \n",
              "CREDIT_SCORE         0.001704      1.000000           0.312037  0.281238   \n",
              "VEHICLE_OWNERSHIP    0.009197      0.312037           1.000000  0.175626   \n",
              "MARRIED              0.014826      0.281238           0.175626  1.000000   \n",
              "CHILDREN             0.001233      0.220658           0.125990  0.287009   \n",
              "POSTAL_CODE          0.006038      0.009040          -0.004866  0.012045   \n",
              "ANNUAL_MILEAGE      -0.002217     -0.174453          -0.097433 -0.462193   \n",
              "SPEEDING_VIOLATIONS  0.008156      0.204542           0.133868  0.218855   \n",
              "DUIS                 0.009268      0.127366           0.086567  0.120840   \n",
              "PAST_ACCIDENTS       0.001831      0.180978           0.119521  0.215269   \n",
              "OUTCOME             -0.010506     -0.325286          -0.378921 -0.262104   \n",
              "\n",
              "                     CHILDREN  POSTAL_CODE  ANNUAL_MILEAGE  \\\n",
              "ID                   0.001233     0.006038       -0.002217   \n",
              "CREDIT_SCORE         0.220658     0.009040       -0.174453   \n",
              "VEHICLE_OWNERSHIP    0.125990    -0.004866       -0.097433   \n",
              "MARRIED              0.287009     0.012045       -0.462193   \n",
              "CHILDREN             1.000000     0.020911       -0.447655   \n",
              "POSTAL_CODE          0.020911     1.000000       -0.133978   \n",
              "ANNUAL_MILEAGE      -0.447655    -0.133978        1.000000   \n",
              "SPEEDING_VIOLATIONS  0.220415     0.113686       -0.323547   \n",
              "DUIS                 0.115354     0.038492       -0.116598   \n",
              "PAST_ACCIDENTS       0.206295    -0.116985       -0.195217   \n",
              "OUTCOME             -0.232835     0.095889        0.187154   \n",
              "\n",
              "                     SPEEDING_VIOLATIONS      DUIS  PAST_ACCIDENTS   OUTCOME  \n",
              "ID                              0.008156  0.009268        0.001831 -0.010506  \n",
              "CREDIT_SCORE                    0.204542  0.127366        0.180978 -0.325286  \n",
              "VEHICLE_OWNERSHIP               0.133868  0.086567        0.119521 -0.378921  \n",
              "MARRIED                         0.218855  0.120840        0.215269 -0.262104  \n",
              "CHILDREN                        0.220415  0.115354        0.206295 -0.232835  \n",
              "POSTAL_CODE                     0.113686  0.038492       -0.116985  0.095889  \n",
              "ANNUAL_MILEAGE                 -0.323547 -0.116598       -0.195217  0.187154  \n",
              "SPEEDING_VIOLATIONS             1.000000  0.359838        0.443074 -0.291862  \n",
              "DUIS                            0.359838  1.000000        0.259359 -0.189352  \n",
              "PAST_ACCIDENTS                  0.443074  0.259359        1.000000 -0.311495  \n",
              "OUTCOME                        -0.291862 -0.189352       -0.311495  1.000000  "
            ]
          },
          "execution_count": 12,
          "metadata": {},
          "output_type": "execute_result"
        }
      ],
      "source": [
        "df.corr()"
      ]
    },
    {
      "cell_type": "code",
      "execution_count": 13,
      "metadata": {
        "colab": {
          "base_uri": "https://localhost:8080/",
          "height": 1000
        },
        "id": "DKjcFAEpCDGd",
        "outputId": "132810e5-a7fa-4e2b-aaeb-70b241bc4479"
      },
      "outputs": [],
      "source": [
        "# plt.figure(figsize = (20,20))\n",
        "# sns.heatmap(df.sort_values('MARRIED')[['CREDIT_SCORE','ANNUAL_MILEAGE']].isna())"
      ]
    },
    {
      "cell_type": "code",
      "execution_count": 14,
      "metadata": {
        "colab": {
          "base_uri": "https://localhost:8080/"
        },
        "id": "LA7eF7WmED72",
        "outputId": "3de11d5c-ef98-47e4-a694-416d53c3579e"
      },
      "outputs": [
        {
          "data": {
            "text/plain": [
              "0.0    5018\n",
              "1.0    4982\n",
              "Name: MARRIED, dtype: int64"
            ]
          },
          "execution_count": 14,
          "metadata": {},
          "output_type": "execute_result"
        }
      ],
      "source": [
        "df['MARRIED'].value_counts()\n",
        "\n",
        "# Data cukup balance"
      ]
    },
    {
      "cell_type": "code",
      "execution_count": 15,
      "metadata": {
        "colab": {
          "base_uri": "https://localhost:8080/"
        },
        "id": "AUAGTjDJEM1g",
        "outputId": "fc822c76-dafe-4691-85c3-4dcf6f890ffe"
      },
      "outputs": [
        {
          "data": {
            "text/plain": [
              "0       0.0\n",
              "4151    0.0\n",
              "4150    0.0\n",
              "4149    0.0\n",
              "7958    0.0\n",
              "       ... \n",
              "4485    1.0\n",
              "4484    1.0\n",
              "4483    1.0\n",
              "4499    1.0\n",
              "9999    1.0\n",
              "Name: MARRIED, Length: 10000, dtype: float64"
            ]
          },
          "execution_count": 15,
          "metadata": {},
          "output_type": "execute_result"
        }
      ],
      "source": [
        "df['MARRIED'].sort_values()"
      ]
    },
    {
      "cell_type": "code",
      "execution_count": 16,
      "metadata": {
        "colab": {
          "base_uri": "https://localhost:8080/"
        },
        "id": "j-Ha0R-bExw_",
        "outputId": "37e2ed1a-0cd7-4677-82ed-f9a9d482129a"
      },
      "outputs": [
        {
          "data": {
            "text/plain": [
              "10000.0"
            ]
          },
          "execution_count": 16,
          "metadata": {},
          "output_type": "execute_result"
        }
      ],
      "source": [
        "# untuk dimasukkan pada simple imputer\n",
        "df[df['MARRIED']==1]['ANNUAL_MILEAGE'].median()"
      ]
    },
    {
      "cell_type": "code",
      "execution_count": 17,
      "metadata": {
        "colab": {
          "base_uri": "https://localhost:8080/"
        },
        "id": "wltgPbfUFGuV",
        "outputId": "ee4537c6-94e8-4185-b43a-e09519f622c5"
      },
      "outputs": [
        {
          "data": {
            "text/plain": [
              "12000.0"
            ]
          },
          "execution_count": 17,
          "metadata": {},
          "output_type": "execute_result"
        }
      ],
      "source": [
        "df['ANNUAL_MILEAGE'].median()"
      ]
    },
    {
      "cell_type": "code",
      "execution_count": 18,
      "metadata": {
        "colab": {
          "base_uri": "https://localhost:8080/",
          "height": 303
        },
        "id": "kRJT_-rSIq-9",
        "outputId": "b2299fe9-a371-4b5b-b87a-2e56d2e3e32e"
      },
      "outputs": [
        {
          "data": {
            "text/plain": [
              "<AxesSubplot: xlabel='CREDIT_SCORE', ylabel='Count'>"
            ]
          },
          "execution_count": 18,
          "metadata": {},
          "output_type": "execute_result"
        },
        {
          "data": {
            "image/png": "[encoded data removed]",
            "text/plain": [
              "<Figure size 640x480 with 1 Axes>"
            ]
          },
          "metadata": {},
          "output_type": "display_data"
        }
      ],
      "source": [
        "sns.histplot(data=df, x='CREDIT_SCORE')"
      ]
    },
    {
      "cell_type": "code",
      "execution_count": 19,
      "metadata": {
        "colab": {
          "base_uri": "https://localhost:8080/"
        },
        "id": "CLPu602UQsNk",
        "outputId": "f1a732ba-9c9c-4789-9a27-4856f19e36d9"
      },
      "outputs": [
        {
          "name": "stdout",
          "output_type": "stream",
          "text": [
            "0.515812809602791\n",
            "0.5250327586154788\n"
          ]
        }
      ],
      "source": [
        "print(df['CREDIT_SCORE'].mean())\n",
        "print(df['CREDIT_SCORE'].median())"
      ]
    },
    {
      "cell_type": "code",
      "execution_count": 20,
      "metadata": {
        "colab": {
          "base_uri": "https://localhost:8080/",
          "height": 303
        },
        "id": "_mmjNkSHI91U",
        "outputId": "867ea727-6ccd-4d57-8adb-034be56ef1df"
      },
      "outputs": [
        {
          "data": {
            "text/plain": [
              "<AxesSubplot: xlabel='ANNUAL_MILEAGE', ylabel='Count'>"
            ]
          },
          "execution_count": 20,
          "metadata": {},
          "output_type": "execute_result"
        },
        {
          "data": {
            "image/png": "[encoded data removed]",
            "text/plain": [
              "<Figure size 640x480 with 1 Axes>"
            ]
          },
          "metadata": {},
          "output_type": "display_data"
        }
      ],
      "source": [
        "sns.histplot(data=df, x='ANNUAL_MILEAGE')"
      ]
    },
    {
      "cell_type": "code",
      "execution_count": 21,
      "metadata": {
        "colab": {
          "base_uri": "https://localhost:8080/"
        },
        "id": "xiTlnQDRIS1b",
        "outputId": "e8fa4cf9-ef68-4970-d73e-5e2ff73dfbf7"
      },
      "outputs": [
        {
          "name": "stdout",
          "output_type": "stream",
          "text": [
            "11697.003206900365\n",
            "12000.0\n",
            "11000.0\n"
          ]
        }
      ],
      "source": [
        "print(df['ANNUAL_MILEAGE'].mean())\n",
        "print(df['ANNUAL_MILEAGE'].median())\n",
        "print(df['ANNUAL_MILEAGE'].mode()[0])\n"
      ]
    },
    {
      "cell_type": "code",
      "execution_count": 22,
      "metadata": {
        "colab": {
          "base_uri": "https://localhost:8080/"
        },
        "id": "6jFDINrgJNsB",
        "outputId": "e598f96c-07cd-4294-8552-69cf151bc670"
      },
      "outputs": [
        {
          "data": {
            "text/plain": [
              "0.0    6867\n",
              "1.0    3133\n",
              "Name: OUTCOME, dtype: int64"
            ]
          },
          "execution_count": 22,
          "metadata": {},
          "output_type": "execute_result"
        }
      ],
      "source": [
        "# Outcome\n",
        "\n",
        "df['OUTCOME'].value_counts()\n",
        "\n",
        "# mild imbalance"
      ]
    },
    {
      "cell_type": "code",
      "execution_count": 23,
      "metadata": {
        "colab": {
          "base_uri": "https://localhost:8080/",
          "height": 653
        },
        "id": "cSPFfABbK8sD",
        "outputId": "02000ceb-1bc3-4ab5-9401-c4e1b809e390"
      },
      "outputs": [
        {
          "data": {
            "image/png": "[encoded data removed]",
            "text/plain": [
              "<Figure size 1500x900 with 11 Axes>"
            ]
          },
          "metadata": {},
          "output_type": "display_data"
        }
      ],
      "source": [
        "# Numerical Features\n",
        "num_feature = [fea for fea in df.describe().columns]\n",
        "num_feature\n",
        "\n",
        "plt.figure(figsize=(15, 9), facecolor='white')\n",
        "sns.set(style='whitegrid', palette='Set3')\n",
        "plotnumber = 1\n",
        "    \n",
        "for feature in num_feature:\n",
        "    ax = plt.subplot(4,3, plotnumber)\n",
        "    sns.boxplot(x=feature, data=df);\n",
        "    plt.title(feature, fontsize=12)\n",
        "    plt.tight_layout()\n",
        "    plotnumber += 1"
      ]
    },
    {
      "cell_type": "code",
      "execution_count": 24,
      "metadata": {},
      "outputs": [
        {
          "data": {
            "text/plain": [
              "0"
            ]
          },
          "execution_count": 24,
          "metadata": {},
          "output_type": "execute_result"
        }
      ],
      "source": [
        "df.duplicated().sum()"
      ]
    },
    {
      "cell_type": "code",
      "execution_count": 25,
      "metadata": {},
      "outputs": [
        {
          "data": {
            "text/plain": [
              "4"
            ]
          },
          "execution_count": 25,
          "metadata": {},
          "output_type": "execute_result"
        }
      ],
      "source": [
        "df['POSTAL_CODE'].nunique()"
      ]
    },
    {
      "cell_type": "markdown",
      "metadata": {
        "id": "DZugGZt8EDyi"
      },
      "source": [
        "## Data Splitting"
      ]
    },
    {
      "cell_type": "code",
      "execution_count": 26,
      "metadata": {
        "id": "5_539jE8EDuh"
      },
      "outputs": [],
      "source": [
        "# Define X and y\n",
        "X = df.drop(columns=['OUTCOME','ID'])\n",
        "y = df['OUTCOME']"
      ]
    },
    {
      "cell_type": "code",
      "execution_count": 27,
      "metadata": {
        "id": "Cy2ruJoFEDqt"
      },
      "outputs": [],
      "source": [
        "# Split\n",
        "X_train, X_test, y_train, y_test = train_test_split(\n",
        "    X, \n",
        "    y,\n",
        "    test_size=0.2,\n",
        "    random_state=0,\n",
        "    stratify=y\n",
        ")"
      ]
    },
    {
      "cell_type": "markdown",
      "metadata": {
        "id": "JRYYcTWjEDm3"
      },
      "source": [
        "## Preprocessing\n",
        "\n",
        "Impute\n",
        "- Median:\n",
        "    - 'CREDIT_SCORE'\n",
        "    - 'ANNUAL_MILEAGE'\n",
        "\n",
        "Encode:\n",
        "- Ordinal Encoder:\n",
        "    - 'AGE' \n",
        "    - 'DRIVING_EXPERIENCE'\n",
        "    - 'EDUCATION'\n",
        "    - 'INCOME'\n",
        "- One Hot Encoder:\n",
        "    - 'GENDER'\n",
        "    - 'RACE'\n",
        "    - 'VEHICLE_YEAR'\n",
        "    - 'VEHICLE_TYPE'\n",
        "\n",
        "Scaler:\n",
        "- MinMax\n",
        "- Standard\n",
        "- Robust"
      ]
    },
    {
      "cell_type": "code",
      "execution_count": 28,
      "metadata": {
        "id": "SXzSJFm5ZjCN"
      },
      "outputs": [],
      "source": [
        "# df.describe(include='object')"
      ]
    },
    {
      "cell_type": "code",
      "execution_count": 29,
      "metadata": {
        "colab": {
          "base_uri": "https://localhost:8080/"
        },
        "id": "Ro7ZMn5zdZoA",
        "outputId": "8827ca90-23bc-473a-f2b5-270e99b2b795"
      },
      "outputs": [
        {
          "data": {
            "text/plain": [
              "array(['65+', '16-25', '26-39', '40-64'], dtype=object)"
            ]
          },
          "execution_count": 29,
          "metadata": {},
          "output_type": "execute_result"
        }
      ],
      "source": [
        "df['AGE'].unique()"
      ]
    },
    {
      "cell_type": "code",
      "execution_count": 30,
      "metadata": {},
      "outputs": [
        {
          "data": {
            "text/plain": [
              "Index(['AGE', 'GENDER', 'RACE', 'DRIVING_EXPERIENCE', 'EDUCATION', 'INCOME',\n",
              "       'CREDIT_SCORE', 'VEHICLE_OWNERSHIP', 'VEHICLE_YEAR', 'MARRIED',\n",
              "       'CHILDREN', 'POSTAL_CODE', 'ANNUAL_MILEAGE', 'VEHICLE_TYPE',\n",
              "       'SPEEDING_VIOLATIONS', 'DUIS', 'PAST_ACCIDENTS'],\n",
              "      dtype='object')"
            ]
          },
          "execution_count": 30,
          "metadata": {},
          "output_type": "execute_result"
        }
      ],
      "source": [
        "X.columns"
      ]
    },
    {
      "cell_type": "code",
      "execution_count": 31,
      "metadata": {},
      "outputs": [],
      "source": [
        "# ordinal mapping 1\n",
        "ordinal_mapping1 = [\n",
        "    {'col':'AGE', 'mapping':{'16-25':20, '26-39':33, '40-64':47, '65+':70, None:0}},\n",
        "    {'col':'DRIVING_EXPERIENCE', 'mapping':{'0-9y':5, '10-19y':15, '20-29y':25 , '30y+':35, None:0}},\n",
        "    {'col':'EDUCATION', 'mapping':{'high school':12, 'university':16, 'none':0, None:0}},\n",
        "    {'col':'INCOME', 'mapping':{'poverty':1, 'working class':2, 'middle class':3, 'upper class':4, None:0}} \n",
        "] \n",
        "\n",
        "# ordinal mapping 2\n",
        "ordinal_mapping2 = [\n",
        "    {'col':'AGE', 'mapping':{'16-25':1, '26-39':2, '40-64':3, '65+':4, None:0}},\n",
        "    {'col':'DRIVING_EXPERIENCE', 'mapping':{'0-9y':1, '10-19y':2, '20-29y':3 , '30y+':4, None:0}},\n",
        "    {'col':'EDUCATION', 'mapping':{'high school':1, 'university':2, 'none':0, None:0}},\n",
        "    {'col':'INCOME', 'mapping':{'poverty':1, 'working class':2, 'middle class':3, 'upper class':4, None:0}} \n",
        "] "
      ]
    },
    {
      "cell_type": "code",
      "execution_count": 32,
      "metadata": {},
      "outputs": [],
      "source": [
        "# transformer \n",
        "\n",
        "pipe_median_scale = Pipeline([\n",
        "    ('imp_median', SimpleImputer(strategy='median')),\n",
        "    ('scaler', RobustScaler())\n",
        "])\n",
        "\n",
        "pipe_ordinal_scale = Pipeline([\n",
        "    ('ordinal', OrdinalEncoder(cols=['AGE','DRIVING_EXPERIENCE','EDUCATION','INCOME'], mapping=ordinal_mapping1)),\n",
        "    ('scaler', RobustScaler())\n",
        "])\n",
        "\n",
        "transformer = ColumnTransformer([\n",
        "    ('pipe_median_scale', pipe_median_scale, ['CREDIT_SCORE', 'VEHICLE_OWNERSHIP', 'MARRIED', 'CHILDREN', 'ANNUAL_MILEAGE', 'SPEEDING_VIOLATIONS', 'DUIS', 'PAST_ACCIDENTS']),\n",
        "    ('pipe_ordinal_scale', pipe_ordinal_scale, ['AGE','DRIVING_EXPERIENCE','EDUCATION','INCOME']),\n",
        "    ('onehot', OneHotEncoder(drop='first'), ['GENDER', 'RACE', 'VEHICLE_YEAR','VEHICLE_TYPE', 'POSTAL_CODE']),\n",
        "], remainder='passthrough')"
      ]
    },
    {
      "cell_type": "code",
      "execution_count": 33,
      "metadata": {
        "id": "v_2b9nGAEDbI"
      },
      "outputs": [],
      "source": [
        "# scaler\n",
        "minmax = MinMaxScaler()\n",
        "standard = StandardScaler()\n",
        "robust = RobustScaler()"
      ]
    },
    {
      "cell_type": "markdown",
      "metadata": {
        "id": "P5N_jFZlEDVz"
      },
      "source": [
        "## Benchmark Model"
      ]
    },
    {
      "cell_type": "code",
      "execution_count": 34,
      "metadata": {
        "id": "6OY1U5_4ZVQc"
      },
      "outputs": [],
      "source": [
        "# Define the models\n",
        "logreg = LogisticRegression(solver='liblinear')\n",
        "knn = KNeighborsClassifier(n_neighbors=5)\n",
        "tree = DecisionTreeClassifier(max_depth=5, random_state=0)"
      ]
    },
    {
      "cell_type": "code",
      "execution_count": 35,
      "metadata": {
        "colab": {
          "base_uri": "https://localhost:8080/"
        },
        "id": "SFe2xngUEDQs",
        "outputId": "8ca8132a-f69a-44d5-8260-dd19b84106ce"
      },
      "outputs": [],
      "source": [
        "# Pilihan model\n",
        "models = [logreg, knn, tree]\n",
        "\n",
        "cv_mean = []\n",
        "cv_std = []\n",
        "cv_all = []\n",
        "\n",
        "\n",
        "# Mencari model terbaik berdasarkan f1 score terbesar dan std terkecil\n",
        "for i in models:\n",
        "    \n",
        "    skfold = StratifiedKFold(n_splits = 5)\n",
        "\n",
        "    model_pipe = Pipeline([\n",
        "            ('prep', transformer), \n",
        "            ('model', i)])\n",
        "    \n",
        "    model_cv = cross_val_score(\n",
        "        model_pipe, \n",
        "        X_train, \n",
        "        y_train, \n",
        "        cv = skfold, \n",
        "        scoring = 'f1',\n",
        "        error_score='raise'\n",
        "        )\n",
        "\n",
        "    cv_mean.append(model_cv.mean())\n",
        "    cv_std.append(model_cv.std())\n",
        "    cv_all.append(model_cv.round(4))"
      ]
    },
    {
      "cell_type": "code",
      "execution_count": 36,
      "metadata": {
        "colab": {
          "base_uri": "https://localhost:8080/",
          "height": 143
        },
        "id": "3Vj6BIs-EDMa",
        "outputId": "df5504dd-fa1b-461a-bea4-20e1db3e536e"
      },
      "outputs": [
        {
          "data": {
            "text/html": [
              "<div>\n",
              "<style scoped>\n",
              "    .dataframe tbody tr th:only-of-type {\n",
              "        vertical-align: middle;\n",
              "    }\n",
              "\n",
              "    .dataframe tbody tr th {\n",
              "        vertical-align: top;\n",
              "    }\n",
              "\n",
              "    .dataframe thead th {\n",
              "        text-align: right;\n",
              "    }\n",
              "</style>\n",
              "<table border=\"1\" class=\"dataframe\">\n",
              "  <thead>\n",
              "    <tr style=\"text-align: right;\">\n",
              "      <th></th>\n",
              "      <th>algo</th>\n",
              "      <th>mean</th>\n",
              "      <th>std</th>\n",
              "      <th>all</th>\n",
              "    </tr>\n",
              "  </thead>\n",
              "  <tbody>\n",
              "    <tr>\n",
              "      <th>0</th>\n",
              "      <td>LogisticRegression(solver='liblinear')</td>\n",
              "      <td>0.755006</td>\n",
              "      <td>0.015244</td>\n",
              "      <td>[0.7537, 0.7351, 0.7578, 0.7814, 0.7471]</td>\n",
              "    </tr>\n",
              "    <tr>\n",
              "      <th>1</th>\n",
              "      <td>KNeighborsClassifier()</td>\n",
              "      <td>0.676064</td>\n",
              "      <td>0.010301</td>\n",
              "      <td>[0.6822, 0.6776, 0.6577, 0.6884, 0.6744]</td>\n",
              "    </tr>\n",
              "    <tr>\n",
              "      <th>2</th>\n",
              "      <td>DecisionTreeClassifier(max_depth=5, random_sta...</td>\n",
              "      <td>0.735321</td>\n",
              "      <td>0.015370</td>\n",
              "      <td>[0.7404, 0.717, 0.7457, 0.7556, 0.7179]</td>\n",
              "    </tr>\n",
              "  </tbody>\n",
              "</table>\n",
              "</div>"
            ],
            "text/plain": [
              "                                                algo      mean       std  \\\n",
              "0             LogisticRegression(solver='liblinear')  0.755006  0.015244   \n",
              "1                             KNeighborsClassifier()  0.676064  0.010301   \n",
              "2  DecisionTreeClassifier(max_depth=5, random_sta...  0.735321  0.015370   \n",
              "\n",
              "                                        all  \n",
              "0  [0.7537, 0.7351, 0.7578, 0.7814, 0.7471]  \n",
              "1  [0.6822, 0.6776, 0.6577, 0.6884, 0.6744]  \n",
              "2   [0.7404, 0.717, 0.7457, 0.7556, 0.7179]  "
            ]
          },
          "execution_count": 36,
          "metadata": {},
          "output_type": "execute_result"
        }
      ],
      "source": [
        "df_cv = pd.DataFrame({\n",
        "    'algo': models,\n",
        "    'mean': cv_mean,\n",
        "    'std': cv_std,\n",
        "    'all': cv_all\n",
        "})\n",
        "\n",
        "df_cv"
      ]
    },
    {
      "cell_type": "markdown",
      "metadata": {
        "id": "hadH0EQ-P7l4"
      },
      "source": [
        "## Hyperparameter Tuning"
      ]
    },
    {
      "cell_type": "code",
      "execution_count": 37,
      "metadata": {
        "id": "Irc9m4GrP7fO"
      },
      "outputs": [],
      "source": [
        "from sklearn.model_selection import GridSearchCV, RandomizedSearchCV "
      ]
    },
    {
      "cell_type": "markdown",
      "metadata": {
        "id": "dOYA9TdygFdg"
      },
      "source": [
        "### Grid Search"
      ]
    },
    {
      "cell_type": "code",
      "execution_count": 38,
      "metadata": {},
      "outputs": [],
      "source": [
        "# len(X_train)"
      ]
    },
    {
      "cell_type": "code",
      "execution_count": 39,
      "metadata": {},
      "outputs": [
        {
          "data": {
            "text/html": [
              "<style>#sk-container-id-1 {color: black;background-color: white;}#sk-container-id-1 pre{padding: 0;}#sk-container-id-1 div.sk-toggleable {background-color: white;}#sk-container-id-1 label.sk-toggleable__label {cursor: pointer;display: block;width: 100%;margin-bottom: 0;padding: 0.3em;box-sizing: border-box;text-align: center;}#sk-container-id-1 label.sk-toggleable__label-arrow:before {content: \"▸\";float: left;margin-right: 0.25em;color: #696969;}#sk-container-id-1 label.sk-toggleable__label-arrow:hover:before {color: black;}#sk-container-id-1 div.sk-estimator:hover label.sk-toggleable__label-arrow:before {color: black;}#sk-container-id-1 div.sk-toggleable__content {max-height: 0;max-width: 0;overflow: hidden;text-align: left;background-color: #f0f8ff;}#sk-container-id-1 div.sk-toggleable__content pre {margin: 0.2em;color: black;border-radius: 0.25em;background-color: #f0f8ff;}#sk-container-id-1 input.sk-toggleable__control:checked~div.sk-toggleable__content {max-height: 200px;max-width: 100%;overflow: auto;}#sk-container-id-1 input.sk-toggleable__control:checked~label.sk-toggleable__label-arrow:before {content: \"▾\";}#sk-container-id-1 div.sk-estimator input.sk-toggleable__control:checked~label.sk-toggleable__label {background-color: #d4ebff;}#sk-container-id-1 div.sk-label input.sk-toggleable__control:checked~label.sk-toggleable__label {background-color: #d4ebff;}#sk-container-id-1 input.sk-hidden--visually {border: 0;clip: rect(1px 1px 1px 1px);clip: rect(1px, 1px, 1px, 1px);height: 1px;margin: -1px;overflow: hidden;padding: 0;position: absolute;width: 1px;}#sk-container-id-1 div.sk-estimator {font-family: monospace;background-color: #f0f8ff;border: 1px dotted black;border-radius: 0.25em;box-sizing: border-box;margin-bottom: 0.5em;}#sk-container-id-1 div.sk-estimator:hover {background-color: #d4ebff;}#sk-container-id-1 div.sk-parallel-item::after {content: \"\";width: 100%;border-bottom: 1px solid gray;flex-grow: 1;}#sk-container-id-1 div.sk-label:hover label.sk-toggleable__label {background-color: #d4ebff;}#sk-container-id-1 div.sk-serial::before {content: \"\";position: absolute;border-left: 1px solid gray;box-sizing: border-box;top: 0;bottom: 0;left: 50%;z-index: 0;}#sk-container-id-1 div.sk-serial {display: flex;flex-direction: column;align-items: center;background-color: white;padding-right: 0.2em;padding-left: 0.2em;position: relative;}#sk-container-id-1 div.sk-item {position: relative;z-index: 1;}#sk-container-id-1 div.sk-parallel {display: flex;align-items: stretch;justify-content: center;background-color: white;position: relative;}#sk-container-id-1 div.sk-item::before, #sk-container-id-1 div.sk-parallel-item::before {content: \"\";position: absolute;border-left: 1px solid gray;box-sizing: border-box;top: 0;bottom: 0;left: 50%;z-index: -1;}#sk-container-id-1 div.sk-parallel-item {display: flex;flex-direction: column;z-index: 1;position: relative;background-color: white;}#sk-container-id-1 div.sk-parallel-item:first-child::after {align-self: flex-end;width: 50%;}#sk-container-id-1 div.sk-parallel-item:last-child::after {align-self: flex-start;width: 50%;}#sk-container-id-1 div.sk-parallel-item:only-child::after {width: 0;}#sk-container-id-1 div.sk-dashed-wrapped {border: 1px dashed gray;margin: 0 0.4em 0.5em 0.4em;box-sizing: border-box;padding-bottom: 0.4em;background-color: white;}#sk-container-id-1 div.sk-label label {font-family: monospace;font-weight: bold;display: inline-block;line-height: 1.2em;}#sk-container-id-1 div.sk-label-container {text-align: center;}#sk-container-id-1 div.sk-container {/* jupyter's `normalize.less` sets `[hidden] { display: none; }` but bootstrap.min.css set `[hidden] { display: none !important; }` so we also need the `!important` here to be able to override the default hidden behavior on the sphinx rendered scikit-learn.org. See: https://github.com/scikit-learn/scikit-learn/issues/21755 */display: inline-block !important;position: relative;}#sk-container-id-1 div.sk-text-repr-fallback {display: none;}</style><div id=\"sk-container-id-1\" class=\"sk-top-container\"><div class=\"sk-text-repr-fallback\"><pre>ColumnTransformer(remainder=&#x27;passthrough&#x27;,\n",
              "                  transformers=[(&#x27;pipe_median_scale&#x27;,\n",
              "                                 Pipeline(steps=[(&#x27;imp_median&#x27;,\n",
              "                                                  SimpleImputer(strategy=&#x27;median&#x27;)),\n",
              "                                                 (&#x27;scaler&#x27;, RobustScaler())]),\n",
              "                                 [&#x27;CREDIT_SCORE&#x27;, &#x27;VEHICLE_OWNERSHIP&#x27;,\n",
              "                                  &#x27;MARRIED&#x27;, &#x27;CHILDREN&#x27;, &#x27;ANNUAL_MILEAGE&#x27;,\n",
              "                                  &#x27;SPEEDING_VIOLATIONS&#x27;, &#x27;DUIS&#x27;,\n",
              "                                  &#x27;PAST_ACCIDENTS&#x27;]),\n",
              "                                (&#x27;pipe_ordinal_scale&#x27;,\n",
              "                                 Pipeline(steps=[(&#x27;ordinal&#x27;,\n",
              "                                                  OrdinalEnc...\n",
              "                                                                           &#x27;mapping&#x27;: high school    12\n",
              "university     16\n",
              "none            0\n",
              "None            0\n",
              "dtype: int64},\n",
              "                                                                          {&#x27;col&#x27;: &#x27;INCOME&#x27;,\n",
              "                                                                           &#x27;data_type&#x27;: dtype(&#x27;O&#x27;),\n",
              "                                                                           &#x27;mapping&#x27;: poverty          1\n",
              "working class    2\n",
              "middle class     3\n",
              "upper class      4\n",
              "None             0\n",
              "dtype: int64}])),\n",
              "                                                 (&#x27;scaler&#x27;, RobustScaler())]),\n",
              "                                 [&#x27;AGE&#x27;, &#x27;DRIVING_EXPERIENCE&#x27;, &#x27;EDUCATION&#x27;,\n",
              "                                  &#x27;INCOME&#x27;]),\n",
              "                                (&#x27;onehot&#x27;, OneHotEncoder(drop=&#x27;first&#x27;),\n",
              "                                 [&#x27;GENDER&#x27;, &#x27;RACE&#x27;, &#x27;VEHICLE_YEAR&#x27;,\n",
              "                                  &#x27;VEHICLE_TYPE&#x27;, &#x27;POSTAL_CODE&#x27;])])</pre><b>In a Jupyter environment, please rerun this cell to show the HTML representation or trust the notebook. <br />On GitHub, the HTML representation is unable to render, please try loading this page with nbviewer.org.</b></div><div class=\"sk-container\" hidden><div class=\"sk-item sk-dashed-wrapped\"><div class=\"sk-label-container\"><div class=\"sk-label sk-toggleable\"><input class=\"sk-toggleable__control sk-hidden--visually\" id=\"sk-estimator-id-1\" type=\"checkbox\" ><label for=\"sk-estimator-id-1\" class=\"sk-toggleable__label sk-toggleable__label-arrow\">ColumnTransformer</label><div class=\"sk-toggleable__content\"><pre>ColumnTransformer(remainder=&#x27;passthrough&#x27;,\n",
              "                  transformers=[(&#x27;pipe_median_scale&#x27;,\n",
              "                                 Pipeline(steps=[(&#x27;imp_median&#x27;,\n",
              "                                                  SimpleImputer(strategy=&#x27;median&#x27;)),\n",
              "                                                 (&#x27;scaler&#x27;, RobustScaler())]),\n",
              "                                 [&#x27;CREDIT_SCORE&#x27;, &#x27;VEHICLE_OWNERSHIP&#x27;,\n",
              "                                  &#x27;MARRIED&#x27;, &#x27;CHILDREN&#x27;, &#x27;ANNUAL_MILEAGE&#x27;,\n",
              "                                  &#x27;SPEEDING_VIOLATIONS&#x27;, &#x27;DUIS&#x27;,\n",
              "                                  &#x27;PAST_ACCIDENTS&#x27;]),\n",
              "                                (&#x27;pipe_ordinal_scale&#x27;,\n",
              "                                 Pipeline(steps=[(&#x27;ordinal&#x27;,\n",
              "                                                  OrdinalEnc...\n",
              "                                                                           &#x27;mapping&#x27;: high school    12\n",
              "university     16\n",
              "none            0\n",
              "None            0\n",
              "dtype: int64},\n",
              "                                                                          {&#x27;col&#x27;: &#x27;INCOME&#x27;,\n",
              "                                                                           &#x27;data_type&#x27;: dtype(&#x27;O&#x27;),\n",
              "                                                                           &#x27;mapping&#x27;: poverty          1\n",
              "working class    2\n",
              "middle class     3\n",
              "upper class      4\n",
              "None             0\n",
              "dtype: int64}])),\n",
              "                                                 (&#x27;scaler&#x27;, RobustScaler())]),\n",
              "                                 [&#x27;AGE&#x27;, &#x27;DRIVING_EXPERIENCE&#x27;, &#x27;EDUCATION&#x27;,\n",
              "                                  &#x27;INCOME&#x27;]),\n",
              "                                (&#x27;onehot&#x27;, OneHotEncoder(drop=&#x27;first&#x27;),\n",
              "                                 [&#x27;GENDER&#x27;, &#x27;RACE&#x27;, &#x27;VEHICLE_YEAR&#x27;,\n",
              "                                  &#x27;VEHICLE_TYPE&#x27;, &#x27;POSTAL_CODE&#x27;])])</pre></div></div></div><div class=\"sk-parallel\"><div class=\"sk-parallel-item\"><div class=\"sk-item\"><div class=\"sk-label-container\"><div class=\"sk-label sk-toggleable\"><input class=\"sk-toggleable__control sk-hidden--visually\" id=\"sk-estimator-id-2\" type=\"checkbox\" ><label for=\"sk-estimator-id-2\" class=\"sk-toggleable__label sk-toggleable__label-arrow\">pipe_median_scale</label><div class=\"sk-toggleable__content\"><pre>[&#x27;CREDIT_SCORE&#x27;, &#x27;VEHICLE_OWNERSHIP&#x27;, &#x27;MARRIED&#x27;, &#x27;CHILDREN&#x27;, &#x27;ANNUAL_MILEAGE&#x27;, &#x27;SPEEDING_VIOLATIONS&#x27;, &#x27;DUIS&#x27;, &#x27;PAST_ACCIDENTS&#x27;]</pre></div></div></div><div class=\"sk-serial\"><div class=\"sk-item\"><div class=\"sk-serial\"><div class=\"sk-item\"><div class=\"sk-estimator sk-toggleable\"><input class=\"sk-toggleable__control sk-hidden--visually\" id=\"sk-estimator-id-3\" type=\"checkbox\" ><label for=\"sk-estimator-id-3\" class=\"sk-toggleable__label sk-toggleable__label-arrow\">SimpleImputer</label><div class=\"sk-toggleable__content\"><pre>SimpleImputer(strategy=&#x27;median&#x27;)</pre></div></div></div><div class=\"sk-item\"><div class=\"sk-estimator sk-toggleable\"><input class=\"sk-toggleable__control sk-hidden--visually\" id=\"sk-estimator-id-4\" type=\"checkbox\" ><label for=\"sk-estimator-id-4\" class=\"sk-toggleable__label sk-toggleable__label-arrow\">RobustScaler</label><div class=\"sk-toggleable__content\"><pre>RobustScaler()</pre></div></div></div></div></div></div></div></div><div class=\"sk-parallel-item\"><div class=\"sk-item\"><div class=\"sk-label-container\"><div class=\"sk-label sk-toggleable\"><input class=\"sk-toggleable__control sk-hidden--visually\" id=\"sk-estimator-id-5\" type=\"checkbox\" ><label for=\"sk-estimator-id-5\" class=\"sk-toggleable__label sk-toggleable__label-arrow\">pipe_ordinal_scale</label><div class=\"sk-toggleable__content\"><pre>[&#x27;AGE&#x27;, &#x27;DRIVING_EXPERIENCE&#x27;, &#x27;EDUCATION&#x27;, &#x27;INCOME&#x27;]</pre></div></div></div><div class=\"sk-serial\"><div class=\"sk-item\"><div class=\"sk-serial\"><div class=\"sk-item\"><div class=\"sk-estimator sk-toggleable\"><input class=\"sk-toggleable__control sk-hidden--visually\" id=\"sk-estimator-id-6\" type=\"checkbox\" ><label for=\"sk-estimator-id-6\" class=\"sk-toggleable__label sk-toggleable__label-arrow\">OrdinalEncoder</label><div class=\"sk-toggleable__content\"><pre>OrdinalEncoder(cols=[&#x27;AGE&#x27;, &#x27;DRIVING_EXPERIENCE&#x27;, &#x27;EDUCATION&#x27;, &#x27;INCOME&#x27;],\n",
              "               mapping=[{&#x27;col&#x27;: &#x27;AGE&#x27;, &#x27;data_type&#x27;: dtype(&#x27;O&#x27;),\n",
              "                         &#x27;mapping&#x27;: 16-25    20\n",
              "26-39    33\n",
              "40-64    47\n",
              "65+      70\n",
              "None      0\n",
              "dtype: int64},\n",
              "                        {&#x27;col&#x27;: &#x27;DRIVING_EXPERIENCE&#x27;, &#x27;data_type&#x27;: dtype(&#x27;O&#x27;),\n",
              "                         &#x27;mapping&#x27;: 0-9y       5\n",
              "10-19y    15\n",
              "20-29y    25\n",
              "30y+      35\n",
              "None       0\n",
              "dtype: int64},\n",
              "                        {&#x27;col&#x27;: &#x27;EDUCATION&#x27;, &#x27;data_type&#x27;: dtype(&#x27;O&#x27;),\n",
              "                         &#x27;mapping&#x27;: high school    12\n",
              "university     16\n",
              "none            0\n",
              "None            0\n",
              "dtype: int64},\n",
              "                        {&#x27;col&#x27;: &#x27;INCOME&#x27;, &#x27;data_type&#x27;: dtype(&#x27;O&#x27;),\n",
              "                         &#x27;mapping&#x27;: poverty          1\n",
              "working class    2\n",
              "middle class     3\n",
              "upper class      4\n",
              "None             0\n",
              "dtype: int64}])</pre></div></div></div><div class=\"sk-item\"><div class=\"sk-estimator sk-toggleable\"><input class=\"sk-toggleable__control sk-hidden--visually\" id=\"sk-estimator-id-7\" type=\"checkbox\" ><label for=\"sk-estimator-id-7\" class=\"sk-toggleable__label sk-toggleable__label-arrow\">RobustScaler</label><div class=\"sk-toggleable__content\"><pre>RobustScaler()</pre></div></div></div></div></div></div></div></div><div class=\"sk-parallel-item\"><div class=\"sk-item\"><div class=\"sk-label-container\"><div class=\"sk-label sk-toggleable\"><input class=\"sk-toggleable__control sk-hidden--visually\" id=\"sk-estimator-id-8\" type=\"checkbox\" ><label for=\"sk-estimator-id-8\" class=\"sk-toggleable__label sk-toggleable__label-arrow\">onehot</label><div class=\"sk-toggleable__content\"><pre>[&#x27;GENDER&#x27;, &#x27;RACE&#x27;, &#x27;VEHICLE_YEAR&#x27;, &#x27;VEHICLE_TYPE&#x27;, &#x27;POSTAL_CODE&#x27;]</pre></div></div></div><div class=\"sk-serial\"><div class=\"sk-item\"><div class=\"sk-estimator sk-toggleable\"><input class=\"sk-toggleable__control sk-hidden--visually\" id=\"sk-estimator-id-9\" type=\"checkbox\" ><label for=\"sk-estimator-id-9\" class=\"sk-toggleable__label sk-toggleable__label-arrow\">OneHotEncoder</label><div class=\"sk-toggleable__content\"><pre>OneHotEncoder(drop=&#x27;first&#x27;)</pre></div></div></div></div></div></div><div class=\"sk-parallel-item\"><div class=\"sk-item\"><div class=\"sk-label-container\"><div class=\"sk-label sk-toggleable\"><input class=\"sk-toggleable__control sk-hidden--visually\" id=\"sk-estimator-id-10\" type=\"checkbox\" ><label for=\"sk-estimator-id-10\" class=\"sk-toggleable__label sk-toggleable__label-arrow\">remainder</label><div class=\"sk-toggleable__content\"><pre></pre></div></div></div><div class=\"sk-serial\"><div class=\"sk-item\"><div class=\"sk-estimator sk-toggleable\"><input class=\"sk-toggleable__control sk-hidden--visually\" id=\"sk-estimator-id-11\" type=\"checkbox\" ><label for=\"sk-estimator-id-11\" class=\"sk-toggleable__label sk-toggleable__label-arrow\">passthrough</label><div class=\"sk-toggleable__content\"><pre>passthrough</pre></div></div></div></div></div></div></div></div></div></div>"
            ],
            "text/plain": [
              "ColumnTransformer(remainder='passthrough',\n",
              "                  transformers=[('pipe_median_scale',\n",
              "                                 Pipeline(steps=[('imp_median',\n",
              "                                                  SimpleImputer(strategy='median')),\n",
              "                                                 ('scaler', RobustScaler())]),\n",
              "                                 ['CREDIT_SCORE', 'VEHICLE_OWNERSHIP',\n",
              "                                  'MARRIED', 'CHILDREN', 'ANNUAL_MILEAGE',\n",
              "                                  'SPEEDING_VIOLATIONS', 'DUIS',\n",
              "                                  'PAST_ACCIDENTS']),\n",
              "                                ('pipe_ordinal_scale',\n",
              "                                 Pipeline(steps=[('ordinal',\n",
              "                                                  OrdinalEnc...\n",
              "                                                                           'mapping': high school    12\n",
              "university     16\n",
              "none            0\n",
              "None            0\n",
              "dtype: int64},\n",
              "                                                                          {'col': 'INCOME',\n",
              "                                                                           'data_type': dtype('O'),\n",
              "                                                                           'mapping': poverty          1\n",
              "working class    2\n",
              "middle class     3\n",
              "upper class      4\n",
              "None             0\n",
              "dtype: int64}])),\n",
              "                                                 ('scaler', RobustScaler())]),\n",
              "                                 ['AGE', 'DRIVING_EXPERIENCE', 'EDUCATION',\n",
              "                                  'INCOME']),\n",
              "                                ('onehot', OneHotEncoder(drop='first'),\n",
              "                                 ['GENDER', 'RACE', 'VEHICLE_YEAR',\n",
              "                                  'VEHICLE_TYPE', 'POSTAL_CODE'])])"
            ]
          },
          "execution_count": 39,
          "metadata": {},
          "output_type": "execute_result"
        }
      ],
      "source": [
        "transformer"
      ]
    },
    {
      "cell_type": "code",
      "execution_count": 40,
      "metadata": {
        "id": "uiWSMfkdP6NY"
      },
      "outputs": [],
      "source": [
        "# hyperparameter untuk Decision Tree\n",
        "hyperparam_space = {\n",
        "    'algo__max_depth':[2,3,4,5,6,7],                            # 6  \n",
        "    'algo__min_samples_split':[2,5,10,15,20,50,100],            # 7\n",
        "    'algo__min_samples_leaf':[2,5,10,15,20,50,100],             # 7\n",
        "    'prep__pipe_median_scale__scaler': [minmax, standard, robust],\n",
        "    'prep__pipe_ordinal_scale__scaler': [minmax, standard, robust]\n",
        "}                                                       # 294 kombinasi model dengan hyperparameter berbeda   \n",
        "\n",
        "# pipeline\n",
        "pipe_model = Pipeline([\n",
        "    ('prep', transformer),\n",
        "    ('algo', tree)                  # benchmark model terpilih\n",
        "])\n",
        "\n",
        "# Define Grid Search\n",
        "gridsearch = GridSearchCV(\n",
        "    estimator=pipe_model,           # model  \n",
        "    param_grid=hyperparam_space,    # hyperparameter yang mau dituning\n",
        "    cv=5,                           # jumlah fold  \n",
        "    scoring='f1',                   # metrics\n",
        "    n_jobs=-1                       # pakai semua processor\n",
        ")"
      ]
    },
    {
      "cell_type": "code",
      "execution_count": 41,
      "metadata": {
        "colab": {
          "base_uri": "https://localhost:8080/"
        },
        "id": "8qQ1VY4jP6HN",
        "outputId": "36bc3b7c-2b4c-4d6a-b0bd-92b464681de0"
      },
      "outputs": [
        {
          "data": {
            "text/html": [
              "<style>#sk-container-id-2 {color: black;background-color: white;}#sk-container-id-2 pre{padding: 0;}#sk-container-id-2 div.sk-toggleable {background-color: white;}#sk-container-id-2 label.sk-toggleable__label {cursor: pointer;display: block;width: 100%;margin-bottom: 0;padding: 0.3em;box-sizing: border-box;text-align: center;}#sk-container-id-2 label.sk-toggleable__label-arrow:before {content: \"▸\";float: left;margin-right: 0.25em;color: #696969;}#sk-container-id-2 label.sk-toggleable__label-arrow:hover:before {color: black;}#sk-container-id-2 div.sk-estimator:hover label.sk-toggleable__label-arrow:before {color: black;}#sk-container-id-2 div.sk-toggleable__content {max-height: 0;max-width: 0;overflow: hidden;text-align: left;background-color: #f0f8ff;}#sk-container-id-2 div.sk-toggleable__content pre {margin: 0.2em;color: black;border-radius: 0.25em;background-color: #f0f8ff;}#sk-container-id-2 input.sk-toggleable__control:checked~div.sk-toggleable__content {max-height: 200px;max-width: 100%;overflow: auto;}#sk-container-id-2 input.sk-toggleable__control:checked~label.sk-toggleable__label-arrow:before {content: \"▾\";}#sk-container-id-2 div.sk-estimator input.sk-toggleable__control:checked~label.sk-toggleable__label {background-color: #d4ebff;}#sk-container-id-2 div.sk-label input.sk-toggleable__control:checked~label.sk-toggleable__label {background-color: #d4ebff;}#sk-container-id-2 input.sk-hidden--visually {border: 0;clip: rect(1px 1px 1px 1px);clip: rect(1px, 1px, 1px, 1px);height: 1px;margin: -1px;overflow: hidden;padding: 0;position: absolute;width: 1px;}#sk-container-id-2 div.sk-estimator {font-family: monospace;background-color: #f0f8ff;border: 1px dotted black;border-radius: 0.25em;box-sizing: border-box;margin-bottom: 0.5em;}#sk-container-id-2 div.sk-estimator:hover {background-color: #d4ebff;}#sk-container-id-2 div.sk-parallel-item::after {content: \"\";width: 100%;border-bottom: 1px solid gray;flex-grow: 1;}#sk-container-id-2 div.sk-label:hover label.sk-toggleable__label {background-color: #d4ebff;}#sk-container-id-2 div.sk-serial::before {content: \"\";position: absolute;border-left: 1px solid gray;box-sizing: border-box;top: 0;bottom: 0;left: 50%;z-index: 0;}#sk-container-id-2 div.sk-serial {display: flex;flex-direction: column;align-items: center;background-color: white;padding-right: 0.2em;padding-left: 0.2em;position: relative;}#sk-container-id-2 div.sk-item {position: relative;z-index: 1;}#sk-container-id-2 div.sk-parallel {display: flex;align-items: stretch;justify-content: center;background-color: white;position: relative;}#sk-container-id-2 div.sk-item::before, #sk-container-id-2 div.sk-parallel-item::before {content: \"\";position: absolute;border-left: 1px solid gray;box-sizing: border-box;top: 0;bottom: 0;left: 50%;z-index: -1;}#sk-container-id-2 div.sk-parallel-item {display: flex;flex-direction: column;z-index: 1;position: relative;background-color: white;}#sk-container-id-2 div.sk-parallel-item:first-child::after {align-self: flex-end;width: 50%;}#sk-container-id-2 div.sk-parallel-item:last-child::after {align-self: flex-start;width: 50%;}#sk-container-id-2 div.sk-parallel-item:only-child::after {width: 0;}#sk-container-id-2 div.sk-dashed-wrapped {border: 1px dashed gray;margin: 0 0.4em 0.5em 0.4em;box-sizing: border-box;padding-bottom: 0.4em;background-color: white;}#sk-container-id-2 div.sk-label label {font-family: monospace;font-weight: bold;display: inline-block;line-height: 1.2em;}#sk-container-id-2 div.sk-label-container {text-align: center;}#sk-container-id-2 div.sk-container {/* jupyter's `normalize.less` sets `[hidden] { display: none; }` but bootstrap.min.css set `[hidden] { display: none !important; }` so we also need the `!important` here to be able to override the default hidden behavior on the sphinx rendered scikit-learn.org. See: https://github.com/scikit-learn/scikit-learn/issues/21755 */display: inline-block !important;position: relative;}#sk-container-id-2 div.sk-text-repr-fallback {display: none;}</style><div id=\"sk-container-id-2\" class=\"sk-top-container\"><div class=\"sk-text-repr-fallback\"><pre>GridSearchCV(cv=5,\n",
              "             estimator=Pipeline(steps=[(&#x27;prep&#x27;,\n",
              "                                        ColumnTransformer(remainder=&#x27;passthrough&#x27;,\n",
              "                                                          transformers=[(&#x27;pipe_median_scale&#x27;,\n",
              "                                                                         Pipeline(steps=[(&#x27;imp_median&#x27;,\n",
              "                                                                                          SimpleImputer(strategy=&#x27;median&#x27;)),\n",
              "                                                                                         (&#x27;scaler&#x27;,\n",
              "                                                                                          RobustScaler())]),\n",
              "                                                                         [&#x27;CREDIT_SCORE&#x27;,\n",
              "                                                                          &#x27;VEHICLE_OWNERSHIP&#x27;,\n",
              "                                                                          &#x27;MARRIED&#x27;,\n",
              "                                                                          &#x27;CHILDREN&#x27;,\n",
              "                                                                          &#x27;ANNUAL_MILEAGE&#x27;,\n",
              "                                                                          &#x27;SPEEDING_VIOLATIONS&#x27;,\n",
              "                                                                          &#x27;DUIS&#x27;,\n",
              "                                                                          &#x27;PAST_ACCIDENTS&#x27;]),\n",
              "                                                                        (&#x27;pipe_...\n",
              "                                        DecisionTreeClassifier(max_depth=5,\n",
              "                                                               random_state=0))]),\n",
              "             n_jobs=-1,\n",
              "             param_grid={&#x27;algo__max_depth&#x27;: [2, 3, 4, 5, 6, 7],\n",
              "                         &#x27;algo__min_samples_leaf&#x27;: [2, 5, 10, 15, 20, 50, 100],\n",
              "                         &#x27;algo__min_samples_split&#x27;: [2, 5, 10, 15, 20, 50, 100],\n",
              "                         &#x27;prep__pipe_median_scale__scaler&#x27;: [MinMaxScaler(),\n",
              "                                                             StandardScaler(),\n",
              "                                                             RobustScaler()],\n",
              "                         &#x27;prep__pipe_ordinal_scale__scaler&#x27;: [MinMaxScaler(),\n",
              "                                                              StandardScaler(),\n",
              "                                                              RobustScaler()]},\n",
              "             scoring=&#x27;f1&#x27;)</pre><b>In a Jupyter environment, please rerun this cell to show the HTML representation or trust the notebook. <br />On GitHub, the HTML representation is unable to render, please try loading this page with nbviewer.org.</b></div><div class=\"sk-container\" hidden><div class=\"sk-item sk-dashed-wrapped\"><div class=\"sk-label-container\"><div class=\"sk-label sk-toggleable\"><input class=\"sk-toggleable__control sk-hidden--visually\" id=\"sk-estimator-id-12\" type=\"checkbox\" ><label for=\"sk-estimator-id-12\" class=\"sk-toggleable__label sk-toggleable__label-arrow\">GridSearchCV</label><div class=\"sk-toggleable__content\"><pre>GridSearchCV(cv=5,\n",
              "             estimator=Pipeline(steps=[(&#x27;prep&#x27;,\n",
              "                                        ColumnTransformer(remainder=&#x27;passthrough&#x27;,\n",
              "                                                          transformers=[(&#x27;pipe_median_scale&#x27;,\n",
              "                                                                         Pipeline(steps=[(&#x27;imp_median&#x27;,\n",
              "                                                                                          SimpleImputer(strategy=&#x27;median&#x27;)),\n",
              "                                                                                         (&#x27;scaler&#x27;,\n",
              "                                                                                          RobustScaler())]),\n",
              "                                                                         [&#x27;CREDIT_SCORE&#x27;,\n",
              "                                                                          &#x27;VEHICLE_OWNERSHIP&#x27;,\n",
              "                                                                          &#x27;MARRIED&#x27;,\n",
              "                                                                          &#x27;CHILDREN&#x27;,\n",
              "                                                                          &#x27;ANNUAL_MILEAGE&#x27;,\n",
              "                                                                          &#x27;SPEEDING_VIOLATIONS&#x27;,\n",
              "                                                                          &#x27;DUIS&#x27;,\n",
              "                                                                          &#x27;PAST_ACCIDENTS&#x27;]),\n",
              "                                                                        (&#x27;pipe_...\n",
              "                                        DecisionTreeClassifier(max_depth=5,\n",
              "                                                               random_state=0))]),\n",
              "             n_jobs=-1,\n",
              "             param_grid={&#x27;algo__max_depth&#x27;: [2, 3, 4, 5, 6, 7],\n",
              "                         &#x27;algo__min_samples_leaf&#x27;: [2, 5, 10, 15, 20, 50, 100],\n",
              "                         &#x27;algo__min_samples_split&#x27;: [2, 5, 10, 15, 20, 50, 100],\n",
              "                         &#x27;prep__pipe_median_scale__scaler&#x27;: [MinMaxScaler(),\n",
              "                                                             StandardScaler(),\n",
              "                                                             RobustScaler()],\n",
              "                         &#x27;prep__pipe_ordinal_scale__scaler&#x27;: [MinMaxScaler(),\n",
              "                                                              StandardScaler(),\n",
              "                                                              RobustScaler()]},\n",
              "             scoring=&#x27;f1&#x27;)</pre></div></div></div><div class=\"sk-parallel\"><div class=\"sk-parallel-item\"><div class=\"sk-item\"><div class=\"sk-label-container\"><div class=\"sk-label sk-toggleable\"><input class=\"sk-toggleable__control sk-hidden--visually\" id=\"sk-estimator-id-13\" type=\"checkbox\" ><label for=\"sk-estimator-id-13\" class=\"sk-toggleable__label sk-toggleable__label-arrow\">estimator: Pipeline</label><div class=\"sk-toggleable__content\"><pre>Pipeline(steps=[(&#x27;prep&#x27;,\n",
              "                 ColumnTransformer(remainder=&#x27;passthrough&#x27;,\n",
              "                                   transformers=[(&#x27;pipe_median_scale&#x27;,\n",
              "                                                  Pipeline(steps=[(&#x27;imp_median&#x27;,\n",
              "                                                                   SimpleImputer(strategy=&#x27;median&#x27;)),\n",
              "                                                                  (&#x27;scaler&#x27;,\n",
              "                                                                   RobustScaler())]),\n",
              "                                                  [&#x27;CREDIT_SCORE&#x27;,\n",
              "                                                   &#x27;VEHICLE_OWNERSHIP&#x27;,\n",
              "                                                   &#x27;MARRIED&#x27;, &#x27;CHILDREN&#x27;,\n",
              "                                                   &#x27;ANNUAL_MILEAGE&#x27;,\n",
              "                                                   &#x27;SPEEDING_VIOLATIONS&#x27;,\n",
              "                                                   &#x27;DUIS&#x27;, &#x27;PAST_ACCIDENTS&#x27;]),\n",
              "                                                 (&#x27;pipe_ordinal_scale&#x27;,\n",
              "                                                  Pipeline(step...\n",
              "                                                                                           {&#x27;col&#x27;: &#x27;INCOME&#x27;,\n",
              "                                                                                            &#x27;data_type&#x27;: dtype(&#x27;O&#x27;),\n",
              "                                                                                            &#x27;mapping&#x27;: poverty          1\n",
              "working class    2\n",
              "middle class     3\n",
              "upper class      4\n",
              "None             0\n",
              "dtype: int64}])),\n",
              "                                                                  (&#x27;scaler&#x27;,\n",
              "                                                                   RobustScaler())]),\n",
              "                                                  [&#x27;AGE&#x27;, &#x27;DRIVING_EXPERIENCE&#x27;,\n",
              "                                                   &#x27;EDUCATION&#x27;, &#x27;INCOME&#x27;]),\n",
              "                                                 (&#x27;onehot&#x27;,\n",
              "                                                  OneHotEncoder(drop=&#x27;first&#x27;),\n",
              "                                                  [&#x27;GENDER&#x27;, &#x27;RACE&#x27;,\n",
              "                                                   &#x27;VEHICLE_YEAR&#x27;,\n",
              "                                                   &#x27;VEHICLE_TYPE&#x27;,\n",
              "                                                   &#x27;POSTAL_CODE&#x27;])])),\n",
              "                (&#x27;algo&#x27;, DecisionTreeClassifier(max_depth=5, random_state=0))])</pre></div></div></div><div class=\"sk-serial\"><div class=\"sk-item\"><div class=\"sk-serial\"><div class=\"sk-item sk-dashed-wrapped\"><div class=\"sk-label-container\"><div class=\"sk-label sk-toggleable\"><input class=\"sk-toggleable__control sk-hidden--visually\" id=\"sk-estimator-id-14\" type=\"checkbox\" ><label for=\"sk-estimator-id-14\" class=\"sk-toggleable__label sk-toggleable__label-arrow\">prep: ColumnTransformer</label><div class=\"sk-toggleable__content\"><pre>ColumnTransformer(remainder=&#x27;passthrough&#x27;,\n",
              "                  transformers=[(&#x27;pipe_median_scale&#x27;,\n",
              "                                 Pipeline(steps=[(&#x27;imp_median&#x27;,\n",
              "                                                  SimpleImputer(strategy=&#x27;median&#x27;)),\n",
              "                                                 (&#x27;scaler&#x27;, RobustScaler())]),\n",
              "                                 [&#x27;CREDIT_SCORE&#x27;, &#x27;VEHICLE_OWNERSHIP&#x27;,\n",
              "                                  &#x27;MARRIED&#x27;, &#x27;CHILDREN&#x27;, &#x27;ANNUAL_MILEAGE&#x27;,\n",
              "                                  &#x27;SPEEDING_VIOLATIONS&#x27;, &#x27;DUIS&#x27;,\n",
              "                                  &#x27;PAST_ACCIDENTS&#x27;]),\n",
              "                                (&#x27;pipe_ordinal_scale&#x27;,\n",
              "                                 Pipeline(steps=[(&#x27;ordinal&#x27;,\n",
              "                                                  OrdinalEnc...\n",
              "                                                                           &#x27;mapping&#x27;: high school    12\n",
              "university     16\n",
              "none            0\n",
              "None            0\n",
              "dtype: int64},\n",
              "                                                                          {&#x27;col&#x27;: &#x27;INCOME&#x27;,\n",
              "                                                                           &#x27;data_type&#x27;: dtype(&#x27;O&#x27;),\n",
              "                                                                           &#x27;mapping&#x27;: poverty          1\n",
              "working class    2\n",
              "middle class     3\n",
              "upper class      4\n",
              "None             0\n",
              "dtype: int64}])),\n",
              "                                                 (&#x27;scaler&#x27;, RobustScaler())]),\n",
              "                                 [&#x27;AGE&#x27;, &#x27;DRIVING_EXPERIENCE&#x27;, &#x27;EDUCATION&#x27;,\n",
              "                                  &#x27;INCOME&#x27;]),\n",
              "                                (&#x27;onehot&#x27;, OneHotEncoder(drop=&#x27;first&#x27;),\n",
              "                                 [&#x27;GENDER&#x27;, &#x27;RACE&#x27;, &#x27;VEHICLE_YEAR&#x27;,\n",
              "                                  &#x27;VEHICLE_TYPE&#x27;, &#x27;POSTAL_CODE&#x27;])])</pre></div></div></div><div class=\"sk-parallel\"><div class=\"sk-parallel-item\"><div class=\"sk-item\"><div class=\"sk-label-container\"><div class=\"sk-label sk-toggleable\"><input class=\"sk-toggleable__control sk-hidden--visually\" id=\"sk-estimator-id-15\" type=\"checkbox\" ><label for=\"sk-estimator-id-15\" class=\"sk-toggleable__label sk-toggleable__label-arrow\">pipe_median_scale</label><div class=\"sk-toggleable__content\"><pre>[&#x27;CREDIT_SCORE&#x27;, &#x27;VEHICLE_OWNERSHIP&#x27;, &#x27;MARRIED&#x27;, &#x27;CHILDREN&#x27;, &#x27;ANNUAL_MILEAGE&#x27;, &#x27;SPEEDING_VIOLATIONS&#x27;, &#x27;DUIS&#x27;, &#x27;PAST_ACCIDENTS&#x27;]</pre></div></div></div><div class=\"sk-serial\"><div class=\"sk-item\"><div class=\"sk-serial\"><div class=\"sk-item\"><div class=\"sk-estimator sk-toggleable\"><input class=\"sk-toggleable__control sk-hidden--visually\" id=\"sk-estimator-id-16\" type=\"checkbox\" ><label for=\"sk-estimator-id-16\" class=\"sk-toggleable__label sk-toggleable__label-arrow\">SimpleImputer</label><div class=\"sk-toggleable__content\"><pre>SimpleImputer(strategy=&#x27;median&#x27;)</pre></div></div></div><div class=\"sk-item\"><div class=\"sk-estimator sk-toggleable\"><input class=\"sk-toggleable__control sk-hidden--visually\" id=\"sk-estimator-id-17\" type=\"checkbox\" ><label for=\"sk-estimator-id-17\" class=\"sk-toggleable__label sk-toggleable__label-arrow\">RobustScaler</label><div class=\"sk-toggleable__content\"><pre>RobustScaler()</pre></div></div></div></div></div></div></div></div><div class=\"sk-parallel-item\"><div class=\"sk-item\"><div class=\"sk-label-container\"><div class=\"sk-label sk-toggleable\"><input class=\"sk-toggleable__control sk-hidden--visually\" id=\"sk-estimator-id-18\" type=\"checkbox\" ><label for=\"sk-estimator-id-18\" class=\"sk-toggleable__label sk-toggleable__label-arrow\">pipe_ordinal_scale</label><div class=\"sk-toggleable__content\"><pre>[&#x27;AGE&#x27;, &#x27;DRIVING_EXPERIENCE&#x27;, &#x27;EDUCATION&#x27;, &#x27;INCOME&#x27;]</pre></div></div></div><div class=\"sk-serial\"><div class=\"sk-item\"><div class=\"sk-serial\"><div class=\"sk-item\"><div class=\"sk-estimator sk-toggleable\"><input class=\"sk-toggleable__control sk-hidden--visually\" id=\"sk-estimator-id-19\" type=\"checkbox\" ><label for=\"sk-estimator-id-19\" class=\"sk-toggleable__label sk-toggleable__label-arrow\">OrdinalEncoder</label><div class=\"sk-toggleable__content\"><pre>OrdinalEncoder(cols=[&#x27;AGE&#x27;, &#x27;DRIVING_EXPERIENCE&#x27;, &#x27;EDUCATION&#x27;, &#x27;INCOME&#x27;],\n",
              "               mapping=[{&#x27;col&#x27;: &#x27;AGE&#x27;, &#x27;data_type&#x27;: dtype(&#x27;O&#x27;),\n",
              "                         &#x27;mapping&#x27;: 16-25    20\n",
              "26-39    33\n",
              "40-64    47\n",
              "65+      70\n",
              "None      0\n",
              "dtype: int64},\n",
              "                        {&#x27;col&#x27;: &#x27;DRIVING_EXPERIENCE&#x27;, &#x27;data_type&#x27;: dtype(&#x27;O&#x27;),\n",
              "                         &#x27;mapping&#x27;: 0-9y       5\n",
              "10-19y    15\n",
              "20-29y    25\n",
              "30y+      35\n",
              "None       0\n",
              "dtype: int64},\n",
              "                        {&#x27;col&#x27;: &#x27;EDUCATION&#x27;, &#x27;data_type&#x27;: dtype(&#x27;O&#x27;),\n",
              "                         &#x27;mapping&#x27;: high school    12\n",
              "university     16\n",
              "none            0\n",
              "None            0\n",
              "dtype: int64},\n",
              "                        {&#x27;col&#x27;: &#x27;INCOME&#x27;, &#x27;data_type&#x27;: dtype(&#x27;O&#x27;),\n",
              "                         &#x27;mapping&#x27;: poverty          1\n",
              "working class    2\n",
              "middle class     3\n",
              "upper class      4\n",
              "None             0\n",
              "dtype: int64}])</pre></div></div></div><div class=\"sk-item\"><div class=\"sk-estimator sk-toggleable\"><input class=\"sk-toggleable__control sk-hidden--visually\" id=\"sk-estimator-id-20\" type=\"checkbox\" ><label for=\"sk-estimator-id-20\" class=\"sk-toggleable__label sk-toggleable__label-arrow\">RobustScaler</label><div class=\"sk-toggleable__content\"><pre>RobustScaler()</pre></div></div></div></div></div></div></div></div><div class=\"sk-parallel-item\"><div class=\"sk-item\"><div class=\"sk-label-container\"><div class=\"sk-label sk-toggleable\"><input class=\"sk-toggleable__control sk-hidden--visually\" id=\"sk-estimator-id-21\" type=\"checkbox\" ><label for=\"sk-estimator-id-21\" class=\"sk-toggleable__label sk-toggleable__label-arrow\">onehot</label><div class=\"sk-toggleable__content\"><pre>[&#x27;GENDER&#x27;, &#x27;RACE&#x27;, &#x27;VEHICLE_YEAR&#x27;, &#x27;VEHICLE_TYPE&#x27;, &#x27;POSTAL_CODE&#x27;]</pre></div></div></div><div class=\"sk-serial\"><div class=\"sk-item\"><div class=\"sk-estimator sk-toggleable\"><input class=\"sk-toggleable__control sk-hidden--visually\" id=\"sk-estimator-id-22\" type=\"checkbox\" ><label for=\"sk-estimator-id-22\" class=\"sk-toggleable__label sk-toggleable__label-arrow\">OneHotEncoder</label><div class=\"sk-toggleable__content\"><pre>OneHotEncoder(drop=&#x27;first&#x27;)</pre></div></div></div></div></div></div><div class=\"sk-parallel-item\"><div class=\"sk-item\"><div class=\"sk-label-container\"><div class=\"sk-label sk-toggleable\"><input class=\"sk-toggleable__control sk-hidden--visually\" id=\"sk-estimator-id-23\" type=\"checkbox\" ><label for=\"sk-estimator-id-23\" class=\"sk-toggleable__label sk-toggleable__label-arrow\">remainder</label><div class=\"sk-toggleable__content\"><pre></pre></div></div></div><div class=\"sk-serial\"><div class=\"sk-item\"><div class=\"sk-estimator sk-toggleable\"><input class=\"sk-toggleable__control sk-hidden--visually\" id=\"sk-estimator-id-24\" type=\"checkbox\" ><label for=\"sk-estimator-id-24\" class=\"sk-toggleable__label sk-toggleable__label-arrow\">passthrough</label><div class=\"sk-toggleable__content\"><pre>passthrough</pre></div></div></div></div></div></div></div></div><div class=\"sk-item\"><div class=\"sk-estimator sk-toggleable\"><input class=\"sk-toggleable__control sk-hidden--visually\" id=\"sk-estimator-id-25\" type=\"checkbox\" ><label for=\"sk-estimator-id-25\" class=\"sk-toggleable__label sk-toggleable__label-arrow\">DecisionTreeClassifier</label><div class=\"sk-toggleable__content\"><pre>DecisionTreeClassifier(max_depth=5, random_state=0)</pre></div></div></div></div></div></div></div></div></div></div></div></div>"
            ],
            "text/plain": [
              "GridSearchCV(cv=5,\n",
              "             estimator=Pipeline(steps=[('prep',\n",
              "                                        ColumnTransformer(remainder='passthrough',\n",
              "                                                          transformers=[('pipe_median_scale',\n",
              "                                                                         Pipeline(steps=[('imp_median',\n",
              "                                                                                          SimpleImputer(strategy='median')),\n",
              "                                                                                         ('scaler',\n",
              "                                                                                          RobustScaler())]),\n",
              "                                                                         ['CREDIT_SCORE',\n",
              "                                                                          'VEHICLE_OWNERSHIP',\n",
              "                                                                          'MARRIED',\n",
              "                                                                          'CHILDREN',\n",
              "                                                                          'ANNUAL_MILEAGE',\n",
              "                                                                          'SPEEDING_VIOLATIONS',\n",
              "                                                                          'DUIS',\n",
              "                                                                          'PAST_ACCIDENTS']),\n",
              "                                                                        ('pipe_...\n",
              "                                        DecisionTreeClassifier(max_depth=5,\n",
              "                                                               random_state=0))]),\n",
              "             n_jobs=-1,\n",
              "             param_grid={'algo__max_depth': [2, 3, 4, 5, 6, 7],\n",
              "                         'algo__min_samples_leaf': [2, 5, 10, 15, 20, 50, 100],\n",
              "                         'algo__min_samples_split': [2, 5, 10, 15, 20, 50, 100],\n",
              "                         'prep__pipe_median_scale__scaler': [MinMaxScaler(),\n",
              "                                                             StandardScaler(),\n",
              "                                                             RobustScaler()],\n",
              "                         'prep__pipe_ordinal_scale__scaler': [MinMaxScaler(),\n",
              "                                                              StandardScaler(),\n",
              "                                                              RobustScaler()]},\n",
              "             scoring='f1')"
            ]
          },
          "execution_count": 41,
          "metadata": {},
          "output_type": "execute_result"
        }
      ],
      "source": [
        "# fitting \n",
        "gridsearch.fit(X_train, y_train)"
      ]
    },
    {
      "cell_type": "code",
      "execution_count": 42,
      "metadata": {
        "colab": {
          "base_uri": "https://localhost:8080/"
        },
        "id": "M9Qbr9IDP55i",
        "outputId": "5425bb7e-a1b1-4255-c23f-d1515f0fe827"
      },
      "outputs": [
        {
          "data": {
            "text/plain": [
              "0.7457298638169126"
            ]
          },
          "execution_count": 42,
          "metadata": {},
          "output_type": "execute_result"
        }
      ],
      "source": [
        "# score terbaik\n",
        "gridsearch.best_score_"
      ]
    },
    {
      "cell_type": "code",
      "execution_count": 43,
      "metadata": {
        "colab": {
          "base_uri": "https://localhost:8080/"
        },
        "id": "ht8Wv0EpP5wM",
        "outputId": "d1ce142d-72ab-499c-de7f-8a6c2a15e22d"
      },
      "outputs": [
        {
          "data": {
            "text/plain": [
              "{'algo__max_depth': 7,\n",
              " 'algo__min_samples_leaf': 2,\n",
              " 'algo__min_samples_split': 100,\n",
              " 'prep__pipe_median_scale__scaler': MinMaxScaler(),\n",
              " 'prep__pipe_ordinal_scale__scaler': MinMaxScaler()}"
            ]
          },
          "execution_count": 43,
          "metadata": {},
          "output_type": "execute_result"
        }
      ],
      "source": [
        "# hyperparameter terbaik\n",
        "gridsearch.best_params_"
      ]
    },
    {
      "cell_type": "code",
      "execution_count": 44,
      "metadata": {
        "colab": {
          "base_uri": "https://localhost:8080/"
        },
        "id": "765go6dnP5m4",
        "outputId": "446f854a-65ce-49de-b3e0-fde067c28384"
      },
      "outputs": [
        {
          "data": {
            "text/html": [
              "<style>#sk-container-id-3 {color: black;background-color: white;}#sk-container-id-3 pre{padding: 0;}#sk-container-id-3 div.sk-toggleable {background-color: white;}#sk-container-id-3 label.sk-toggleable__label {cursor: pointer;display: block;width: 100%;margin-bottom: 0;padding: 0.3em;box-sizing: border-box;text-align: center;}#sk-container-id-3 label.sk-toggleable__label-arrow:before {content: \"▸\";float: left;margin-right: 0.25em;color: #696969;}#sk-container-id-3 label.sk-toggleable__label-arrow:hover:before {color: black;}#sk-container-id-3 div.sk-estimator:hover label.sk-toggleable__label-arrow:before {color: black;}#sk-container-id-3 div.sk-toggleable__content {max-height: 0;max-width: 0;overflow: hidden;text-align: left;background-color: #f0f8ff;}#sk-container-id-3 div.sk-toggleable__content pre {margin: 0.2em;color: black;border-radius: 0.25em;background-color: #f0f8ff;}#sk-container-id-3 input.sk-toggleable__control:checked~div.sk-toggleable__content {max-height: 200px;max-width: 100%;overflow: auto;}#sk-container-id-3 input.sk-toggleable__control:checked~label.sk-toggleable__label-arrow:before {content: \"▾\";}#sk-container-id-3 div.sk-estimator input.sk-toggleable__control:checked~label.sk-toggleable__label {background-color: #d4ebff;}#sk-container-id-3 div.sk-label input.sk-toggleable__control:checked~label.sk-toggleable__label {background-color: #d4ebff;}#sk-container-id-3 input.sk-hidden--visually {border: 0;clip: rect(1px 1px 1px 1px);clip: rect(1px, 1px, 1px, 1px);height: 1px;margin: -1px;overflow: hidden;padding: 0;position: absolute;width: 1px;}#sk-container-id-3 div.sk-estimator {font-family: monospace;background-color: #f0f8ff;border: 1px dotted black;border-radius: 0.25em;box-sizing: border-box;margin-bottom: 0.5em;}#sk-container-id-3 div.sk-estimator:hover {background-color: #d4ebff;}#sk-container-id-3 div.sk-parallel-item::after {content: \"\";width: 100%;border-bottom: 1px solid gray;flex-grow: 1;}#sk-container-id-3 div.sk-label:hover label.sk-toggleable__label {background-color: #d4ebff;}#sk-container-id-3 div.sk-serial::before {content: \"\";position: absolute;border-left: 1px solid gray;box-sizing: border-box;top: 0;bottom: 0;left: 50%;z-index: 0;}#sk-container-id-3 div.sk-serial {display: flex;flex-direction: column;align-items: center;background-color: white;padding-right: 0.2em;padding-left: 0.2em;position: relative;}#sk-container-id-3 div.sk-item {position: relative;z-index: 1;}#sk-container-id-3 div.sk-parallel {display: flex;align-items: stretch;justify-content: center;background-color: white;position: relative;}#sk-container-id-3 div.sk-item::before, #sk-container-id-3 div.sk-parallel-item::before {content: \"\";position: absolute;border-left: 1px solid gray;box-sizing: border-box;top: 0;bottom: 0;left: 50%;z-index: -1;}#sk-container-id-3 div.sk-parallel-item {display: flex;flex-direction: column;z-index: 1;position: relative;background-color: white;}#sk-container-id-3 div.sk-parallel-item:first-child::after {align-self: flex-end;width: 50%;}#sk-container-id-3 div.sk-parallel-item:last-child::after {align-self: flex-start;width: 50%;}#sk-container-id-3 div.sk-parallel-item:only-child::after {width: 0;}#sk-container-id-3 div.sk-dashed-wrapped {border: 1px dashed gray;margin: 0 0.4em 0.5em 0.4em;box-sizing: border-box;padding-bottom: 0.4em;background-color: white;}#sk-container-id-3 div.sk-label label {font-family: monospace;font-weight: bold;display: inline-block;line-height: 1.2em;}#sk-container-id-3 div.sk-label-container {text-align: center;}#sk-container-id-3 div.sk-container {/* jupyter's `normalize.less` sets `[hidden] { display: none; }` but bootstrap.min.css set `[hidden] { display: none !important; }` so we also need the `!important` here to be able to override the default hidden behavior on the sphinx rendered scikit-learn.org. See: https://github.com/scikit-learn/scikit-learn/issues/21755 */display: inline-block !important;position: relative;}#sk-container-id-3 div.sk-text-repr-fallback {display: none;}</style><div id=\"sk-container-id-3\" class=\"sk-top-container\"><div class=\"sk-text-repr-fallback\"><pre>Pipeline(steps=[(&#x27;prep&#x27;,\n",
              "                 ColumnTransformer(remainder=&#x27;passthrough&#x27;,\n",
              "                                   transformers=[(&#x27;pipe_median_scale&#x27;,\n",
              "                                                  Pipeline(steps=[(&#x27;imp_median&#x27;,\n",
              "                                                                   SimpleImputer(strategy=&#x27;median&#x27;)),\n",
              "                                                                  (&#x27;scaler&#x27;,\n",
              "                                                                   MinMaxScaler())]),\n",
              "                                                  [&#x27;CREDIT_SCORE&#x27;,\n",
              "                                                   &#x27;VEHICLE_OWNERSHIP&#x27;,\n",
              "                                                   &#x27;MARRIED&#x27;, &#x27;CHILDREN&#x27;,\n",
              "                                                   &#x27;ANNUAL_MILEAGE&#x27;,\n",
              "                                                   &#x27;SPEEDING_VIOLATIONS&#x27;,\n",
              "                                                   &#x27;DUIS&#x27;, &#x27;PAST_ACCIDENTS&#x27;]),\n",
              "                                                 (&#x27;pipe_ordinal_scale&#x27;,\n",
              "                                                  Pipeline(step...\n",
              "                                                                                            &#x27;mapping&#x27;: poverty          1\n",
              "working class    2\n",
              "middle class     3\n",
              "upper class      4\n",
              "None             0\n",
              "dtype: int64}])),\n",
              "                                                                  (&#x27;scaler&#x27;,\n",
              "                                                                   MinMaxScaler())]),\n",
              "                                                  [&#x27;AGE&#x27;, &#x27;DRIVING_EXPERIENCE&#x27;,\n",
              "                                                   &#x27;EDUCATION&#x27;, &#x27;INCOME&#x27;]),\n",
              "                                                 (&#x27;onehot&#x27;,\n",
              "                                                  OneHotEncoder(drop=&#x27;first&#x27;),\n",
              "                                                  [&#x27;GENDER&#x27;, &#x27;RACE&#x27;,\n",
              "                                                   &#x27;VEHICLE_YEAR&#x27;,\n",
              "                                                   &#x27;VEHICLE_TYPE&#x27;,\n",
              "                                                   &#x27;POSTAL_CODE&#x27;])])),\n",
              "                (&#x27;algo&#x27;,\n",
              "                 DecisionTreeClassifier(max_depth=7, min_samples_leaf=2,\n",
              "                                        min_samples_split=100,\n",
              "                                        random_state=0))])</pre><b>In a Jupyter environment, please rerun this cell to show the HTML representation or trust the notebook. <br />On GitHub, the HTML representation is unable to render, please try loading this page with nbviewer.org.</b></div><div class=\"sk-container\" hidden><div class=\"sk-item sk-dashed-wrapped\"><div class=\"sk-label-container\"><div class=\"sk-label sk-toggleable\"><input class=\"sk-toggleable__control sk-hidden--visually\" id=\"sk-estimator-id-26\" type=\"checkbox\" ><label for=\"sk-estimator-id-26\" class=\"sk-toggleable__label sk-toggleable__label-arrow\">Pipeline</label><div class=\"sk-toggleable__content\"><pre>Pipeline(steps=[(&#x27;prep&#x27;,\n",
              "                 ColumnTransformer(remainder=&#x27;passthrough&#x27;,\n",
              "                                   transformers=[(&#x27;pipe_median_scale&#x27;,\n",
              "                                                  Pipeline(steps=[(&#x27;imp_median&#x27;,\n",
              "                                                                   SimpleImputer(strategy=&#x27;median&#x27;)),\n",
              "                                                                  (&#x27;scaler&#x27;,\n",
              "                                                                   MinMaxScaler())]),\n",
              "                                                  [&#x27;CREDIT_SCORE&#x27;,\n",
              "                                                   &#x27;VEHICLE_OWNERSHIP&#x27;,\n",
              "                                                   &#x27;MARRIED&#x27;, &#x27;CHILDREN&#x27;,\n",
              "                                                   &#x27;ANNUAL_MILEAGE&#x27;,\n",
              "                                                   &#x27;SPEEDING_VIOLATIONS&#x27;,\n",
              "                                                   &#x27;DUIS&#x27;, &#x27;PAST_ACCIDENTS&#x27;]),\n",
              "                                                 (&#x27;pipe_ordinal_scale&#x27;,\n",
              "                                                  Pipeline(step...\n",
              "                                                                                            &#x27;mapping&#x27;: poverty          1\n",
              "working class    2\n",
              "middle class     3\n",
              "upper class      4\n",
              "None             0\n",
              "dtype: int64}])),\n",
              "                                                                  (&#x27;scaler&#x27;,\n",
              "                                                                   MinMaxScaler())]),\n",
              "                                                  [&#x27;AGE&#x27;, &#x27;DRIVING_EXPERIENCE&#x27;,\n",
              "                                                   &#x27;EDUCATION&#x27;, &#x27;INCOME&#x27;]),\n",
              "                                                 (&#x27;onehot&#x27;,\n",
              "                                                  OneHotEncoder(drop=&#x27;first&#x27;),\n",
              "                                                  [&#x27;GENDER&#x27;, &#x27;RACE&#x27;,\n",
              "                                                   &#x27;VEHICLE_YEAR&#x27;,\n",
              "                                                   &#x27;VEHICLE_TYPE&#x27;,\n",
              "                                                   &#x27;POSTAL_CODE&#x27;])])),\n",
              "                (&#x27;algo&#x27;,\n",
              "                 DecisionTreeClassifier(max_depth=7, min_samples_leaf=2,\n",
              "                                        min_samples_split=100,\n",
              "                                        random_state=0))])</pre></div></div></div><div class=\"sk-serial\"><div class=\"sk-item sk-dashed-wrapped\"><div class=\"sk-label-container\"><div class=\"sk-label sk-toggleable\"><input class=\"sk-toggleable__control sk-hidden--visually\" id=\"sk-estimator-id-27\" type=\"checkbox\" ><label for=\"sk-estimator-id-27\" class=\"sk-toggleable__label sk-toggleable__label-arrow\">prep: ColumnTransformer</label><div class=\"sk-toggleable__content\"><pre>ColumnTransformer(remainder=&#x27;passthrough&#x27;,\n",
              "                  transformers=[(&#x27;pipe_median_scale&#x27;,\n",
              "                                 Pipeline(steps=[(&#x27;imp_median&#x27;,\n",
              "                                                  SimpleImputer(strategy=&#x27;median&#x27;)),\n",
              "                                                 (&#x27;scaler&#x27;, MinMaxScaler())]),\n",
              "                                 [&#x27;CREDIT_SCORE&#x27;, &#x27;VEHICLE_OWNERSHIP&#x27;,\n",
              "                                  &#x27;MARRIED&#x27;, &#x27;CHILDREN&#x27;, &#x27;ANNUAL_MILEAGE&#x27;,\n",
              "                                  &#x27;SPEEDING_VIOLATIONS&#x27;, &#x27;DUIS&#x27;,\n",
              "                                  &#x27;PAST_ACCIDENTS&#x27;]),\n",
              "                                (&#x27;pipe_ordinal_scale&#x27;,\n",
              "                                 Pipeline(steps=[(&#x27;ordinal&#x27;,\n",
              "                                                  OrdinalEnc...\n",
              "                                                                           &#x27;mapping&#x27;: high school    12\n",
              "university     16\n",
              "none            0\n",
              "None            0\n",
              "dtype: int64},\n",
              "                                                                          {&#x27;col&#x27;: &#x27;INCOME&#x27;,\n",
              "                                                                           &#x27;data_type&#x27;: dtype(&#x27;O&#x27;),\n",
              "                                                                           &#x27;mapping&#x27;: poverty          1\n",
              "working class    2\n",
              "middle class     3\n",
              "upper class      4\n",
              "None             0\n",
              "dtype: int64}])),\n",
              "                                                 (&#x27;scaler&#x27;, MinMaxScaler())]),\n",
              "                                 [&#x27;AGE&#x27;, &#x27;DRIVING_EXPERIENCE&#x27;, &#x27;EDUCATION&#x27;,\n",
              "                                  &#x27;INCOME&#x27;]),\n",
              "                                (&#x27;onehot&#x27;, OneHotEncoder(drop=&#x27;first&#x27;),\n",
              "                                 [&#x27;GENDER&#x27;, &#x27;RACE&#x27;, &#x27;VEHICLE_YEAR&#x27;,\n",
              "                                  &#x27;VEHICLE_TYPE&#x27;, &#x27;POSTAL_CODE&#x27;])])</pre></div></div></div><div class=\"sk-parallel\"><div class=\"sk-parallel-item\"><div class=\"sk-item\"><div class=\"sk-label-container\"><div class=\"sk-label sk-toggleable\"><input class=\"sk-toggleable__control sk-hidden--visually\" id=\"sk-estimator-id-28\" type=\"checkbox\" ><label for=\"sk-estimator-id-28\" class=\"sk-toggleable__label sk-toggleable__label-arrow\">pipe_median_scale</label><div class=\"sk-toggleable__content\"><pre>[&#x27;CREDIT_SCORE&#x27;, &#x27;VEHICLE_OWNERSHIP&#x27;, &#x27;MARRIED&#x27;, &#x27;CHILDREN&#x27;, &#x27;ANNUAL_MILEAGE&#x27;, &#x27;SPEEDING_VIOLATIONS&#x27;, &#x27;DUIS&#x27;, &#x27;PAST_ACCIDENTS&#x27;]</pre></div></div></div><div class=\"sk-serial\"><div class=\"sk-item\"><div class=\"sk-serial\"><div class=\"sk-item\"><div class=\"sk-estimator sk-toggleable\"><input class=\"sk-toggleable__control sk-hidden--visually\" id=\"sk-estimator-id-29\" type=\"checkbox\" ><label for=\"sk-estimator-id-29\" class=\"sk-toggleable__label sk-toggleable__label-arrow\">SimpleImputer</label><div class=\"sk-toggleable__content\"><pre>SimpleImputer(strategy=&#x27;median&#x27;)</pre></div></div></div><div class=\"sk-item\"><div class=\"sk-estimator sk-toggleable\"><input class=\"sk-toggleable__control sk-hidden--visually\" id=\"sk-estimator-id-30\" type=\"checkbox\" ><label for=\"sk-estimator-id-30\" class=\"sk-toggleable__label sk-toggleable__label-arrow\">MinMaxScaler</label><div class=\"sk-toggleable__content\"><pre>MinMaxScaler()</pre></div></div></div></div></div></div></div></div><div class=\"sk-parallel-item\"><div class=\"sk-item\"><div class=\"sk-label-container\"><div class=\"sk-label sk-toggleable\"><input class=\"sk-toggleable__control sk-hidden--visually\" id=\"sk-estimator-id-31\" type=\"checkbox\" ><label for=\"sk-estimator-id-31\" class=\"sk-toggleable__label sk-toggleable__label-arrow\">pipe_ordinal_scale</label><div class=\"sk-toggleable__content\"><pre>[&#x27;AGE&#x27;, &#x27;DRIVING_EXPERIENCE&#x27;, &#x27;EDUCATION&#x27;, &#x27;INCOME&#x27;]</pre></div></div></div><div class=\"sk-serial\"><div class=\"sk-item\"><div class=\"sk-serial\"><div class=\"sk-item\"><div class=\"sk-estimator sk-toggleable\"><input class=\"sk-toggleable__control sk-hidden--visually\" id=\"sk-estimator-id-32\" type=\"checkbox\" ><label for=\"sk-estimator-id-32\" class=\"sk-toggleable__label sk-toggleable__label-arrow\">OrdinalEncoder</label><div class=\"sk-toggleable__content\"><pre>OrdinalEncoder(cols=[&#x27;AGE&#x27;, &#x27;DRIVING_EXPERIENCE&#x27;, &#x27;EDUCATION&#x27;, &#x27;INCOME&#x27;],\n",
              "               mapping=[{&#x27;col&#x27;: &#x27;AGE&#x27;, &#x27;data_type&#x27;: dtype(&#x27;O&#x27;),\n",
              "                         &#x27;mapping&#x27;: 16-25    20\n",
              "26-39    33\n",
              "40-64    47\n",
              "65+      70\n",
              "None      0\n",
              "dtype: int64},\n",
              "                        {&#x27;col&#x27;: &#x27;DRIVING_EXPERIENCE&#x27;, &#x27;data_type&#x27;: dtype(&#x27;O&#x27;),\n",
              "                         &#x27;mapping&#x27;: 0-9y       5\n",
              "10-19y    15\n",
              "20-29y    25\n",
              "30y+      35\n",
              "None       0\n",
              "dtype: int64},\n",
              "                        {&#x27;col&#x27;: &#x27;EDUCATION&#x27;, &#x27;data_type&#x27;: dtype(&#x27;O&#x27;),\n",
              "                         &#x27;mapping&#x27;: high school    12\n",
              "university     16\n",
              "none            0\n",
              "None            0\n",
              "dtype: int64},\n",
              "                        {&#x27;col&#x27;: &#x27;INCOME&#x27;, &#x27;data_type&#x27;: dtype(&#x27;O&#x27;),\n",
              "                         &#x27;mapping&#x27;: poverty          1\n",
              "working class    2\n",
              "middle class     3\n",
              "upper class      4\n",
              "None             0\n",
              "dtype: int64}])</pre></div></div></div><div class=\"sk-item\"><div class=\"sk-estimator sk-toggleable\"><input class=\"sk-toggleable__control sk-hidden--visually\" id=\"sk-estimator-id-33\" type=\"checkbox\" ><label for=\"sk-estimator-id-33\" class=\"sk-toggleable__label sk-toggleable__label-arrow\">MinMaxScaler</label><div class=\"sk-toggleable__content\"><pre>MinMaxScaler()</pre></div></div></div></div></div></div></div></div><div class=\"sk-parallel-item\"><div class=\"sk-item\"><div class=\"sk-label-container\"><div class=\"sk-label sk-toggleable\"><input class=\"sk-toggleable__control sk-hidden--visually\" id=\"sk-estimator-id-34\" type=\"checkbox\" ><label for=\"sk-estimator-id-34\" class=\"sk-toggleable__label sk-toggleable__label-arrow\">onehot</label><div class=\"sk-toggleable__content\"><pre>[&#x27;GENDER&#x27;, &#x27;RACE&#x27;, &#x27;VEHICLE_YEAR&#x27;, &#x27;VEHICLE_TYPE&#x27;, &#x27;POSTAL_CODE&#x27;]</pre></div></div></div><div class=\"sk-serial\"><div class=\"sk-item\"><div class=\"sk-estimator sk-toggleable\"><input class=\"sk-toggleable__control sk-hidden--visually\" id=\"sk-estimator-id-35\" type=\"checkbox\" ><label for=\"sk-estimator-id-35\" class=\"sk-toggleable__label sk-toggleable__label-arrow\">OneHotEncoder</label><div class=\"sk-toggleable__content\"><pre>OneHotEncoder(drop=&#x27;first&#x27;)</pre></div></div></div></div></div></div><div class=\"sk-parallel-item\"><div class=\"sk-item\"><div class=\"sk-label-container\"><div class=\"sk-label sk-toggleable\"><input class=\"sk-toggleable__control sk-hidden--visually\" id=\"sk-estimator-id-36\" type=\"checkbox\" ><label for=\"sk-estimator-id-36\" class=\"sk-toggleable__label sk-toggleable__label-arrow\">remainder</label><div class=\"sk-toggleable__content\"><pre>[]</pre></div></div></div><div class=\"sk-serial\"><div class=\"sk-item\"><div class=\"sk-estimator sk-toggleable\"><input class=\"sk-toggleable__control sk-hidden--visually\" id=\"sk-estimator-id-37\" type=\"checkbox\" ><label for=\"sk-estimator-id-37\" class=\"sk-toggleable__label sk-toggleable__label-arrow\">passthrough</label><div class=\"sk-toggleable__content\"><pre>passthrough</pre></div></div></div></div></div></div></div></div><div class=\"sk-item\"><div class=\"sk-estimator sk-toggleable\"><input class=\"sk-toggleable__control sk-hidden--visually\" id=\"sk-estimator-id-38\" type=\"checkbox\" ><label for=\"sk-estimator-id-38\" class=\"sk-toggleable__label sk-toggleable__label-arrow\">DecisionTreeClassifier</label><div class=\"sk-toggleable__content\"><pre>DecisionTreeClassifier(max_depth=7, min_samples_leaf=2, min_samples_split=100,\n",
              "                       random_state=0)</pre></div></div></div></div></div></div></div>"
            ],
            "text/plain": [
              "Pipeline(steps=[('prep',\n",
              "                 ColumnTransformer(remainder='passthrough',\n",
              "                                   transformers=[('pipe_median_scale',\n",
              "                                                  Pipeline(steps=[('imp_median',\n",
              "                                                                   SimpleImputer(strategy='median')),\n",
              "                                                                  ('scaler',\n",
              "                                                                   MinMaxScaler())]),\n",
              "                                                  ['CREDIT_SCORE',\n",
              "                                                   'VEHICLE_OWNERSHIP',\n",
              "                                                   'MARRIED', 'CHILDREN',\n",
              "                                                   'ANNUAL_MILEAGE',\n",
              "                                                   'SPEEDING_VIOLATIONS',\n",
              "                                                   'DUIS', 'PAST_ACCIDENTS']),\n",
              "                                                 ('pipe_ordinal_scale',\n",
              "                                                  Pipeline(step...\n",
              "                                                                                            'mapping': poverty          1\n",
              "working class    2\n",
              "middle class     3\n",
              "upper class      4\n",
              "None             0\n",
              "dtype: int64}])),\n",
              "                                                                  ('scaler',\n",
              "                                                                   MinMaxScaler())]),\n",
              "                                                  ['AGE', 'DRIVING_EXPERIENCE',\n",
              "                                                   'EDUCATION', 'INCOME']),\n",
              "                                                 ('onehot',\n",
              "                                                  OneHotEncoder(drop='first'),\n",
              "                                                  ['GENDER', 'RACE',\n",
              "                                                   'VEHICLE_YEAR',\n",
              "                                                   'VEHICLE_TYPE',\n",
              "                                                   'POSTAL_CODE'])])),\n",
              "                ('algo',\n",
              "                 DecisionTreeClassifier(max_depth=7, min_samples_leaf=2,\n",
              "                                        min_samples_split=100,\n",
              "                                        random_state=0))])"
            ]
          },
          "execution_count": 44,
          "metadata": {},
          "output_type": "execute_result"
        }
      ],
      "source": [
        "# model terbaik\n",
        "gridsearch.best_estimator_"
      ]
    },
    {
      "cell_type": "code",
      "execution_count": 45,
      "metadata": {
        "colab": {
          "base_uri": "https://localhost:8080/",
          "height": 357
        },
        "id": "t93-PLnrP5f2",
        "outputId": "0bf50c41-b6f0-4ae7-b704-0036a0401149"
      },
      "outputs": [
        {
          "data": {
            "text/html": [
              "<div>\n",
              "<style scoped>\n",
              "    .dataframe tbody tr th:only-of-type {\n",
              "        vertical-align: middle;\n",
              "    }\n",
              "\n",
              "    .dataframe tbody tr th {\n",
              "        vertical-align: top;\n",
              "    }\n",
              "\n",
              "    .dataframe thead th {\n",
              "        text-align: right;\n",
              "    }\n",
              "</style>\n",
              "<table border=\"1\" class=\"dataframe\">\n",
              "  <thead>\n",
              "    <tr style=\"text-align: right;\">\n",
              "      <th></th>\n",
              "      <th>mean_fit_time</th>\n",
              "      <th>std_fit_time</th>\n",
              "      <th>mean_score_time</th>\n",
              "      <th>std_score_time</th>\n",
              "      <th>param_algo__max_depth</th>\n",
              "      <th>param_algo__min_samples_leaf</th>\n",
              "      <th>param_algo__min_samples_split</th>\n",
              "      <th>param_prep__pipe_median_scale__scaler</th>\n",
              "      <th>param_prep__pipe_ordinal_scale__scaler</th>\n",
              "      <th>params</th>\n",
              "      <th>split0_test_score</th>\n",
              "      <th>split1_test_score</th>\n",
              "      <th>split2_test_score</th>\n",
              "      <th>split3_test_score</th>\n",
              "      <th>split4_test_score</th>\n",
              "      <th>mean_test_score</th>\n",
              "      <th>std_test_score</th>\n",
              "      <th>rank_test_score</th>\n",
              "    </tr>\n",
              "  </thead>\n",
              "  <tbody>\n",
              "    <tr>\n",
              "      <th>2263</th>\n",
              "      <td>0.138991</td>\n",
              "      <td>0.005127</td>\n",
              "      <td>0.027382</td>\n",
              "      <td>0.003773</td>\n",
              "      <td>7</td>\n",
              "      <td>2</td>\n",
              "      <td>100</td>\n",
              "      <td>StandardScaler()</td>\n",
              "      <td>StandardScaler()</td>\n",
              "      <td>{'algo__max_depth': 7, 'algo__min_samples_leaf...</td>\n",
              "      <td>0.75632</td>\n",
              "      <td>0.72458</td>\n",
              "      <td>0.734818</td>\n",
              "      <td>0.760396</td>\n",
              "      <td>0.752535</td>\n",
              "      <td>0.74573</td>\n",
              "      <td>0.013711</td>\n",
              "      <td>1</td>\n",
              "    </tr>\n",
              "    <tr>\n",
              "      <th>2262</th>\n",
              "      <td>0.135880</td>\n",
              "      <td>0.008849</td>\n",
              "      <td>0.038885</td>\n",
              "      <td>0.006406</td>\n",
              "      <td>7</td>\n",
              "      <td>2</td>\n",
              "      <td>100</td>\n",
              "      <td>StandardScaler()</td>\n",
              "      <td>MinMaxScaler()</td>\n",
              "      <td>{'algo__max_depth': 7, 'algo__min_samples_leaf...</td>\n",
              "      <td>0.75632</td>\n",
              "      <td>0.72458</td>\n",
              "      <td>0.734818</td>\n",
              "      <td>0.760396</td>\n",
              "      <td>0.752535</td>\n",
              "      <td>0.74573</td>\n",
              "      <td>0.013711</td>\n",
              "      <td>1</td>\n",
              "    </tr>\n",
              "    <tr>\n",
              "      <th>2261</th>\n",
              "      <td>0.133246</td>\n",
              "      <td>0.000866</td>\n",
              "      <td>0.028727</td>\n",
              "      <td>0.003310</td>\n",
              "      <td>7</td>\n",
              "      <td>2</td>\n",
              "      <td>100</td>\n",
              "      <td>MinMaxScaler()</td>\n",
              "      <td>RobustScaler()</td>\n",
              "      <td>{'algo__max_depth': 7, 'algo__min_samples_leaf...</td>\n",
              "      <td>0.75632</td>\n",
              "      <td>0.72458</td>\n",
              "      <td>0.734818</td>\n",
              "      <td>0.760396</td>\n",
              "      <td>0.752535</td>\n",
              "      <td>0.74573</td>\n",
              "      <td>0.013711</td>\n",
              "      <td>1</td>\n",
              "    </tr>\n",
              "    <tr>\n",
              "      <th>2260</th>\n",
              "      <td>0.138552</td>\n",
              "      <td>0.012717</td>\n",
              "      <td>0.033974</td>\n",
              "      <td>0.009634</td>\n",
              "      <td>7</td>\n",
              "      <td>2</td>\n",
              "      <td>100</td>\n",
              "      <td>MinMaxScaler()</td>\n",
              "      <td>StandardScaler()</td>\n",
              "      <td>{'algo__max_depth': 7, 'algo__min_samples_leaf...</td>\n",
              "      <td>0.75632</td>\n",
              "      <td>0.72458</td>\n",
              "      <td>0.734818</td>\n",
              "      <td>0.760396</td>\n",
              "      <td>0.752535</td>\n",
              "      <td>0.74573</td>\n",
              "      <td>0.013711</td>\n",
              "      <td>1</td>\n",
              "    </tr>\n",
              "    <tr>\n",
              "      <th>2259</th>\n",
              "      <td>0.134062</td>\n",
              "      <td>0.007610</td>\n",
              "      <td>0.030364</td>\n",
              "      <td>0.004298</td>\n",
              "      <td>7</td>\n",
              "      <td>2</td>\n",
              "      <td>100</td>\n",
              "      <td>MinMaxScaler()</td>\n",
              "      <td>MinMaxScaler()</td>\n",
              "      <td>{'algo__max_depth': 7, 'algo__min_samples_leaf...</td>\n",
              "      <td>0.75632</td>\n",
              "      <td>0.72458</td>\n",
              "      <td>0.734818</td>\n",
              "      <td>0.760396</td>\n",
              "      <td>0.752535</td>\n",
              "      <td>0.74573</td>\n",
              "      <td>0.013711</td>\n",
              "      <td>1</td>\n",
              "    </tr>\n",
              "  </tbody>\n",
              "</table>\n",
              "</div>"
            ],
            "text/plain": [
              "      mean_fit_time  std_fit_time  mean_score_time  std_score_time  \\\n",
              "2263       0.138991      0.005127         0.027382        0.003773   \n",
              "2262       0.135880      0.008849         0.038885        0.006406   \n",
              "2261       0.133246      0.000866         0.028727        0.003310   \n",
              "2260       0.138552      0.012717         0.033974        0.009634   \n",
              "2259       0.134062      0.007610         0.030364        0.004298   \n",
              "\n",
              "     param_algo__max_depth param_algo__min_samples_leaf  \\\n",
              "2263                     7                            2   \n",
              "2262                     7                            2   \n",
              "2261                     7                            2   \n",
              "2260                     7                            2   \n",
              "2259                     7                            2   \n",
              "\n",
              "     param_algo__min_samples_split param_prep__pipe_median_scale__scaler  \\\n",
              "2263                           100                      StandardScaler()   \n",
              "2262                           100                      StandardScaler()   \n",
              "2261                           100                        MinMaxScaler()   \n",
              "2260                           100                        MinMaxScaler()   \n",
              "2259                           100                        MinMaxScaler()   \n",
              "\n",
              "     param_prep__pipe_ordinal_scale__scaler  \\\n",
              "2263                       StandardScaler()   \n",
              "2262                         MinMaxScaler()   \n",
              "2261                         RobustScaler()   \n",
              "2260                       StandardScaler()   \n",
              "2259                         MinMaxScaler()   \n",
              "\n",
              "                                                 params  split0_test_score  \\\n",
              "2263  {'algo__max_depth': 7, 'algo__min_samples_leaf...            0.75632   \n",
              "2262  {'algo__max_depth': 7, 'algo__min_samples_leaf...            0.75632   \n",
              "2261  {'algo__max_depth': 7, 'algo__min_samples_leaf...            0.75632   \n",
              "2260  {'algo__max_depth': 7, 'algo__min_samples_leaf...            0.75632   \n",
              "2259  {'algo__max_depth': 7, 'algo__min_samples_leaf...            0.75632   \n",
              "\n",
              "      split1_test_score  split2_test_score  split3_test_score  \\\n",
              "2263            0.72458           0.734818           0.760396   \n",
              "2262            0.72458           0.734818           0.760396   \n",
              "2261            0.72458           0.734818           0.760396   \n",
              "2260            0.72458           0.734818           0.760396   \n",
              "2259            0.72458           0.734818           0.760396   \n",
              "\n",
              "      split4_test_score  mean_test_score  std_test_score  rank_test_score  \n",
              "2263           0.752535          0.74573        0.013711                1  \n",
              "2262           0.752535          0.74573        0.013711                1  \n",
              "2261           0.752535          0.74573        0.013711                1  \n",
              "2260           0.752535          0.74573        0.013711                1  \n",
              "2259           0.752535          0.74573        0.013711                1  "
            ]
          },
          "execution_count": 45,
          "metadata": {},
          "output_type": "execute_result"
        }
      ],
      "source": [
        "# score MAE pada tiap kombinasi hyperparameter\n",
        "cv_output = pd.DataFrame(gridsearch.cv_results_).sort_values('mean_test_score', ascending=False)\n",
        "cv_output.head()"
      ]
    },
    {
      "cell_type": "markdown",
      "metadata": {
        "id": "Abks6zVEEDE3"
      },
      "source": [
        "### Randomized Search"
      ]
    },
    {
      "cell_type": "code",
      "execution_count": 46,
      "metadata": {},
      "outputs": [
        {
          "data": {
            "text/plain": [
              "Index(['AGE', 'GENDER', 'RACE', 'DRIVING_EXPERIENCE', 'EDUCATION', 'INCOME',\n",
              "       'CREDIT_SCORE', 'VEHICLE_OWNERSHIP', 'VEHICLE_YEAR', 'MARRIED',\n",
              "       'CHILDREN', 'POSTAL_CODE', 'ANNUAL_MILEAGE', 'VEHICLE_TYPE',\n",
              "       'SPEEDING_VIOLATIONS', 'DUIS', 'PAST_ACCIDENTS'],\n",
              "      dtype='object')"
            ]
          },
          "execution_count": 46,
          "metadata": {},
          "output_type": "execute_result"
        }
      ],
      "source": [
        "X.columns"
      ]
    },
    {
      "cell_type": "code",
      "execution_count": 47,
      "metadata": {
        "id": "DuiazI11gU_T"
      },
      "outputs": [],
      "source": [
        "# hyperparameter untuk Decision Tree\n",
        "hyperparam_space = {\n",
        "    'algo__max_depth':range(2,20,1),            # 19                   \n",
        "    'algo__min_samples_split':range(2,100,1),   # 99        \n",
        "    'algo__min_samples_leaf':range(1,100,1),    # 100         \n",
        "    'prep__pipe_median_scale__scaler': [minmax, standard, robust],\n",
        "    'prep__pipe_ordinal_scale__scaler': [minmax, standard, robust],\n",
        "    'prep__pipe_ordinal_scale__ordinal__mapping': [ordinal_mapping1, ordinal_mapping2]\n",
        "}                                                         \n",
        "\n",
        "# pipeline\n",
        "pipe_model = Pipeline([\n",
        "    ('prep', transformer),\n",
        "    ('algo', tree)          # benchmark model terpilih\n",
        "])"
      ]
    },
    {
      "cell_type": "code",
      "execution_count": 48,
      "metadata": {
        "id": "Ma6T8AGHEDBJ"
      },
      "outputs": [],
      "source": [
        "# Define Randomized Search\n",
        "\n",
        "random_search = RandomizedSearchCV(\n",
        "    estimator=pipe_model,\n",
        "    param_distributions=hyperparam_space,\n",
        "    cv=5,\n",
        "    scoring='f1',\n",
        "    n_jobs=-1,\n",
        "    random_state=10,\n",
        "    n_iter=200                 # jumlah kombinasi hyperparameter yang akan dihasilkan\n",
        ")"
      ]
    },
    {
      "cell_type": "code",
      "execution_count": 49,
      "metadata": {
        "colab": {
          "base_uri": "https://localhost:8080/"
        },
        "id": "q8e2zvkggmxi",
        "outputId": "65769675-6668-4a18-a647-e520d24dc74f"
      },
      "outputs": [
        {
          "data": {
            "text/html": [
              "<style>#sk-container-id-4 {color: black;background-color: white;}#sk-container-id-4 pre{padding: 0;}#sk-container-id-4 div.sk-toggleable {background-color: white;}#sk-container-id-4 label.sk-toggleable__label {cursor: pointer;display: block;width: 100%;margin-bottom: 0;padding: 0.3em;box-sizing: border-box;text-align: center;}#sk-container-id-4 label.sk-toggleable__label-arrow:before {content: \"▸\";float: left;margin-right: 0.25em;color: #696969;}#sk-container-id-4 label.sk-toggleable__label-arrow:hover:before {color: black;}#sk-container-id-4 div.sk-estimator:hover label.sk-toggleable__label-arrow:before {color: black;}#sk-container-id-4 div.sk-toggleable__content {max-height: 0;max-width: 0;overflow: hidden;text-align: left;background-color: #f0f8ff;}#sk-container-id-4 div.sk-toggleable__content pre {margin: 0.2em;color: black;border-radius: 0.25em;background-color: #f0f8ff;}#sk-container-id-4 input.sk-toggleable__control:checked~div.sk-toggleable__content {max-height: 200px;max-width: 100%;overflow: auto;}#sk-container-id-4 input.sk-toggleable__control:checked~label.sk-toggleable__label-arrow:before {content: \"▾\";}#sk-container-id-4 div.sk-estimator input.sk-toggleable__control:checked~label.sk-toggleable__label {background-color: #d4ebff;}#sk-container-id-4 div.sk-label input.sk-toggleable__control:checked~label.sk-toggleable__label {background-color: #d4ebff;}#sk-container-id-4 input.sk-hidden--visually {border: 0;clip: rect(1px 1px 1px 1px);clip: rect(1px, 1px, 1px, 1px);height: 1px;margin: -1px;overflow: hidden;padding: 0;position: absolute;width: 1px;}#sk-container-id-4 div.sk-estimator {font-family: monospace;background-color: #f0f8ff;border: 1px dotted black;border-radius: 0.25em;box-sizing: border-box;margin-bottom: 0.5em;}#sk-container-id-4 div.sk-estimator:hover {background-color: #d4ebff;}#sk-container-id-4 div.sk-parallel-item::after {content: \"\";width: 100%;border-bottom: 1px solid gray;flex-grow: 1;}#sk-container-id-4 div.sk-label:hover label.sk-toggleable__label {background-color: #d4ebff;}#sk-container-id-4 div.sk-serial::before {content: \"\";position: absolute;border-left: 1px solid gray;box-sizing: border-box;top: 0;bottom: 0;left: 50%;z-index: 0;}#sk-container-id-4 div.sk-serial {display: flex;flex-direction: column;align-items: center;background-color: white;padding-right: 0.2em;padding-left: 0.2em;position: relative;}#sk-container-id-4 div.sk-item {position: relative;z-index: 1;}#sk-container-id-4 div.sk-parallel {display: flex;align-items: stretch;justify-content: center;background-color: white;position: relative;}#sk-container-id-4 div.sk-item::before, #sk-container-id-4 div.sk-parallel-item::before {content: \"\";position: absolute;border-left: 1px solid gray;box-sizing: border-box;top: 0;bottom: 0;left: 50%;z-index: -1;}#sk-container-id-4 div.sk-parallel-item {display: flex;flex-direction: column;z-index: 1;position: relative;background-color: white;}#sk-container-id-4 div.sk-parallel-item:first-child::after {align-self: flex-end;width: 50%;}#sk-container-id-4 div.sk-parallel-item:last-child::after {align-self: flex-start;width: 50%;}#sk-container-id-4 div.sk-parallel-item:only-child::after {width: 0;}#sk-container-id-4 div.sk-dashed-wrapped {border: 1px dashed gray;margin: 0 0.4em 0.5em 0.4em;box-sizing: border-box;padding-bottom: 0.4em;background-color: white;}#sk-container-id-4 div.sk-label label {font-family: monospace;font-weight: bold;display: inline-block;line-height: 1.2em;}#sk-container-id-4 div.sk-label-container {text-align: center;}#sk-container-id-4 div.sk-container {/* jupyter's `normalize.less` sets `[hidden] { display: none; }` but bootstrap.min.css set `[hidden] { display: none !important; }` so we also need the `!important` here to be able to override the default hidden behavior on the sphinx rendered scikit-learn.org. See: https://github.com/scikit-learn/scikit-learn/issues/21755 */display: inline-block !important;position: relative;}#sk-container-id-4 div.sk-text-repr-fallback {display: none;}</style><div id=\"sk-container-id-4\" class=\"sk-top-container\"><div class=\"sk-text-repr-fallback\"><pre>RandomizedSearchCV(cv=5,\n",
              "                   estimator=Pipeline(steps=[(&#x27;prep&#x27;,\n",
              "                                              ColumnTransformer(remainder=&#x27;passthrough&#x27;,\n",
              "                                                                transformers=[(&#x27;pipe_median_scale&#x27;,\n",
              "                                                                               Pipeline(steps=[(&#x27;imp_median&#x27;,\n",
              "                                                                                                SimpleImputer(strategy=&#x27;median&#x27;)),\n",
              "                                                                                               (&#x27;scaler&#x27;,\n",
              "                                                                                                RobustScaler())]),\n",
              "                                                                               [&#x27;CREDIT_SCORE&#x27;,\n",
              "                                                                                &#x27;VEHICLE_OWNERSHIP&#x27;,\n",
              "                                                                                &#x27;MARRIED&#x27;,\n",
              "                                                                                &#x27;CHILDREN&#x27;,\n",
              "                                                                                &#x27;ANNUAL_MILEAGE&#x27;,\n",
              "                                                                                &#x27;SPEEDING_VIOLATIONS&#x27;,\n",
              "                                                                                &#x27;DUIS&#x27;,\n",
              "                                                                                &#x27;PAST_ACCIDENTS&#x27;]),\n",
              "                                                                              (...\n",
              "                                                                                         &#x27;mapping&#x27;: {None: 0,\n",
              "                                                                                                     &#x27;0-9y&#x27;: 1,\n",
              "                                                                                                     &#x27;10-19y&#x27;: 2,\n",
              "                                                                                                     &#x27;20-29y&#x27;: 3,\n",
              "                                                                                                     &#x27;30y+&#x27;: 4}},\n",
              "                                                                                        {&#x27;col&#x27;: &#x27;EDUCATION&#x27;,\n",
              "                                                                                         &#x27;mapping&#x27;: {None: 0,\n",
              "                                                                                                     &#x27;high school&#x27;: 1,\n",
              "                                                                                                     &#x27;none&#x27;: 0,\n",
              "                                                                                                     &#x27;university&#x27;: 2}},\n",
              "                                                                                        {&#x27;col&#x27;: &#x27;INCOME&#x27;,\n",
              "                                                                                         &#x27;mapping&#x27;: {None: 0,\n",
              "                                                                                                     &#x27;middle class&#x27;: 3,\n",
              "                                                                                                     &#x27;poverty&#x27;: 1,\n",
              "                                                                                                     &#x27;upper class&#x27;: 4,\n",
              "                                                                                                     &#x27;working class&#x27;: 2}}]],\n",
              "                                        &#x27;prep__pipe_ordinal_scale__scaler&#x27;: [MinMaxScaler(),\n",
              "                                                                             StandardScaler(),\n",
              "                                                                             RobustScaler()]},\n",
              "                   random_state=10, scoring=&#x27;f1&#x27;)</pre><b>In a Jupyter environment, please rerun this cell to show the HTML representation or trust the notebook. <br />On GitHub, the HTML representation is unable to render, please try loading this page with nbviewer.org.</b></div><div class=\"sk-container\" hidden><div class=\"sk-item sk-dashed-wrapped\"><div class=\"sk-label-container\"><div class=\"sk-label sk-toggleable\"><input class=\"sk-toggleable__control sk-hidden--visually\" id=\"sk-estimator-id-39\" type=\"checkbox\" ><label for=\"sk-estimator-id-39\" class=\"sk-toggleable__label sk-toggleable__label-arrow\">RandomizedSearchCV</label><div class=\"sk-toggleable__content\"><pre>RandomizedSearchCV(cv=5,\n",
              "                   estimator=Pipeline(steps=[(&#x27;prep&#x27;,\n",
              "                                              ColumnTransformer(remainder=&#x27;passthrough&#x27;,\n",
              "                                                                transformers=[(&#x27;pipe_median_scale&#x27;,\n",
              "                                                                               Pipeline(steps=[(&#x27;imp_median&#x27;,\n",
              "                                                                                                SimpleImputer(strategy=&#x27;median&#x27;)),\n",
              "                                                                                               (&#x27;scaler&#x27;,\n",
              "                                                                                                RobustScaler())]),\n",
              "                                                                               [&#x27;CREDIT_SCORE&#x27;,\n",
              "                                                                                &#x27;VEHICLE_OWNERSHIP&#x27;,\n",
              "                                                                                &#x27;MARRIED&#x27;,\n",
              "                                                                                &#x27;CHILDREN&#x27;,\n",
              "                                                                                &#x27;ANNUAL_MILEAGE&#x27;,\n",
              "                                                                                &#x27;SPEEDING_VIOLATIONS&#x27;,\n",
              "                                                                                &#x27;DUIS&#x27;,\n",
              "                                                                                &#x27;PAST_ACCIDENTS&#x27;]),\n",
              "                                                                              (...\n",
              "                                                                                         &#x27;mapping&#x27;: {None: 0,\n",
              "                                                                                                     &#x27;0-9y&#x27;: 1,\n",
              "                                                                                                     &#x27;10-19y&#x27;: 2,\n",
              "                                                                                                     &#x27;20-29y&#x27;: 3,\n",
              "                                                                                                     &#x27;30y+&#x27;: 4}},\n",
              "                                                                                        {&#x27;col&#x27;: &#x27;EDUCATION&#x27;,\n",
              "                                                                                         &#x27;mapping&#x27;: {None: 0,\n",
              "                                                                                                     &#x27;high school&#x27;: 1,\n",
              "                                                                                                     &#x27;none&#x27;: 0,\n",
              "                                                                                                     &#x27;university&#x27;: 2}},\n",
              "                                                                                        {&#x27;col&#x27;: &#x27;INCOME&#x27;,\n",
              "                                                                                         &#x27;mapping&#x27;: {None: 0,\n",
              "                                                                                                     &#x27;middle class&#x27;: 3,\n",
              "                                                                                                     &#x27;poverty&#x27;: 1,\n",
              "                                                                                                     &#x27;upper class&#x27;: 4,\n",
              "                                                                                                     &#x27;working class&#x27;: 2}}]],\n",
              "                                        &#x27;prep__pipe_ordinal_scale__scaler&#x27;: [MinMaxScaler(),\n",
              "                                                                             StandardScaler(),\n",
              "                                                                             RobustScaler()]},\n",
              "                   random_state=10, scoring=&#x27;f1&#x27;)</pre></div></div></div><div class=\"sk-parallel\"><div class=\"sk-parallel-item\"><div class=\"sk-item\"><div class=\"sk-label-container\"><div class=\"sk-label sk-toggleable\"><input class=\"sk-toggleable__control sk-hidden--visually\" id=\"sk-estimator-id-40\" type=\"checkbox\" ><label for=\"sk-estimator-id-40\" class=\"sk-toggleable__label sk-toggleable__label-arrow\">estimator: Pipeline</label><div class=\"sk-toggleable__content\"><pre>Pipeline(steps=[(&#x27;prep&#x27;,\n",
              "                 ColumnTransformer(remainder=&#x27;passthrough&#x27;,\n",
              "                                   transformers=[(&#x27;pipe_median_scale&#x27;,\n",
              "                                                  Pipeline(steps=[(&#x27;imp_median&#x27;,\n",
              "                                                                   SimpleImputer(strategy=&#x27;median&#x27;)),\n",
              "                                                                  (&#x27;scaler&#x27;,\n",
              "                                                                   RobustScaler())]),\n",
              "                                                  [&#x27;CREDIT_SCORE&#x27;,\n",
              "                                                   &#x27;VEHICLE_OWNERSHIP&#x27;,\n",
              "                                                   &#x27;MARRIED&#x27;, &#x27;CHILDREN&#x27;,\n",
              "                                                   &#x27;ANNUAL_MILEAGE&#x27;,\n",
              "                                                   &#x27;SPEEDING_VIOLATIONS&#x27;,\n",
              "                                                   &#x27;DUIS&#x27;, &#x27;PAST_ACCIDENTS&#x27;]),\n",
              "                                                 (&#x27;pipe_ordinal_scale&#x27;,\n",
              "                                                  Pipeline(step...\n",
              "                                                                                           {&#x27;col&#x27;: &#x27;INCOME&#x27;,\n",
              "                                                                                            &#x27;data_type&#x27;: dtype(&#x27;O&#x27;),\n",
              "                                                                                            &#x27;mapping&#x27;: poverty          1\n",
              "working class    2\n",
              "middle class     3\n",
              "upper class      4\n",
              "None             0\n",
              "dtype: int64}])),\n",
              "                                                                  (&#x27;scaler&#x27;,\n",
              "                                                                   RobustScaler())]),\n",
              "                                                  [&#x27;AGE&#x27;, &#x27;DRIVING_EXPERIENCE&#x27;,\n",
              "                                                   &#x27;EDUCATION&#x27;, &#x27;INCOME&#x27;]),\n",
              "                                                 (&#x27;onehot&#x27;,\n",
              "                                                  OneHotEncoder(drop=&#x27;first&#x27;),\n",
              "                                                  [&#x27;GENDER&#x27;, &#x27;RACE&#x27;,\n",
              "                                                   &#x27;VEHICLE_YEAR&#x27;,\n",
              "                                                   &#x27;VEHICLE_TYPE&#x27;,\n",
              "                                                   &#x27;POSTAL_CODE&#x27;])])),\n",
              "                (&#x27;algo&#x27;, DecisionTreeClassifier(max_depth=5, random_state=0))])</pre></div></div></div><div class=\"sk-serial\"><div class=\"sk-item\"><div class=\"sk-serial\"><div class=\"sk-item sk-dashed-wrapped\"><div class=\"sk-label-container\"><div class=\"sk-label sk-toggleable\"><input class=\"sk-toggleable__control sk-hidden--visually\" id=\"sk-estimator-id-41\" type=\"checkbox\" ><label for=\"sk-estimator-id-41\" class=\"sk-toggleable__label sk-toggleable__label-arrow\">prep: ColumnTransformer</label><div class=\"sk-toggleable__content\"><pre>ColumnTransformer(remainder=&#x27;passthrough&#x27;,\n",
              "                  transformers=[(&#x27;pipe_median_scale&#x27;,\n",
              "                                 Pipeline(steps=[(&#x27;imp_median&#x27;,\n",
              "                                                  SimpleImputer(strategy=&#x27;median&#x27;)),\n",
              "                                                 (&#x27;scaler&#x27;, RobustScaler())]),\n",
              "                                 [&#x27;CREDIT_SCORE&#x27;, &#x27;VEHICLE_OWNERSHIP&#x27;,\n",
              "                                  &#x27;MARRIED&#x27;, &#x27;CHILDREN&#x27;, &#x27;ANNUAL_MILEAGE&#x27;,\n",
              "                                  &#x27;SPEEDING_VIOLATIONS&#x27;, &#x27;DUIS&#x27;,\n",
              "                                  &#x27;PAST_ACCIDENTS&#x27;]),\n",
              "                                (&#x27;pipe_ordinal_scale&#x27;,\n",
              "                                 Pipeline(steps=[(&#x27;ordinal&#x27;,\n",
              "                                                  OrdinalEnc...\n",
              "                                                                           &#x27;mapping&#x27;: high school    12\n",
              "university     16\n",
              "none            0\n",
              "None            0\n",
              "dtype: int64},\n",
              "                                                                          {&#x27;col&#x27;: &#x27;INCOME&#x27;,\n",
              "                                                                           &#x27;data_type&#x27;: dtype(&#x27;O&#x27;),\n",
              "                                                                           &#x27;mapping&#x27;: poverty          1\n",
              "working class    2\n",
              "middle class     3\n",
              "upper class      4\n",
              "None             0\n",
              "dtype: int64}])),\n",
              "                                                 (&#x27;scaler&#x27;, RobustScaler())]),\n",
              "                                 [&#x27;AGE&#x27;, &#x27;DRIVING_EXPERIENCE&#x27;, &#x27;EDUCATION&#x27;,\n",
              "                                  &#x27;INCOME&#x27;]),\n",
              "                                (&#x27;onehot&#x27;, OneHotEncoder(drop=&#x27;first&#x27;),\n",
              "                                 [&#x27;GENDER&#x27;, &#x27;RACE&#x27;, &#x27;VEHICLE_YEAR&#x27;,\n",
              "                                  &#x27;VEHICLE_TYPE&#x27;, &#x27;POSTAL_CODE&#x27;])])</pre></div></div></div><div class=\"sk-parallel\"><div class=\"sk-parallel-item\"><div class=\"sk-item\"><div class=\"sk-label-container\"><div class=\"sk-label sk-toggleable\"><input class=\"sk-toggleable__control sk-hidden--visually\" id=\"sk-estimator-id-42\" type=\"checkbox\" ><label for=\"sk-estimator-id-42\" class=\"sk-toggleable__label sk-toggleable__label-arrow\">pipe_median_scale</label><div class=\"sk-toggleable__content\"><pre>[&#x27;CREDIT_SCORE&#x27;, &#x27;VEHICLE_OWNERSHIP&#x27;, &#x27;MARRIED&#x27;, &#x27;CHILDREN&#x27;, &#x27;ANNUAL_MILEAGE&#x27;, &#x27;SPEEDING_VIOLATIONS&#x27;, &#x27;DUIS&#x27;, &#x27;PAST_ACCIDENTS&#x27;]</pre></div></div></div><div class=\"sk-serial\"><div class=\"sk-item\"><div class=\"sk-serial\"><div class=\"sk-item\"><div class=\"sk-estimator sk-toggleable\"><input class=\"sk-toggleable__control sk-hidden--visually\" id=\"sk-estimator-id-43\" type=\"checkbox\" ><label for=\"sk-estimator-id-43\" class=\"sk-toggleable__label sk-toggleable__label-arrow\">SimpleImputer</label><div class=\"sk-toggleable__content\"><pre>SimpleImputer(strategy=&#x27;median&#x27;)</pre></div></div></div><div class=\"sk-item\"><div class=\"sk-estimator sk-toggleable\"><input class=\"sk-toggleable__control sk-hidden--visually\" id=\"sk-estimator-id-44\" type=\"checkbox\" ><label for=\"sk-estimator-id-44\" class=\"sk-toggleable__label sk-toggleable__label-arrow\">RobustScaler</label><div class=\"sk-toggleable__content\"><pre>RobustScaler()</pre></div></div></div></div></div></div></div></div><div class=\"sk-parallel-item\"><div class=\"sk-item\"><div class=\"sk-label-container\"><div class=\"sk-label sk-toggleable\"><input class=\"sk-toggleable__control sk-hidden--visually\" id=\"sk-estimator-id-45\" type=\"checkbox\" ><label for=\"sk-estimator-id-45\" class=\"sk-toggleable__label sk-toggleable__label-arrow\">pipe_ordinal_scale</label><div class=\"sk-toggleable__content\"><pre>[&#x27;AGE&#x27;, &#x27;DRIVING_EXPERIENCE&#x27;, &#x27;EDUCATION&#x27;, &#x27;INCOME&#x27;]</pre></div></div></div><div class=\"sk-serial\"><div class=\"sk-item\"><div class=\"sk-serial\"><div class=\"sk-item\"><div class=\"sk-estimator sk-toggleable\"><input class=\"sk-toggleable__control sk-hidden--visually\" id=\"sk-estimator-id-46\" type=\"checkbox\" ><label for=\"sk-estimator-id-46\" class=\"sk-toggleable__label sk-toggleable__label-arrow\">OrdinalEncoder</label><div class=\"sk-toggleable__content\"><pre>OrdinalEncoder(cols=[&#x27;AGE&#x27;, &#x27;DRIVING_EXPERIENCE&#x27;, &#x27;EDUCATION&#x27;, &#x27;INCOME&#x27;],\n",
              "               mapping=[{&#x27;col&#x27;: &#x27;AGE&#x27;, &#x27;data_type&#x27;: dtype(&#x27;O&#x27;),\n",
              "                         &#x27;mapping&#x27;: 16-25    20\n",
              "26-39    33\n",
              "40-64    47\n",
              "65+      70\n",
              "None      0\n",
              "dtype: int64},\n",
              "                        {&#x27;col&#x27;: &#x27;DRIVING_EXPERIENCE&#x27;, &#x27;data_type&#x27;: dtype(&#x27;O&#x27;),\n",
              "                         &#x27;mapping&#x27;: 0-9y       5\n",
              "10-19y    15\n",
              "20-29y    25\n",
              "30y+      35\n",
              "None       0\n",
              "dtype: int64},\n",
              "                        {&#x27;col&#x27;: &#x27;EDUCATION&#x27;, &#x27;data_type&#x27;: dtype(&#x27;O&#x27;),\n",
              "                         &#x27;mapping&#x27;: high school    12\n",
              "university     16\n",
              "none            0\n",
              "None            0\n",
              "dtype: int64},\n",
              "                        {&#x27;col&#x27;: &#x27;INCOME&#x27;, &#x27;data_type&#x27;: dtype(&#x27;O&#x27;),\n",
              "                         &#x27;mapping&#x27;: poverty          1\n",
              "working class    2\n",
              "middle class     3\n",
              "upper class      4\n",
              "None             0\n",
              "dtype: int64}])</pre></div></div></div><div class=\"sk-item\"><div class=\"sk-estimator sk-toggleable\"><input class=\"sk-toggleable__control sk-hidden--visually\" id=\"sk-estimator-id-47\" type=\"checkbox\" ><label for=\"sk-estimator-id-47\" class=\"sk-toggleable__label sk-toggleable__label-arrow\">RobustScaler</label><div class=\"sk-toggleable__content\"><pre>RobustScaler()</pre></div></div></div></div></div></div></div></div><div class=\"sk-parallel-item\"><div class=\"sk-item\"><div class=\"sk-label-container\"><div class=\"sk-label sk-toggleable\"><input class=\"sk-toggleable__control sk-hidden--visually\" id=\"sk-estimator-id-48\" type=\"checkbox\" ><label for=\"sk-estimator-id-48\" class=\"sk-toggleable__label sk-toggleable__label-arrow\">onehot</label><div class=\"sk-toggleable__content\"><pre>[&#x27;GENDER&#x27;, &#x27;RACE&#x27;, &#x27;VEHICLE_YEAR&#x27;, &#x27;VEHICLE_TYPE&#x27;, &#x27;POSTAL_CODE&#x27;]</pre></div></div></div><div class=\"sk-serial\"><div class=\"sk-item\"><div class=\"sk-estimator sk-toggleable\"><input class=\"sk-toggleable__control sk-hidden--visually\" id=\"sk-estimator-id-49\" type=\"checkbox\" ><label for=\"sk-estimator-id-49\" class=\"sk-toggleable__label sk-toggleable__label-arrow\">OneHotEncoder</label><div class=\"sk-toggleable__content\"><pre>OneHotEncoder(drop=&#x27;first&#x27;)</pre></div></div></div></div></div></div><div class=\"sk-parallel-item\"><div class=\"sk-item\"><div class=\"sk-label-container\"><div class=\"sk-label sk-toggleable\"><input class=\"sk-toggleable__control sk-hidden--visually\" id=\"sk-estimator-id-50\" type=\"checkbox\" ><label for=\"sk-estimator-id-50\" class=\"sk-toggleable__label sk-toggleable__label-arrow\">remainder</label><div class=\"sk-toggleable__content\"><pre></pre></div></div></div><div class=\"sk-serial\"><div class=\"sk-item\"><div class=\"sk-estimator sk-toggleable\"><input class=\"sk-toggleable__control sk-hidden--visually\" id=\"sk-estimator-id-51\" type=\"checkbox\" ><label for=\"sk-estimator-id-51\" class=\"sk-toggleable__label sk-toggleable__label-arrow\">passthrough</label><div class=\"sk-toggleable__content\"><pre>passthrough</pre></div></div></div></div></div></div></div></div><div class=\"sk-item\"><div class=\"sk-estimator sk-toggleable\"><input class=\"sk-toggleable__control sk-hidden--visually\" id=\"sk-estimator-id-52\" type=\"checkbox\" ><label for=\"sk-estimator-id-52\" class=\"sk-toggleable__label sk-toggleable__label-arrow\">DecisionTreeClassifier</label><div class=\"sk-toggleable__content\"><pre>DecisionTreeClassifier(max_depth=5, random_state=0)</pre></div></div></div></div></div></div></div></div></div></div></div></div>"
            ],
            "text/plain": [
              "RandomizedSearchCV(cv=5,\n",
              "                   estimator=Pipeline(steps=[('prep',\n",
              "                                              ColumnTransformer(remainder='passthrough',\n",
              "                                                                transformers=[('pipe_median_scale',\n",
              "                                                                               Pipeline(steps=[('imp_median',\n",
              "                                                                                                SimpleImputer(strategy='median')),\n",
              "                                                                                               ('scaler',\n",
              "                                                                                                RobustScaler())]),\n",
              "                                                                               ['CREDIT_SCORE',\n",
              "                                                                                'VEHICLE_OWNERSHIP',\n",
              "                                                                                'MARRIED',\n",
              "                                                                                'CHILDREN',\n",
              "                                                                                'ANNUAL_MILEAGE',\n",
              "                                                                                'SPEEDING_VIOLATIONS',\n",
              "                                                                                'DUIS',\n",
              "                                                                                'PAST_ACCIDENTS']),\n",
              "                                                                              (...\n",
              "                                                                                         'mapping': {None: 0,\n",
              "                                                                                                     '0-9y': 1,\n",
              "                                                                                                     '10-19y': 2,\n",
              "                                                                                                     '20-29y': 3,\n",
              "                                                                                                     '30y+': 4}},\n",
              "                                                                                        {'col': 'EDUCATION',\n",
              "                                                                                         'mapping': {None: 0,\n",
              "                                                                                                     'high school': 1,\n",
              "                                                                                                     'none': 0,\n",
              "                                                                                                     'university': 2}},\n",
              "                                                                                        {'col': 'INCOME',\n",
              "                                                                                         'mapping': {None: 0,\n",
              "                                                                                                     'middle class': 3,\n",
              "                                                                                                     'poverty': 1,\n",
              "                                                                                                     'upper class': 4,\n",
              "                                                                                                     'working class': 2}}]],\n",
              "                                        'prep__pipe_ordinal_scale__scaler': [MinMaxScaler(),\n",
              "                                                                             StandardScaler(),\n",
              "                                                                             RobustScaler()]},\n",
              "                   random_state=10, scoring='f1')"
            ]
          },
          "execution_count": 49,
          "metadata": {},
          "output_type": "execute_result"
        }
      ],
      "source": [
        "# fitting \n",
        "random_search.fit(X_train, y_train)"
      ]
    },
    {
      "cell_type": "code",
      "execution_count": 50,
      "metadata": {
        "colab": {
          "base_uri": "https://localhost:8080/"
        },
        "id": "_iUsUf8Tgmxj",
        "outputId": "bb973a58-4019-4ec9-df44-bc82b43b9aac"
      },
      "outputs": [
        {
          "data": {
            "text/plain": [
              "0.7514493792855339"
            ]
          },
          "execution_count": 50,
          "metadata": {},
          "output_type": "execute_result"
        }
      ],
      "source": [
        "# score terbaik\n",
        "random_search.best_score_"
      ]
    },
    {
      "cell_type": "code",
      "execution_count": 51,
      "metadata": {
        "colab": {
          "base_uri": "https://localhost:8080/"
        },
        "id": "FvwXcyW4gmxj",
        "outputId": "c40b2545-87a0-4d6e-d56e-7b1176ec0abc"
      },
      "outputs": [
        {
          "data": {
            "text/plain": [
              "{'prep__pipe_ordinal_scale__scaler': StandardScaler(),\n",
              " 'prep__pipe_ordinal_scale__ordinal__mapping': [{'col': 'AGE',\n",
              "   'mapping': 16-25    20\n",
              "   26-39    33\n",
              "   40-64    47\n",
              "   65+      70\n",
              "   None      0\n",
              "   dtype: int64,\n",
              "   'data_type': dtype('O')},\n",
              "  {'col': 'DRIVING_EXPERIENCE',\n",
              "   'mapping': 0-9y       5\n",
              "   10-19y    15\n",
              "   20-29y    25\n",
              "   30y+      35\n",
              "   None       0\n",
              "   dtype: int64,\n",
              "   'data_type': dtype('O')},\n",
              "  {'col': 'EDUCATION',\n",
              "   'mapping': high school    12\n",
              "   university     16\n",
              "   none            0\n",
              "   None            0\n",
              "   dtype: int64,\n",
              "   'data_type': dtype('O')},\n",
              "  {'col': 'INCOME',\n",
              "   'mapping': poverty          1\n",
              "   working class    2\n",
              "   middle class     3\n",
              "   upper class      4\n",
              "   None             0\n",
              "   dtype: int64,\n",
              "   'data_type': dtype('O')}],\n",
              " 'prep__pipe_median_scale__scaler': MinMaxScaler(),\n",
              " 'algo__min_samples_split': 60,\n",
              " 'algo__min_samples_leaf': 29,\n",
              " 'algo__max_depth': 16}"
            ]
          },
          "execution_count": 51,
          "metadata": {},
          "output_type": "execute_result"
        }
      ],
      "source": [
        "# hyperparameter terbaik\n",
        "random_search.best_params_"
      ]
    },
    {
      "cell_type": "code",
      "execution_count": 52,
      "metadata": {
        "id": "GwhJjSFYgmxj"
      },
      "outputs": [],
      "source": [
        "# model terbaik\n",
        "# random_search.best_estimator_"
      ]
    },
    {
      "cell_type": "code",
      "execution_count": 53,
      "metadata": {
        "colab": {
          "base_uri": "https://localhost:8080/",
          "height": 357
        },
        "id": "62QD9Iqqgmxk",
        "outputId": "135322df-fa95-4f5c-b72d-25373f842ff5"
      },
      "outputs": [
        {
          "data": {
            "text/html": [
              "<div>\n",
              "<style scoped>\n",
              "    .dataframe tbody tr th:only-of-type {\n",
              "        vertical-align: middle;\n",
              "    }\n",
              "\n",
              "    .dataframe tbody tr th {\n",
              "        vertical-align: top;\n",
              "    }\n",
              "\n",
              "    .dataframe thead th {\n",
              "        text-align: right;\n",
              "    }\n",
              "</style>\n",
              "<table border=\"1\" class=\"dataframe\">\n",
              "  <thead>\n",
              "    <tr style=\"text-align: right;\">\n",
              "      <th></th>\n",
              "      <th>mean_fit_time</th>\n",
              "      <th>std_fit_time</th>\n",
              "      <th>mean_score_time</th>\n",
              "      <th>std_score_time</th>\n",
              "      <th>param_prep__pipe_ordinal_scale__scaler</th>\n",
              "      <th>param_prep__pipe_ordinal_scale__ordinal__mapping</th>\n",
              "      <th>param_prep__pipe_median_scale__scaler</th>\n",
              "      <th>param_algo__min_samples_split</th>\n",
              "      <th>param_algo__min_samples_leaf</th>\n",
              "      <th>param_algo__max_depth</th>\n",
              "      <th>params</th>\n",
              "      <th>split0_test_score</th>\n",
              "      <th>split1_test_score</th>\n",
              "      <th>split2_test_score</th>\n",
              "      <th>split3_test_score</th>\n",
              "      <th>split4_test_score</th>\n",
              "      <th>mean_test_score</th>\n",
              "      <th>std_test_score</th>\n",
              "      <th>rank_test_score</th>\n",
              "    </tr>\n",
              "  </thead>\n",
              "  <tbody>\n",
              "    <tr>\n",
              "      <th>151</th>\n",
              "      <td>0.144289</td>\n",
              "      <td>0.004738</td>\n",
              "      <td>0.032666</td>\n",
              "      <td>0.005603</td>\n",
              "      <td>StandardScaler()</td>\n",
              "      <td>[{'col': 'AGE', 'mapping': [20, 33, 47, 70, 0]...</td>\n",
              "      <td>MinMaxScaler()</td>\n",
              "      <td>60</td>\n",
              "      <td>29</td>\n",
              "      <td>16</td>\n",
              "      <td>{'prep__pipe_ordinal_scale__scaler': StandardS...</td>\n",
              "      <td>0.746146</td>\n",
              "      <td>0.729941</td>\n",
              "      <td>0.744980</td>\n",
              "      <td>0.777559</td>\n",
              "      <td>0.758621</td>\n",
              "      <td>0.751449</td>\n",
              "      <td>0.015911</td>\n",
              "      <td>1</td>\n",
              "    </tr>\n",
              "    <tr>\n",
              "      <th>141</th>\n",
              "      <td>0.155788</td>\n",
              "      <td>0.008447</td>\n",
              "      <td>0.029648</td>\n",
              "      <td>0.004053</td>\n",
              "      <td>StandardScaler()</td>\n",
              "      <td>[{'col': 'AGE', 'mapping': [20, 33, 47, 70, 0]...</td>\n",
              "      <td>StandardScaler()</td>\n",
              "      <td>5</td>\n",
              "      <td>29</td>\n",
              "      <td>12</td>\n",
              "      <td>{'prep__pipe_ordinal_scale__scaler': StandardS...</td>\n",
              "      <td>0.746146</td>\n",
              "      <td>0.727094</td>\n",
              "      <td>0.744980</td>\n",
              "      <td>0.777559</td>\n",
              "      <td>0.758621</td>\n",
              "      <td>0.750880</td>\n",
              "      <td>0.016702</td>\n",
              "      <td>2</td>\n",
              "    </tr>\n",
              "    <tr>\n",
              "      <th>20</th>\n",
              "      <td>0.200297</td>\n",
              "      <td>0.026113</td>\n",
              "      <td>0.045861</td>\n",
              "      <td>0.007995</td>\n",
              "      <td>StandardScaler()</td>\n",
              "      <td>[{'col': 'AGE', 'mapping': {'16-25': 1, '26-39...</td>\n",
              "      <td>RobustScaler()</td>\n",
              "      <td>38</td>\n",
              "      <td>28</td>\n",
              "      <td>18</td>\n",
              "      <td>{'prep__pipe_ordinal_scale__scaler': StandardS...</td>\n",
              "      <td>0.747967</td>\n",
              "      <td>0.727094</td>\n",
              "      <td>0.740061</td>\n",
              "      <td>0.776680</td>\n",
              "      <td>0.758621</td>\n",
              "      <td>0.750085</td>\n",
              "      <td>0.016815</td>\n",
              "      <td>3</td>\n",
              "    </tr>\n",
              "    <tr>\n",
              "      <th>188</th>\n",
              "      <td>0.155696</td>\n",
              "      <td>0.011038</td>\n",
              "      <td>0.033939</td>\n",
              "      <td>0.005480</td>\n",
              "      <td>MinMaxScaler()</td>\n",
              "      <td>[{'col': 'AGE', 'mapping': {'16-25': 1, '26-39...</td>\n",
              "      <td>RobustScaler()</td>\n",
              "      <td>30</td>\n",
              "      <td>27</td>\n",
              "      <td>18</td>\n",
              "      <td>{'prep__pipe_ordinal_scale__scaler': MinMaxSca...</td>\n",
              "      <td>0.755556</td>\n",
              "      <td>0.725838</td>\n",
              "      <td>0.733401</td>\n",
              "      <td>0.775470</td>\n",
              "      <td>0.757360</td>\n",
              "      <td>0.749525</td>\n",
              "      <td>0.017843</td>\n",
              "      <td>4</td>\n",
              "    </tr>\n",
              "    <tr>\n",
              "      <th>3</th>\n",
              "      <td>0.231066</td>\n",
              "      <td>0.023354</td>\n",
              "      <td>0.057955</td>\n",
              "      <td>0.013240</td>\n",
              "      <td>StandardScaler()</td>\n",
              "      <td>[{'col': 'AGE', 'mapping': [20, 33, 47, 70, 0]...</td>\n",
              "      <td>StandardScaler()</td>\n",
              "      <td>35</td>\n",
              "      <td>32</td>\n",
              "      <td>13</td>\n",
              "      <td>{'prep__pipe_ordinal_scale__scaler': StandardS...</td>\n",
              "      <td>0.738720</td>\n",
              "      <td>0.733463</td>\n",
              "      <td>0.747475</td>\n",
              "      <td>0.771229</td>\n",
              "      <td>0.756098</td>\n",
              "      <td>0.749397</td>\n",
              "      <td>0.013365</td>\n",
              "      <td>5</td>\n",
              "    </tr>\n",
              "  </tbody>\n",
              "</table>\n",
              "</div>"
            ],
            "text/plain": [
              "     mean_fit_time  std_fit_time  mean_score_time  std_score_time  \\\n",
              "151       0.144289      0.004738         0.032666        0.005603   \n",
              "141       0.155788      0.008447         0.029648        0.004053   \n",
              "20        0.200297      0.026113         0.045861        0.007995   \n",
              "188       0.155696      0.011038         0.033939        0.005480   \n",
              "3         0.231066      0.023354         0.057955        0.013240   \n",
              "\n",
              "    param_prep__pipe_ordinal_scale__scaler  \\\n",
              "151                       StandardScaler()   \n",
              "141                       StandardScaler()   \n",
              "20                        StandardScaler()   \n",
              "188                         MinMaxScaler()   \n",
              "3                         StandardScaler()   \n",
              "\n",
              "      param_prep__pipe_ordinal_scale__ordinal__mapping  \\\n",
              "151  [{'col': 'AGE', 'mapping': [20, 33, 47, 70, 0]...   \n",
              "141  [{'col': 'AGE', 'mapping': [20, 33, 47, 70, 0]...   \n",
              "20   [{'col': 'AGE', 'mapping': {'16-25': 1, '26-39...   \n",
              "188  [{'col': 'AGE', 'mapping': {'16-25': 1, '26-39...   \n",
              "3    [{'col': 'AGE', 'mapping': [20, 33, 47, 70, 0]...   \n",
              "\n",
              "    param_prep__pipe_median_scale__scaler param_algo__min_samples_split  \\\n",
              "151                        MinMaxScaler()                            60   \n",
              "141                      StandardScaler()                             5   \n",
              "20                         RobustScaler()                            38   \n",
              "188                        RobustScaler()                            30   \n",
              "3                        StandardScaler()                            35   \n",
              "\n",
              "    param_algo__min_samples_leaf param_algo__max_depth  \\\n",
              "151                           29                    16   \n",
              "141                           29                    12   \n",
              "20                            28                    18   \n",
              "188                           27                    18   \n",
              "3                             32                    13   \n",
              "\n",
              "                                                params  split0_test_score  \\\n",
              "151  {'prep__pipe_ordinal_scale__scaler': StandardS...           0.746146   \n",
              "141  {'prep__pipe_ordinal_scale__scaler': StandardS...           0.746146   \n",
              "20   {'prep__pipe_ordinal_scale__scaler': StandardS...           0.747967   \n",
              "188  {'prep__pipe_ordinal_scale__scaler': MinMaxSca...           0.755556   \n",
              "3    {'prep__pipe_ordinal_scale__scaler': StandardS...           0.738720   \n",
              "\n",
              "     split1_test_score  split2_test_score  split3_test_score  \\\n",
              "151           0.729941           0.744980           0.777559   \n",
              "141           0.727094           0.744980           0.777559   \n",
              "20            0.727094           0.740061           0.776680   \n",
              "188           0.725838           0.733401           0.775470   \n",
              "3             0.733463           0.747475           0.771229   \n",
              "\n",
              "     split4_test_score  mean_test_score  std_test_score  rank_test_score  \n",
              "151           0.758621         0.751449        0.015911                1  \n",
              "141           0.758621         0.750880        0.016702                2  \n",
              "20            0.758621         0.750085        0.016815                3  \n",
              "188           0.757360         0.749525        0.017843                4  \n",
              "3             0.756098         0.749397        0.013365                5  "
            ]
          },
          "execution_count": 53,
          "metadata": {},
          "output_type": "execute_result"
        }
      ],
      "source": [
        "# score MAE pada tiap kombinasi hyperparameter\n",
        "cv_output = pd.DataFrame(random_search.cv_results_).sort_values('mean_test_score', ascending=False)\n",
        "cv_output.head()"
      ]
    },
    {
      "attachments": {},
      "cell_type": "markdown",
      "metadata": {
        "id": "yp8oU355EC4n"
      },
      "source": [
        "Performa model di Train Set\n",
        "- Benchmark model: 0.729\n",
        "- Hyperparameter Tuning (GridSearchCV): 0.747\n",
        "- Hyperparameter Tuning (RandomizedSearchCV): 0.750\n"
      ]
    },
    {
      "cell_type": "markdown",
      "metadata": {
        "id": "OJPgjRI1P5Xs"
      },
      "source": [
        "## Predict to Test Set\n",
        "\n",
        "- Melakukan prediksi pada test set dengan menggunakan model terbaik dan hyperparameter terbaik.\n",
        "- Membandingkan performa model sebelum tuning dan setelah tuning.\n"
      ]
    },
    {
      "attachments": {},
      "cell_type": "markdown",
      "metadata": {
        "id": "nxDgz0n4P5Ru"
      },
      "source": [
        "### Before Tuning"
      ]
    },
    {
      "cell_type": "code",
      "execution_count": 54,
      "metadata": {
        "colab": {
          "base_uri": "https://localhost:8080/"
        },
        "id": "Xwf5_-ZZP5L1",
        "outputId": "5cfb793a-d397-4389-c2d9-38cf0a59d892"
      },
      "outputs": [
        {
          "data": {
            "text/plain": [
              "0.7531172069825437"
            ]
          },
          "execution_count": 54,
          "metadata": {},
          "output_type": "execute_result"
        }
      ],
      "source": [
        "# define model\n",
        "model = DecisionTreeClassifier(max_depth=5)\n",
        "pipe_model = Pipeline([\n",
        "    ('transformer',transformer),\n",
        "    ('scaler', robust),\n",
        "    ('algo', model)          # benchmark model terpilih\n",
        "])\n",
        "\n",
        "# fitting\n",
        "pipe_model.fit(X_train, y_train)\n",
        "\n",
        "# predict\n",
        "y_pred_benchmark = pipe_model.predict(X_test)\n",
        "f1_score(y_test, y_pred_benchmark)\n"
      ]
    },
    {
      "cell_type": "markdown",
      "metadata": {
        "id": "b_xE6r-2P5A-"
      },
      "source": [
        "### After Tuning "
      ]
    },
    {
      "attachments": {},
      "cell_type": "markdown",
      "metadata": {},
      "source": [
        "**GridSearch**"
      ]
    },
    {
      "cell_type": "code",
      "execution_count": 55,
      "metadata": {
        "colab": {
          "base_uri": "https://localhost:8080/"
        },
        "id": "QtJRTwaOP4y0",
        "outputId": "6d2fcbc6-9740-49da-a1ce-7a537aff78c7"
      },
      "outputs": [
        {
          "data": {
            "text/plain": [
              "0.768621236133122"
            ]
          },
          "execution_count": 55,
          "metadata": {},
          "output_type": "execute_result"
        }
      ],
      "source": [
        "# menggunakan model terbaik hasil gridsearch\n",
        "model = gridsearch.best_estimator_\n",
        "model.fit(X_train, y_train)\n",
        "\n",
        "y_pred_gridsearch = model.predict(X_test)\n",
        "f1_score(y_test, y_pred_gridsearch) "
      ]
    },
    {
      "attachments": {},
      "cell_type": "markdown",
      "metadata": {},
      "source": [
        "**RandomizedSearch**"
      ]
    },
    {
      "cell_type": "code",
      "execution_count": 56,
      "metadata": {
        "colab": {
          "base_uri": "https://localhost:8080/"
        },
        "id": "blr0AMkBECzn",
        "outputId": "e3972dec-b1be-4aed-e2fe-39ac6cba7794"
      },
      "outputs": [
        {
          "data": {
            "text/plain": [
              "0.7671665351223361"
            ]
          },
          "execution_count": 56,
          "metadata": {},
          "output_type": "execute_result"
        }
      ],
      "source": [
        "# menggunakan model terbaik hasil random_search\n",
        "model = random_search.best_estimator_\n",
        "model.fit(X_train, y_train)\n",
        "\n",
        "y_pred_randomizedsearch = model.predict(X_test)\n",
        "f1_score(y_test, y_pred_randomizedsearch)"
      ]
    },
    {
      "attachments": {},
      "cell_type": "markdown",
      "metadata": {},
      "source": [
        "## Summary"
      ]
    },
    {
      "attachments": {},
      "cell_type": "markdown",
      "metadata": {},
      "source": [
        "Performa Decision Tree pada Train Set"
      ]
    },
    {
      "cell_type": "code",
      "execution_count": 57,
      "metadata": {},
      "outputs": [
        {
          "name": "stdout",
          "output_type": "stream",
          "text": [
            "0.7353 Score Benchmark (sebelum hyperparameter tuning)\n",
            "0.7457 Score Model hasil GridSearch (setelah hyperparameter tuning)\n",
            "0.7514 Score Model hasil RandomizedSearch (setelah hyperparameter tuning)\n"
          ]
        }
      ],
      "source": [
        "print(df_cv.loc[2, 'mean'].round(4), 'Score Benchmark (sebelum hyperparameter tuning)')\n",
        "print(gridsearch.best_score_.round(4), 'Score Model hasil GridSearch (setelah hyperparameter tuning)')\n",
        "print(random_search.best_score_.round(4), 'Score Model hasil RandomizedSearch (setelah hyperparameter tuning)') "
      ]
    },
    {
      "attachments": {},
      "cell_type": "markdown",
      "metadata": {
        "id": "k6d5m63YrLcQ"
      },
      "source": [
        "Performa Decision Tree pada Test Set"
      ]
    },
    {
      "cell_type": "code",
      "execution_count": 58,
      "metadata": {},
      "outputs": [
        {
          "name": "stdout",
          "output_type": "stream",
          "text": [
            "0.7531 Score Benchmark (sebelum hyperparameter tuning)\n",
            "0.7686 Score Model hasil GridSearch (setelah hyperparameter tuning)\n",
            "0.7672 Score Model hasil RandomizedSearch (setelah hyperparameter tuning)\n"
          ]
        }
      ],
      "source": [
        "print(f1_score(y_test, y_pred_benchmark).round(4), 'Score Benchmark (sebelum hyperparameter tuning)')\n",
        "print(f1_score(y_test, y_pred_gridsearch).round(4), 'Score Model hasil GridSearch (setelah hyperparameter tuning)')\n",
        "print(f1_score(y_test, y_pred_randomizedsearch).round(4), 'Score Model hasil RandomizedSearch (setelah hyperparameter tuning)')\n"
      ]
    },
    {
      "attachments": {},
      "cell_type": "markdown",
      "metadata": {},
      "source": [
        "---\n",
        "---"
      ]
    },
    {
      "cell_type": "code",
      "execution_count": 59,
      "metadata": {
        "colab": {
          "base_uri": "https://localhost:8080/"
        },
        "id": "wNAQNr7p_YVS",
        "outputId": "8449f1de-1207-480b-a85b-d0769fcb92b4"
      },
      "outputs": [
        {
          "name": "stdout",
          "output_type": "stream",
          "text": [
            "              precision    recall  f1-score   support\n",
            "\n",
            "         0.0       0.90      0.89      0.89      1373\n",
            "         1.0       0.76      0.77      0.77       627\n",
            "\n",
            "    accuracy                           0.85      2000\n",
            "   macro avg       0.83      0.83      0.83      2000\n",
            "weighted avg       0.85      0.85      0.85      2000\n",
            "\n"
          ]
        }
      ],
      "source": [
        "print(classification_report(y_test, y_pred_gridsearch))"
      ]
    },
    {
      "cell_type": "code",
      "execution_count": 60,
      "metadata": {},
      "outputs": [],
      "source": [
        "# model.predict_proba(X_test)"
      ]
    },
    {
      "cell_type": "code",
      "execution_count": 61,
      "metadata": {},
      "outputs": [],
      "source": [
        "# predict probabilities\n",
        "y_pred_proba = model.predict_proba(X_test)\n",
        "\n",
        "# keep probabilities for the positive outcome only\n",
        "y_pred_proba = y_pred_proba[:, 1]\n",
        "\n",
        "# calculate pr-curve\n",
        "precision, recall, thresholds = precision_recall_curve(y_test, y_pred_proba)"
      ]
    },
    {
      "cell_type": "code",
      "execution_count": 62,
      "metadata": {},
      "outputs": [
        {
          "data": {
            "text/html": [
              "<div>\n",
              "<style scoped>\n",
              "    .dataframe tbody tr th:only-of-type {\n",
              "        vertical-align: middle;\n",
              "    }\n",
              "\n",
              "    .dataframe tbody tr th {\n",
              "        vertical-align: top;\n",
              "    }\n",
              "\n",
              "    .dataframe thead th {\n",
              "        text-align: right;\n",
              "    }\n",
              "</style>\n",
              "<table border=\"1\" class=\"dataframe\">\n",
              "  <thead>\n",
              "    <tr style=\"text-align: right;\">\n",
              "      <th></th>\n",
              "      <th>precision</th>\n",
              "      <th>recall</th>\n",
              "      <th>thresholds</th>\n",
              "    </tr>\n",
              "  </thead>\n",
              "  <tbody>\n",
              "    <tr>\n",
              "      <th>124</th>\n",
              "      <td>1.000000</td>\n",
              "      <td>0.000000</td>\n",
              "      <td>0.000000</td>\n",
              "    </tr>\n",
              "    <tr>\n",
              "      <th>122</th>\n",
              "      <td>0.976190</td>\n",
              "      <td>0.130781</td>\n",
              "      <td>0.982143</td>\n",
              "    </tr>\n",
              "    <tr>\n",
              "      <th>123</th>\n",
              "      <td>0.971831</td>\n",
              "      <td>0.110048</td>\n",
              "      <td>1.000000</td>\n",
              "    </tr>\n",
              "    <tr>\n",
              "      <th>119</th>\n",
              "      <td>0.957983</td>\n",
              "      <td>0.181818</td>\n",
              "      <td>0.947368</td>\n",
              "    </tr>\n",
              "    <tr>\n",
              "      <th>120</th>\n",
              "      <td>0.952830</td>\n",
              "      <td>0.161085</td>\n",
              "      <td>0.953488</td>\n",
              "    </tr>\n",
              "  </tbody>\n",
              "</table>\n",
              "</div>"
            ],
            "text/plain": [
              "     precision    recall  thresholds\n",
              "124   1.000000  0.000000    0.000000\n",
              "122   0.976190  0.130781    0.982143\n",
              "123   0.971831  0.110048    1.000000\n",
              "119   0.957983  0.181818    0.947368\n",
              "120   0.952830  0.161085    0.953488"
            ]
          },
          "execution_count": 62,
          "metadata": {},
          "output_type": "execute_result"
        }
      ],
      "source": [
        "df_pr_curve = pd.DataFrame({\n",
        "    'precision': precision,\n",
        "    'recall': recall,\n",
        "    'thresholds': list(thresholds) + [0]\n",
        "}).sort_values('precision', ascending=False)\n",
        "\n",
        "df_pr_curve.head()"
      ]
    },
    {
      "cell_type": "code",
      "execution_count": 63,
      "metadata": {},
      "outputs": [
        {
          "data": {
            "text/plain": [
              "''"
            ]
          },
          "execution_count": 63,
          "metadata": {},
          "output_type": "execute_result"
        },
        {
          "data": {
            "image/png": "[encoded data removed]",
            "text/plain": [
              "<Figure size 640x480 with 1 Axes>"
            ]
          },
          "metadata": {},
          "output_type": "display_data"
        }
      ],
      "source": [
        "# Cara buat Precision Recall Curve manual\n",
        "\n",
        "sns.lineplot(data=df_pr_curve, x='recall', y='precision', color='b')\n",
        "sns.scatterplot(data=df_pr_curve, x='recall', y='precision', color='b')\n",
        "\n",
        "plt.xlabel('Recall')\n",
        "plt.ylabel('Precision')\n",
        "plt.title('Precision Recall Curve', size=14)\n",
        ";"
      ]
    },
    {
      "cell_type": "code",
      "execution_count": 64,
      "metadata": {
        "colab": {
          "base_uri": "https://localhost:8080/",
          "height": 342
        },
        "id": "7q_fxohp_xFk",
        "outputId": "9c04aa9f-e5fc-43aa-faf6-5ea098465968"
      },
      "outputs": [
        {
          "ename": "NameError",
          "evalue": "name 'plot_precision_recall_curve' is not defined",
          "output_type": "error",
          "traceback": [
            "\u001b[1;31m---------------------------------------------------------------------------\u001b[0m",
            "\u001b[1;31mNameError\u001b[0m                                 Traceback (most recent call last)",
            "Cell \u001b[1;32mIn [64], line 2\u001b[0m\n\u001b[0;32m      1\u001b[0m \u001b[39m# PR curve\u001b[39;00m\n\u001b[1;32m----> 2\u001b[0m plot_precision_recall_curve(model, X_test, y_test);\n",
            "\u001b[1;31mNameError\u001b[0m: name 'plot_precision_recall_curve' is not defined"
          ]
        }
      ],
      "source": [
        "# PR curve\n",
        "plot_precision_recall_curve(model, X_test, y_test);"
      ]
    },
    {
      "cell_type": "code",
      "execution_count": null,
      "metadata": {
        "colab": {
          "base_uri": "https://localhost:8080/"
        },
        "id": "FNCQgaN5_a-C",
        "outputId": "924b9cc6-bb5b-46c1-a110-90c569a6ff15"
      },
      "outputs": [
        {
          "data": {
            "text/plain": [
              "array([[1223,  150],\n",
              "       [ 142,  485]], dtype=int64)"
            ]
          },
          "execution_count": 675,
          "metadata": {},
          "output_type": "execute_result"
        }
      ],
      "source": [
        "confusion_matrix(y_test, y_pred_gridsearch)"
      ]
    },
    {
      "attachments": {},
      "cell_type": "markdown",
      "metadata": {},
      "source": [
        "### Confusion Matrix"
      ]
    },
    {
      "cell_type": "code",
      "execution_count": null,
      "metadata": {},
      "outputs": [
        {
          "data": {
            "image/png": "[encoded data removed]",
            "text/plain": [
              "<Figure size 432x288 with 2 Axes>"
            ]
          },
          "metadata": {},
          "output_type": "display_data"
        }
      ],
      "source": [
        "# Model sebelum tuning\n",
        "sns.heatmap(confusion_matrix(y_test, y_pred_benchmark), annot=True, fmt='g');"
      ]
    },
    {
      "cell_type": "code",
      "execution_count": null,
      "metadata": {
        "colab": {
          "base_uri": "https://localhost:8080/",
          "height": 269
        },
        "id": "ZK0PHguX_uJZ",
        "outputId": "29c59274-82c8-42cd-dccf-e8677cef2970"
      },
      "outputs": [
        {
          "data": {
            "image/png": "[encoded data removed]",
            "text/plain": [
              "<Figure size 432x288 with 2 Axes>"
            ]
          },
          "metadata": {},
          "output_type": "display_data"
        }
      ],
      "source": [
        "# Model setelah tuning\n",
        "sns.heatmap(confusion_matrix(y_test, y_pred_gridsearch), annot=True, fmt='g');"
      ]
    },
    {
      "attachments": {},
      "cell_type": "markdown",
      "metadata": {
        "id": "-Xb1DveUQzRe"
      },
      "source": [
        "- TP: 485 (diprediksi melakukan claim, dan aktualnya juga melakukan claim)\n",
        "- TN: 1223 (diprediksi tidak melakukan claim, dan aktualnya juga tidak melakukan claim)\n",
        "- FP: 150 (diprediksi melakukan claim, tapi aktualnya TIDAK melakukan claim)\n",
        "- FN: 142 (diprediksi TIDAK melakukan claim, tapi aktualnya melakukan claim)\n",
        "\n",
        "**FP cost:** \n",
        "- Kita memprediksi si calon nasabah akan melakukan klaim yg mana akan membuat perusahaan mengeluarkan uang, padahal ternyata aktualnya dia tidak melakukan claim. \n",
        "- Karena kita memprediksi si calon nasabah akan melakukan klaim, jadi tidak kita prospek/hubungi.\n",
        "- Akibatnya kita kehilangan calon nasabah yg sebenarnya akan meberi keuntungan untuk kita.\n",
        "\n",
        "**FN cost:** \n",
        "- Kita memprediksi si calon nasabah TIDAK akan melakukan klaim, yg artinya TIDAK akan membuat perusahaan mengeluarkan uang, padahal ternyata aktualnya dia melakukan claim. \n",
        "- Karena kita memprediksi si calon nasabah TIDAK akan melakukan klaim, jadi kita prospek/hubungi, dan si calon nasabah akan menjadi nasabah.\n",
        "- Akibatnya kita mengeluarkan biaya tidak terduga untuk membayar claim tersebut."
      ]
    },
    {
      "cell_type": "code",
      "execution_count": null,
      "metadata": {
        "id": "8eEuxibrMUi2"
      },
      "outputs": [],
      "source": [
        "# ?plot_tree"
      ]
    },
    {
      "cell_type": "code",
      "execution_count": null,
      "metadata": {
        "colab": {
          "base_uri": "https://localhost:8080/"
        },
        "id": "P941eIM4hWzw",
        "outputId": "0ed77341-2236-434f-d69a-c4f556f3bc49"
      },
      "outputs": [
        {
          "data": {
            "text/html": [
              "<style>#sk-container-id-27 {color: black;background-color: white;}#sk-container-id-27 pre{padding: 0;}#sk-container-id-27 div.sk-toggleable {background-color: white;}#sk-container-id-27 label.sk-toggleable__label {cursor: pointer;display: block;width: 100%;margin-bottom: 0;padding: 0.3em;box-sizing: border-box;text-align: center;}#sk-container-id-27 label.sk-toggleable__label-arrow:before {content: \"▸\";float: left;margin-right: 0.25em;color: #696969;}#sk-container-id-27 label.sk-toggleable__label-arrow:hover:before {color: black;}#sk-container-id-27 div.sk-estimator:hover label.sk-toggleable__label-arrow:before {color: black;}#sk-container-id-27 div.sk-toggleable__content {max-height: 0;max-width: 0;overflow: hidden;text-align: left;background-color: #f0f8ff;}#sk-container-id-27 div.sk-toggleable__content pre {margin: 0.2em;color: black;border-radius: 0.25em;background-color: #f0f8ff;}#sk-container-id-27 input.sk-toggleable__control:checked~div.sk-toggleable__content {max-height: 200px;max-width: 100%;overflow: auto;}#sk-container-id-27 input.sk-toggleable__control:checked~label.sk-toggleable__label-arrow:before {content: \"▾\";}#sk-container-id-27 div.sk-estimator input.sk-toggleable__control:checked~label.sk-toggleable__label {background-color: #d4ebff;}#sk-container-id-27 div.sk-label input.sk-toggleable__control:checked~label.sk-toggleable__label {background-color: #d4ebff;}#sk-container-id-27 input.sk-hidden--visually {border: 0;clip: rect(1px 1px 1px 1px);clip: rect(1px, 1px, 1px, 1px);height: 1px;margin: -1px;overflow: hidden;padding: 0;position: absolute;width: 1px;}#sk-container-id-27 div.sk-estimator {font-family: monospace;background-color: #f0f8ff;border: 1px dotted black;border-radius: 0.25em;box-sizing: border-box;margin-bottom: 0.5em;}#sk-container-id-27 div.sk-estimator:hover {background-color: #d4ebff;}#sk-container-id-27 div.sk-parallel-item::after {content: \"\";width: 100%;border-bottom: 1px solid gray;flex-grow: 1;}#sk-container-id-27 div.sk-label:hover label.sk-toggleable__label {background-color: #d4ebff;}#sk-container-id-27 div.sk-serial::before {content: \"\";position: absolute;border-left: 1px solid gray;box-sizing: border-box;top: 0;bottom: 0;left: 50%;z-index: 0;}#sk-container-id-27 div.sk-serial {display: flex;flex-direction: column;align-items: center;background-color: white;padding-right: 0.2em;padding-left: 0.2em;position: relative;}#sk-container-id-27 div.sk-item {position: relative;z-index: 1;}#sk-container-id-27 div.sk-parallel {display: flex;align-items: stretch;justify-content: center;background-color: white;position: relative;}#sk-container-id-27 div.sk-item::before, #sk-container-id-27 div.sk-parallel-item::before {content: \"\";position: absolute;border-left: 1px solid gray;box-sizing: border-box;top: 0;bottom: 0;left: 50%;z-index: -1;}#sk-container-id-27 div.sk-parallel-item {display: flex;flex-direction: column;z-index: 1;position: relative;background-color: white;}#sk-container-id-27 div.sk-parallel-item:first-child::after {align-self: flex-end;width: 50%;}#sk-container-id-27 div.sk-parallel-item:last-child::after {align-self: flex-start;width: 50%;}#sk-container-id-27 div.sk-parallel-item:only-child::after {width: 0;}#sk-container-id-27 div.sk-dashed-wrapped {border: 1px dashed gray;margin: 0 0.4em 0.5em 0.4em;box-sizing: border-box;padding-bottom: 0.4em;background-color: white;}#sk-container-id-27 div.sk-label label {font-family: monospace;font-weight: bold;display: inline-block;line-height: 1.2em;}#sk-container-id-27 div.sk-label-container {text-align: center;}#sk-container-id-27 div.sk-container {/* jupyter's `normalize.less` sets `[hidden] { display: none; }` but bootstrap.min.css set `[hidden] { display: none !important; }` so we also need the `!important` here to be able to override the default hidden behavior on the sphinx rendered scikit-learn.org. See: https://github.com/scikit-learn/scikit-learn/issues/21755 */display: inline-block !important;position: relative;}#sk-container-id-27 div.sk-text-repr-fallback {display: none;}</style><div id=\"sk-container-id-27\" class=\"sk-top-container\"><div class=\"sk-text-repr-fallback\"><pre>ColumnTransformer(remainder=&#x27;passthrough&#x27;,\n",
              "                  transformers=[(&#x27;pipe_median_scale&#x27;,\n",
              "                                 Pipeline(steps=[(&#x27;imp_median&#x27;,\n",
              "                                                  SimpleImputer(strategy=&#x27;median&#x27;)),\n",
              "                                                 (&#x27;scaler&#x27;, RobustScaler())]),\n",
              "                                 [&#x27;CREDIT_SCORE&#x27;, &#x27;VEHICLE_OWNERSHIP&#x27;,\n",
              "                                  &#x27;MARRIED&#x27;, &#x27;CHILDREN&#x27;, &#x27;ANNUAL_MILEAGE&#x27;,\n",
              "                                  &#x27;SPEEDING_VIOLATIONS&#x27;, &#x27;DUIS&#x27;,\n",
              "                                  &#x27;PAST_ACCIDENTS&#x27;]),\n",
              "                                (&#x27;pipe_ordinal_scale&#x27;,\n",
              "                                 Pipeline(steps=[(&#x27;ordinal&#x27;,\n",
              "                                                  OrdinalEnc...\n",
              "                                                                          {&#x27;col&#x27;: &#x27;EDUCATION&#x27;,\n",
              "                                                                           &#x27;mapping&#x27;: {None: 0,\n",
              "                                                                                       &#x27;high school&#x27;: 12,\n",
              "                                                                                       &#x27;none&#x27;: 0,\n",
              "                                                                                       &#x27;university&#x27;: 16}},\n",
              "                                                                          {&#x27;col&#x27;: &#x27;INCOME&#x27;,\n",
              "                                                                           &#x27;mapping&#x27;: {None: 0,\n",
              "                                                                                       &#x27;middle class&#x27;: 3,\n",
              "                                                                                       &#x27;poverty&#x27;: 1,\n",
              "                                                                                       &#x27;upper class&#x27;: 4,\n",
              "                                                                                       &#x27;working class&#x27;: 2}}])),\n",
              "                                                 (&#x27;scaler&#x27;, RobustScaler())]),\n",
              "                                 [&#x27;AGE&#x27;, &#x27;DRIVING_EXPERIENCE&#x27;, &#x27;EDUCATION&#x27;,\n",
              "                                  &#x27;INCOME&#x27;]),\n",
              "                                (&#x27;onehot&#x27;, OneHotEncoder(drop=&#x27;first&#x27;),\n",
              "                                 [&#x27;GENDER&#x27;, &#x27;RACE&#x27;, &#x27;VEHICLE_YEAR&#x27;,\n",
              "                                  &#x27;VEHICLE_TYPE&#x27;, &#x27;POSTAL_CODE&#x27;])])</pre><b>In a Jupyter environment, please rerun this cell to show the HTML representation or trust the notebook. <br />On GitHub, the HTML representation is unable to render, please try loading this page with nbviewer.org.</b></div><div class=\"sk-container\" hidden><div class=\"sk-item sk-dashed-wrapped\"><div class=\"sk-label-container\"><div class=\"sk-label sk-toggleable\"><input class=\"sk-toggleable__control sk-hidden--visually\" id=\"sk-estimator-id-330\" type=\"checkbox\" ><label for=\"sk-estimator-id-330\" class=\"sk-toggleable__label sk-toggleable__label-arrow\">ColumnTransformer</label><div class=\"sk-toggleable__content\"><pre>ColumnTransformer(remainder=&#x27;passthrough&#x27;,\n",
              "                  transformers=[(&#x27;pipe_median_scale&#x27;,\n",
              "                                 Pipeline(steps=[(&#x27;imp_median&#x27;,\n",
              "                                                  SimpleImputer(strategy=&#x27;median&#x27;)),\n",
              "                                                 (&#x27;scaler&#x27;, RobustScaler())]),\n",
              "                                 [&#x27;CREDIT_SCORE&#x27;, &#x27;VEHICLE_OWNERSHIP&#x27;,\n",
              "                                  &#x27;MARRIED&#x27;, &#x27;CHILDREN&#x27;, &#x27;ANNUAL_MILEAGE&#x27;,\n",
              "                                  &#x27;SPEEDING_VIOLATIONS&#x27;, &#x27;DUIS&#x27;,\n",
              "                                  &#x27;PAST_ACCIDENTS&#x27;]),\n",
              "                                (&#x27;pipe_ordinal_scale&#x27;,\n",
              "                                 Pipeline(steps=[(&#x27;ordinal&#x27;,\n",
              "                                                  OrdinalEnc...\n",
              "                                                                          {&#x27;col&#x27;: &#x27;EDUCATION&#x27;,\n",
              "                                                                           &#x27;mapping&#x27;: {None: 0,\n",
              "                                                                                       &#x27;high school&#x27;: 12,\n",
              "                                                                                       &#x27;none&#x27;: 0,\n",
              "                                                                                       &#x27;university&#x27;: 16}},\n",
              "                                                                          {&#x27;col&#x27;: &#x27;INCOME&#x27;,\n",
              "                                                                           &#x27;mapping&#x27;: {None: 0,\n",
              "                                                                                       &#x27;middle class&#x27;: 3,\n",
              "                                                                                       &#x27;poverty&#x27;: 1,\n",
              "                                                                                       &#x27;upper class&#x27;: 4,\n",
              "                                                                                       &#x27;working class&#x27;: 2}}])),\n",
              "                                                 (&#x27;scaler&#x27;, RobustScaler())]),\n",
              "                                 [&#x27;AGE&#x27;, &#x27;DRIVING_EXPERIENCE&#x27;, &#x27;EDUCATION&#x27;,\n",
              "                                  &#x27;INCOME&#x27;]),\n",
              "                                (&#x27;onehot&#x27;, OneHotEncoder(drop=&#x27;first&#x27;),\n",
              "                                 [&#x27;GENDER&#x27;, &#x27;RACE&#x27;, &#x27;VEHICLE_YEAR&#x27;,\n",
              "                                  &#x27;VEHICLE_TYPE&#x27;, &#x27;POSTAL_CODE&#x27;])])</pre></div></div></div><div class=\"sk-parallel\"><div class=\"sk-parallel-item\"><div class=\"sk-item\"><div class=\"sk-label-container\"><div class=\"sk-label sk-toggleable\"><input class=\"sk-toggleable__control sk-hidden--visually\" id=\"sk-estimator-id-331\" type=\"checkbox\" ><label for=\"sk-estimator-id-331\" class=\"sk-toggleable__label sk-toggleable__label-arrow\">pipe_median_scale</label><div class=\"sk-toggleable__content\"><pre>[&#x27;CREDIT_SCORE&#x27;, &#x27;VEHICLE_OWNERSHIP&#x27;, &#x27;MARRIED&#x27;, &#x27;CHILDREN&#x27;, &#x27;ANNUAL_MILEAGE&#x27;, &#x27;SPEEDING_VIOLATIONS&#x27;, &#x27;DUIS&#x27;, &#x27;PAST_ACCIDENTS&#x27;]</pre></div></div></div><div class=\"sk-serial\"><div class=\"sk-item\"><div class=\"sk-serial\"><div class=\"sk-item\"><div class=\"sk-estimator sk-toggleable\"><input class=\"sk-toggleable__control sk-hidden--visually\" id=\"sk-estimator-id-332\" type=\"checkbox\" ><label for=\"sk-estimator-id-332\" class=\"sk-toggleable__label sk-toggleable__label-arrow\">SimpleImputer</label><div class=\"sk-toggleable__content\"><pre>SimpleImputer(strategy=&#x27;median&#x27;)</pre></div></div></div><div class=\"sk-item\"><div class=\"sk-estimator sk-toggleable\"><input class=\"sk-toggleable__control sk-hidden--visually\" id=\"sk-estimator-id-333\" type=\"checkbox\" ><label for=\"sk-estimator-id-333\" class=\"sk-toggleable__label sk-toggleable__label-arrow\">RobustScaler</label><div class=\"sk-toggleable__content\"><pre>RobustScaler()</pre></div></div></div></div></div></div></div></div><div class=\"sk-parallel-item\"><div class=\"sk-item\"><div class=\"sk-label-container\"><div class=\"sk-label sk-toggleable\"><input class=\"sk-toggleable__control sk-hidden--visually\" id=\"sk-estimator-id-334\" type=\"checkbox\" ><label for=\"sk-estimator-id-334\" class=\"sk-toggleable__label sk-toggleable__label-arrow\">pipe_ordinal_scale</label><div class=\"sk-toggleable__content\"><pre>[&#x27;AGE&#x27;, &#x27;DRIVING_EXPERIENCE&#x27;, &#x27;EDUCATION&#x27;, &#x27;INCOME&#x27;]</pre></div></div></div><div class=\"sk-serial\"><div class=\"sk-item\"><div class=\"sk-serial\"><div class=\"sk-item\"><div class=\"sk-estimator sk-toggleable\"><input class=\"sk-toggleable__control sk-hidden--visually\" id=\"sk-estimator-id-335\" type=\"checkbox\" ><label for=\"sk-estimator-id-335\" class=\"sk-toggleable__label sk-toggleable__label-arrow\">OrdinalEncoder</label><div class=\"sk-toggleable__content\"><pre>OrdinalEncoder(cols=[&#x27;AGE&#x27;, &#x27;DRIVING_EXPERIENCE&#x27;, &#x27;EDUCATION&#x27;, &#x27;INCOME&#x27;],\n",
              "               mapping=[{&#x27;col&#x27;: &#x27;AGE&#x27;,\n",
              "                         &#x27;mapping&#x27;: {None: 0, &#x27;16-25&#x27;: 20, &#x27;26-39&#x27;: 33,\n",
              "                                     &#x27;40-64&#x27;: 47, &#x27;65+&#x27;: 70}},\n",
              "                        {&#x27;col&#x27;: &#x27;DRIVING_EXPERIENCE&#x27;,\n",
              "                         &#x27;mapping&#x27;: {None: 0, &#x27;0-9y&#x27;: 5, &#x27;10-19y&#x27;: 15,\n",
              "                                     &#x27;20-29y&#x27;: 25, &#x27;30y+&#x27;: 35}},\n",
              "                        {&#x27;col&#x27;: &#x27;EDUCATION&#x27;,\n",
              "                         &#x27;mapping&#x27;: {None: 0, &#x27;high school&#x27;: 12, &#x27;none&#x27;: 0,\n",
              "                                     &#x27;university&#x27;: 16}},\n",
              "                        {&#x27;col&#x27;: &#x27;INCOME&#x27;,\n",
              "                         &#x27;mapping&#x27;: {None: 0, &#x27;middle class&#x27;: 3, &#x27;poverty&#x27;: 1,\n",
              "                                     &#x27;upper class&#x27;: 4, &#x27;working class&#x27;: 2}}])</pre></div></div></div><div class=\"sk-item\"><div class=\"sk-estimator sk-toggleable\"><input class=\"sk-toggleable__control sk-hidden--visually\" id=\"sk-estimator-id-336\" type=\"checkbox\" ><label for=\"sk-estimator-id-336\" class=\"sk-toggleable__label sk-toggleable__label-arrow\">RobustScaler</label><div class=\"sk-toggleable__content\"><pre>RobustScaler()</pre></div></div></div></div></div></div></div></div><div class=\"sk-parallel-item\"><div class=\"sk-item\"><div class=\"sk-label-container\"><div class=\"sk-label sk-toggleable\"><input class=\"sk-toggleable__control sk-hidden--visually\" id=\"sk-estimator-id-337\" type=\"checkbox\" ><label for=\"sk-estimator-id-337\" class=\"sk-toggleable__label sk-toggleable__label-arrow\">onehot</label><div class=\"sk-toggleable__content\"><pre>[&#x27;GENDER&#x27;, &#x27;RACE&#x27;, &#x27;VEHICLE_YEAR&#x27;, &#x27;VEHICLE_TYPE&#x27;, &#x27;POSTAL_CODE&#x27;]</pre></div></div></div><div class=\"sk-serial\"><div class=\"sk-item\"><div class=\"sk-estimator sk-toggleable\"><input class=\"sk-toggleable__control sk-hidden--visually\" id=\"sk-estimator-id-338\" type=\"checkbox\" ><label for=\"sk-estimator-id-338\" class=\"sk-toggleable__label sk-toggleable__label-arrow\">OneHotEncoder</label><div class=\"sk-toggleable__content\"><pre>OneHotEncoder(drop=&#x27;first&#x27;)</pre></div></div></div></div></div></div><div class=\"sk-parallel-item\"><div class=\"sk-item\"><div class=\"sk-label-container\"><div class=\"sk-label sk-toggleable\"><input class=\"sk-toggleable__control sk-hidden--visually\" id=\"sk-estimator-id-339\" type=\"checkbox\" ><label for=\"sk-estimator-id-339\" class=\"sk-toggleable__label sk-toggleable__label-arrow\">remainder</label><div class=\"sk-toggleable__content\"><pre>[]</pre></div></div></div><div class=\"sk-serial\"><div class=\"sk-item\"><div class=\"sk-estimator sk-toggleable\"><input class=\"sk-toggleable__control sk-hidden--visually\" id=\"sk-estimator-id-340\" type=\"checkbox\" ><label for=\"sk-estimator-id-340\" class=\"sk-toggleable__label sk-toggleable__label-arrow\">passthrough</label><div class=\"sk-toggleable__content\"><pre>passthrough</pre></div></div></div></div></div></div></div></div></div></div>"
            ],
            "text/plain": [
              "ColumnTransformer(remainder='passthrough',\n",
              "                  transformers=[('pipe_median_scale',\n",
              "                                 Pipeline(steps=[('imp_median',\n",
              "                                                  SimpleImputer(strategy='median')),\n",
              "                                                 ('scaler', RobustScaler())]),\n",
              "                                 ['CREDIT_SCORE', 'VEHICLE_OWNERSHIP',\n",
              "                                  'MARRIED', 'CHILDREN', 'ANNUAL_MILEAGE',\n",
              "                                  'SPEEDING_VIOLATIONS', 'DUIS',\n",
              "                                  'PAST_ACCIDENTS']),\n",
              "                                ('pipe_ordinal_scale',\n",
              "                                 Pipeline(steps=[('ordinal',\n",
              "                                                  OrdinalEnc...\n",
              "                                                                          {'col': 'EDUCATION',\n",
              "                                                                           'mapping': {None: 0,\n",
              "                                                                                       'high school': 12,\n",
              "                                                                                       'none': 0,\n",
              "                                                                                       'university': 16}},\n",
              "                                                                          {'col': 'INCOME',\n",
              "                                                                           'mapping': {None: 0,\n",
              "                                                                                       'middle class': 3,\n",
              "                                                                                       'poverty': 1,\n",
              "                                                                                       'upper class': 4,\n",
              "                                                                                       'working class': 2}}])),\n",
              "                                                 ('scaler', RobustScaler())]),\n",
              "                                 ['AGE', 'DRIVING_EXPERIENCE', 'EDUCATION',\n",
              "                                  'INCOME']),\n",
              "                                ('onehot', OneHotEncoder(drop='first'),\n",
              "                                 ['GENDER', 'RACE', 'VEHICLE_YEAR',\n",
              "                                  'VEHICLE_TYPE', 'POSTAL_CODE'])])"
            ]
          },
          "execution_count": 679,
          "metadata": {},
          "output_type": "execute_result"
        }
      ],
      "source": [
        "transformer.fit(X_train)"
      ]
    },
    {
      "cell_type": "code",
      "execution_count": null,
      "metadata": {
        "id": "lpz6f5vugcZu"
      },
      "outputs": [
        {
          "data": {
            "text/plain": [
              "['CREDIT_SCORE',\n",
              " 'VEHICLE_OWNERSHIP',\n",
              " 'MARRIED',\n",
              " 'CHILDREN',\n",
              " 'ANNUAL_MILEAGE',\n",
              " 'SPEEDING_VIOLATIONS',\n",
              " 'DUIS',\n",
              " 'PAST_ACCIDENTS']"
            ]
          },
          "execution_count": 680,
          "metadata": {},
          "output_type": "execute_result"
        }
      ],
      "source": [
        "f_num = transformer.transformers[0][2]\n",
        "f_num"
      ]
    },
    {
      "cell_type": "code",
      "execution_count": null,
      "metadata": {
        "id": "KTzDZnldgsjU"
      },
      "outputs": [
        {
          "data": {
            "text/plain": [
              "['AGE', 'DRIVING_EXPERIENCE', 'EDUCATION', 'INCOME']"
            ]
          },
          "execution_count": 681,
          "metadata": {},
          "output_type": "execute_result"
        }
      ],
      "source": [
        "f_ordinal = transformer.transformers[1][2]\n",
        "f_ordinal"
      ]
    },
    {
      "cell_type": "code",
      "execution_count": null,
      "metadata": {
        "id": "Zh4qsfdWhB-K"
      },
      "outputs": [
        {
          "data": {
            "text/plain": [
              "['GENDER_male',\n",
              " 'RACE_minority',\n",
              " 'VEHICLE_YEAR_before 2015',\n",
              " 'VEHICLE_TYPE_sports car',\n",
              " 'POSTAL_CODE_21217',\n",
              " 'POSTAL_CODE_32765',\n",
              " 'POSTAL_CODE_92101']"
            ]
          },
          "execution_count": 682,
          "metadata": {},
          "output_type": "execute_result"
        }
      ],
      "source": [
        "f_onehot = list(transformer.named_transformers_['onehot'].get_feature_names_out())\n",
        "f_onehot"
      ]
    },
    {
      "cell_type": "code",
      "execution_count": null,
      "metadata": {
        "colab": {
          "base_uri": "https://localhost:8080/"
        },
        "id": "yuOpI8GiiNiy",
        "outputId": "c2d680d9-0237-4ffc-fd29-d05a1455ca30"
      },
      "outputs": [
        {
          "data": {
            "text/plain": [
              "['GENDER_male',\n",
              " 'RACE_minority',\n",
              " 'VEHICLE_YEAR_before 2015',\n",
              " 'VEHICLE_TYPE_sports car',\n",
              " 'POSTAL_CODE_21217',\n",
              " 'POSTAL_CODE_32765',\n",
              " 'POSTAL_CODE_92101']"
            ]
          },
          "execution_count": 683,
          "metadata": {},
          "output_type": "execute_result"
        }
      ],
      "source": [
        "list(transformer.transformers_[2][1].get_feature_names_out())"
      ]
    },
    {
      "cell_type": "code",
      "execution_count": null,
      "metadata": {
        "colab": {
          "base_uri": "https://localhost:8080/"
        },
        "id": "rY_dHaznifLN",
        "outputId": "7a2f71c1-3439-4f53-97b3-040529046d0d"
      },
      "outputs": [
        {
          "data": {
            "text/plain": [
              "['CREDIT_SCORE',\n",
              " 'VEHICLE_OWNERSHIP',\n",
              " 'MARRIED',\n",
              " 'CHILDREN',\n",
              " 'ANNUAL_MILEAGE',\n",
              " 'SPEEDING_VIOLATIONS',\n",
              " 'DUIS',\n",
              " 'PAST_ACCIDENTS',\n",
              " 'AGE',\n",
              " 'DRIVING_EXPERIENCE',\n",
              " 'EDUCATION',\n",
              " 'INCOME',\n",
              " 'GENDER_male',\n",
              " 'RACE_minority',\n",
              " 'VEHICLE_YEAR_before 2015',\n",
              " 'VEHICLE_TYPE_sports car',\n",
              " 'POSTAL_CODE_21217',\n",
              " 'POSTAL_CODE_32765',\n",
              " 'POSTAL_CODE_92101']"
            ]
          },
          "execution_count": 684,
          "metadata": {},
          "output_type": "execute_result"
        }
      ],
      "source": [
        "feat = f_num + f_ordinal + f_onehot \n",
        "feat"
      ]
    },
    {
      "cell_type": "code",
      "execution_count": null,
      "metadata": {
        "colab": {
          "base_uri": "https://localhost:8080/",
          "height": 582
        },
        "id": "qi97a_wdMuTO",
        "outputId": "84d0a00e-cd9e-4db6-9b2e-7b9e7f724c7a"
      },
      "outputs": [
        {
          "data": {
            "text/html": [
              "<div>\n",
              "<style scoped>\n",
              "    .dataframe tbody tr th:only-of-type {\n",
              "        vertical-align: middle;\n",
              "    }\n",
              "\n",
              "    .dataframe tbody tr th {\n",
              "        vertical-align: top;\n",
              "    }\n",
              "\n",
              "    .dataframe thead th {\n",
              "        text-align: right;\n",
              "    }\n",
              "</style>\n",
              "<table border=\"1\" class=\"dataframe\">\n",
              "  <thead>\n",
              "    <tr style=\"text-align: right;\">\n",
              "      <th></th>\n",
              "      <th>feat</th>\n",
              "      <th>imp</th>\n",
              "    </tr>\n",
              "  </thead>\n",
              "  <tbody>\n",
              "    <tr>\n",
              "      <th>9</th>\n",
              "      <td>DRIVING_EXPERIENCE</td>\n",
              "      <td>0.517490</td>\n",
              "    </tr>\n",
              "    <tr>\n",
              "      <th>1</th>\n",
              "      <td>VEHICLE_OWNERSHIP</td>\n",
              "      <td>0.144060</td>\n",
              "    </tr>\n",
              "    <tr>\n",
              "      <th>14</th>\n",
              "      <td>VEHICLE_YEAR_before 2015</td>\n",
              "      <td>0.136227</td>\n",
              "    </tr>\n",
              "    <tr>\n",
              "      <th>16</th>\n",
              "      <td>POSTAL_CODE_21217</td>\n",
              "      <td>0.049419</td>\n",
              "    </tr>\n",
              "    <tr>\n",
              "      <th>12</th>\n",
              "      <td>GENDER_male</td>\n",
              "      <td>0.041719</td>\n",
              "    </tr>\n",
              "    <tr>\n",
              "      <th>4</th>\n",
              "      <td>ANNUAL_MILEAGE</td>\n",
              "      <td>0.028091</td>\n",
              "    </tr>\n",
              "    <tr>\n",
              "      <th>0</th>\n",
              "      <td>CREDIT_SCORE</td>\n",
              "      <td>0.026253</td>\n",
              "    </tr>\n",
              "    <tr>\n",
              "      <th>17</th>\n",
              "      <td>POSTAL_CODE_32765</td>\n",
              "      <td>0.021277</td>\n",
              "    </tr>\n",
              "    <tr>\n",
              "      <th>2</th>\n",
              "      <td>MARRIED</td>\n",
              "      <td>0.010931</td>\n",
              "    </tr>\n",
              "    <tr>\n",
              "      <th>5</th>\n",
              "      <td>SPEEDING_VIOLATIONS</td>\n",
              "      <td>0.005067</td>\n",
              "    </tr>\n",
              "    <tr>\n",
              "      <th>10</th>\n",
              "      <td>EDUCATION</td>\n",
              "      <td>0.004787</td>\n",
              "    </tr>\n",
              "    <tr>\n",
              "      <th>18</th>\n",
              "      <td>POSTAL_CODE_92101</td>\n",
              "      <td>0.004365</td>\n",
              "    </tr>\n",
              "    <tr>\n",
              "      <th>3</th>\n",
              "      <td>CHILDREN</td>\n",
              "      <td>0.003754</td>\n",
              "    </tr>\n",
              "    <tr>\n",
              "      <th>8</th>\n",
              "      <td>AGE</td>\n",
              "      <td>0.002786</td>\n",
              "    </tr>\n",
              "    <tr>\n",
              "      <th>11</th>\n",
              "      <td>INCOME</td>\n",
              "      <td>0.002599</td>\n",
              "    </tr>\n",
              "    <tr>\n",
              "      <th>7</th>\n",
              "      <td>PAST_ACCIDENTS</td>\n",
              "      <td>0.000693</td>\n",
              "    </tr>\n",
              "    <tr>\n",
              "      <th>6</th>\n",
              "      <td>DUIS</td>\n",
              "      <td>0.000483</td>\n",
              "    </tr>\n",
              "    <tr>\n",
              "      <th>13</th>\n",
              "      <td>RACE_minority</td>\n",
              "      <td>0.000000</td>\n",
              "    </tr>\n",
              "    <tr>\n",
              "      <th>15</th>\n",
              "      <td>VEHICLE_TYPE_sports car</td>\n",
              "      <td>0.000000</td>\n",
              "    </tr>\n",
              "  </tbody>\n",
              "</table>\n",
              "</div>"
            ],
            "text/plain": [
              "                        feat       imp\n",
              "9         DRIVING_EXPERIENCE  0.517490\n",
              "1          VEHICLE_OWNERSHIP  0.144060\n",
              "14  VEHICLE_YEAR_before 2015  0.136227\n",
              "16         POSTAL_CODE_21217  0.049419\n",
              "12               GENDER_male  0.041719\n",
              "4             ANNUAL_MILEAGE  0.028091\n",
              "0               CREDIT_SCORE  0.026253\n",
              "17         POSTAL_CODE_32765  0.021277\n",
              "2                    MARRIED  0.010931\n",
              "5        SPEEDING_VIOLATIONS  0.005067\n",
              "10                 EDUCATION  0.004787\n",
              "18         POSTAL_CODE_92101  0.004365\n",
              "3                   CHILDREN  0.003754\n",
              "8                        AGE  0.002786\n",
              "11                    INCOME  0.002599\n",
              "7             PAST_ACCIDENTS  0.000693\n",
              "6                       DUIS  0.000483\n",
              "13             RACE_minority  0.000000\n",
              "15   VEHICLE_TYPE_sports car  0.000000"
            ]
          },
          "execution_count": 685,
          "metadata": {},
          "output_type": "execute_result"
        }
      ],
      "source": [
        "pd.DataFrame({\n",
        "    'feat': feat,\n",
        "    'imp': model['algo'].feature_importances_\n",
        "}).sort_values('imp', ascending=False)"
      ]
    },
    {
      "cell_type": "code",
      "execution_count": null,
      "metadata": {
        "id": "3YljWWqW_w11"
      },
      "outputs": [],
      "source": [
        "# random_search.best_estimator_['algo']"
      ]
    },
    {
      "cell_type": "code",
      "execution_count": null,
      "metadata": {
        "id": "lweNEapE_wvF"
      },
      "outputs": [
        {
          "data": {
            "image/png": "[encoded data removed]",
            "text/plain": [
              "<Figure size 1440x1008 with 1 Axes>"
            ]
          },
          "metadata": {},
          "output_type": "display_data"
        }
      ],
      "source": [
        "plt.figure(figsize = (20,14))\n",
        "plot_tree(model['algo'], filled = True, class_names = ['0','1'], fontsize=10, max_depth=3, feature_names=feat)\n",
        "plt.show()"
      ]
    },
    {
      "cell_type": "code",
      "execution_count": null,
      "metadata": {
        "id": "xCJjfxRo_wnh"
      },
      "outputs": [],
      "source": []
    },
    {
      "cell_type": "code",
      "execution_count": null,
      "metadata": {
        "id": "DOaUdDC__wgc"
      },
      "outputs": [
        {
          "data": {
            "text/plain": [
              "0.0    6867\n",
              "1.0    3133\n",
              "Name: OUTCOME, dtype: int64"
            ]
          },
          "execution_count": 688,
          "metadata": {},
          "output_type": "execute_result"
        }
      ],
      "source": [
        "y.value_counts()"
      ]
    },
    {
      "cell_type": "code",
      "execution_count": null,
      "metadata": {
        "id": "W3KqSR3U_wZ0"
      },
      "outputs": [],
      "source": []
    },
    {
      "cell_type": "code",
      "execution_count": null,
      "metadata": {
        "id": "bl_qfcwG_wSA"
      },
      "outputs": [],
      "source": []
    },
    {
      "cell_type": "code",
      "execution_count": null,
      "metadata": {
        "id": "djoJ--T6_wFT"
      },
      "outputs": [],
      "source": []
    },
    {
      "cell_type": "code",
      "execution_count": null,
      "metadata": {
        "id": "vMBzE2k1_vto"
      },
      "outputs": [],
      "source": []
    },
    {
      "cell_type": "code",
      "execution_count": null,
      "metadata": {
        "id": "BQgToHgw_vmY"
      },
      "outputs": [],
      "source": []
    },
    {
      "cell_type": "code",
      "execution_count": null,
      "metadata": {
        "id": "DajaKThG_vfB"
      },
      "outputs": [],
      "source": []
    },
    {
      "cell_type": "code",
      "execution_count": null,
      "metadata": {
        "id": "z4GpKBU5_vYP"
      },
      "outputs": [],
      "source": []
    },
    {
      "cell_type": "code",
      "execution_count": null,
      "metadata": {
        "id": "dfEnAZDx_vR4"
      },
      "outputs": [],
      "source": []
    },
    {
      "cell_type": "code",
      "execution_count": null,
      "metadata": {
        "id": "VmXc8318_vLZ"
      },
      "outputs": [],
      "source": []
    },
    {
      "cell_type": "code",
      "execution_count": null,
      "metadata": {
        "id": "mb2Rf9Yw_vE5"
      },
      "outputs": [],
      "source": []
    },
    {
      "cell_type": "code",
      "execution_count": null,
      "metadata": {
        "id": "nozmGOO3_u9m"
      },
      "outputs": [],
      "source": []
    },
    {
      "cell_type": "code",
      "execution_count": null,
      "metadata": {
        "id": "0Bh66vp1_u4m"
      },
      "outputs": [],
      "source": []
    }
  ],
  "metadata": {
    "colab": {
      "collapsed_sections": [],
      "name": "class_m3_s14_AlgorithmChain.ipynb",
      "provenance": [],
      "toc_visible": true
    },
    "kernelspec": {
      "display_name": "Python 3",
      "language": "python",
      "name": "python3"
    },
    "language_info": {
      "codemirror_mode": {
        "name": "ipython",
        "version": 3
      },
      "file_extension": ".py",
      "mimetype": "text/x-python",
      "name": "python",
      "nbconvert_exporter": "python",
      "pygments_lexer": "ipython3",
      "version": "3.11.0"
    },
    "vscode": {
      "interpreter": {
        "hash": "de47f5c92c0ee6f12a59a5613ac5feff6aab19ddff207ba0b3964cced08c4ccc"
      }
    }
  },
  "nbformat": 4,
  "nbformat_minor": 0
}
