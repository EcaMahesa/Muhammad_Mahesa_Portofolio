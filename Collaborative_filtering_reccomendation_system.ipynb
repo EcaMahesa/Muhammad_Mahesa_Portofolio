{
 "cells": [
  {
   "cell_type": "markdown",
   "metadata": {},
   "source": [
    "---\n",
    "## **Exercise: Collaborative Filtering**\n",
    "\n",
    "**Model Based**\n",
    "\n",
    "**Dengan menggunakan dataset rating.csv dan anime.csv, buatlah recommendation system dengan skema berikut:**\n",
    "\n",
    "* Gabungkan kedua dataset (rating.csv dan anime.csv) untuk menampilkan kolom ['user_id', 'anime_id', 'rating', 'name']\n",
    "* Bandingkan algoritma SVD dan ALS\n",
    "* Tuning algoritma yang menurut kalian lebih baik\n",
    "\n",
    "Setelah mendapatkan model terbaik, coba prediksi rating anime berikut:\n",
    "\n",
    "* Hunter x Hunter (2011), anime_id 11061\n",
    "* Detective Conan OVA 09, anime_id 6438\n",
    "* Ranma ½, anime_id 1010\n",
    "* Saint Seiya: Meiou Hades Juuni Kyuu-hen, anime_id 1257 \n",
    "\n",
    "Oleh user:\n",
    "\n",
    "* 50\n",
    "* 200\n",
    "* 400\n",
    "* 800\n",
    "\n",
    "Bagaimana urutan rekomendasi yang akan kalian berikan untuk masing-masing user?"
   ]
  },
  {
   "cell_type": "code",
   "execution_count": 1,
   "metadata": {},
   "outputs": [
    {
     "ename": "ModuleNotFoundError",
     "evalue": "No module named 'surprise'",
     "output_type": "error",
     "traceback": [
      "\u001b[1;31m---------------------------------------------------------------------------\u001b[0m",
      "\u001b[1;31mModuleNotFoundError\u001b[0m                       Traceback (most recent call last)",
      "Cell \u001b[1;32mIn [1], line 8\u001b[0m\n\u001b[0;32m      4\u001b[0m \u001b[39mimport\u001b[39;00m \u001b[39mmatplotlib\u001b[39;00m\u001b[39m.\u001b[39;00m\u001b[39mpyplot\u001b[39;00m \u001b[39mas\u001b[39;00m \u001b[39mplt\u001b[39;00m\n\u001b[0;32m      5\u001b[0m \u001b[39m# import surprise\u001b[39;00m\n\u001b[0;32m      6\u001b[0m \n\u001b[0;32m      7\u001b[0m \u001b[39m#utk baca dataset\u001b[39;00m\n\u001b[1;32m----> 8\u001b[0m \u001b[39mfrom\u001b[39;00m \u001b[39msurprise\u001b[39;00m \u001b[39mimport\u001b[39;00m Reader, Dataset\n\u001b[0;32m     10\u001b[0m \u001b[39m#utk algoritma nya\u001b[39;00m\n\u001b[0;32m     11\u001b[0m \u001b[39mfrom\u001b[39;00m \u001b[39msurprise\u001b[39;00m \u001b[39mimport\u001b[39;00m SVD, BaselineOnly\n",
      "\u001b[1;31mModuleNotFoundError\u001b[0m: No module named 'surprise'"
     ]
    }
   ],
   "source": [
    "import numpy as np\n",
    "import pandas as pd\n",
    "import seaborn as sns\n",
    "import matplotlib.pyplot as plt\n",
    "# import surprise\n",
    "\n",
    "#utk baca dataset\n",
    "from surprise import Reader, Dataset\n",
    "\n",
    "#utk algoritma nya\n",
    "from surprise import SVD, BaselineOnly\n",
    "\n",
    "#utk modeling\n",
    "from surprise.model_selection import train_test_split, cross_validate, GridSearchCV\n",
    "\n",
    "#utk evaluation metric\n",
    "from surprise import accuracy"
   ]
  },
  {
   "cell_type": "code",
   "execution_count": null,
   "metadata": {},
   "outputs": [
    {
     "data": {
      "text/html": [
       "<div>\n",
       "<style scoped>\n",
       "    .dataframe tbody tr th:only-of-type {\n",
       "        vertical-align: middle;\n",
       "    }\n",
       "\n",
       "    .dataframe tbody tr th {\n",
       "        vertical-align: top;\n",
       "    }\n",
       "\n",
       "    .dataframe thead th {\n",
       "        text-align: right;\n",
       "    }\n",
       "</style>\n",
       "<table border=\"1\" class=\"dataframe\">\n",
       "  <thead>\n",
       "    <tr style=\"text-align: right;\">\n",
       "      <th></th>\n",
       "      <th>user_id</th>\n",
       "      <th>anime_id</th>\n",
       "      <th>rating</th>\n",
       "    </tr>\n",
       "  </thead>\n",
       "  <tbody>\n",
       "    <tr>\n",
       "      <th>0</th>\n",
       "      <td>1</td>\n",
       "      <td>8074</td>\n",
       "      <td>10.0</td>\n",
       "    </tr>\n",
       "    <tr>\n",
       "      <th>1</th>\n",
       "      <td>1</td>\n",
       "      <td>11617</td>\n",
       "      <td>10.0</td>\n",
       "    </tr>\n",
       "    <tr>\n",
       "      <th>2</th>\n",
       "      <td>1</td>\n",
       "      <td>11757</td>\n",
       "      <td>10.0</td>\n",
       "    </tr>\n",
       "    <tr>\n",
       "      <th>3</th>\n",
       "      <td>1</td>\n",
       "      <td>15451</td>\n",
       "      <td>10.0</td>\n",
       "    </tr>\n",
       "    <tr>\n",
       "      <th>4</th>\n",
       "      <td>2</td>\n",
       "      <td>11771</td>\n",
       "      <td>10.0</td>\n",
       "    </tr>\n",
       "  </tbody>\n",
       "</table>\n",
       "</div>"
      ],
      "text/plain": [
       "   user_id  anime_id  rating\n",
       "0        1      8074    10.0\n",
       "1        1     11617    10.0\n",
       "2        1     11757    10.0\n",
       "3        1     15451    10.0\n",
       "4        2     11771    10.0"
      ]
     },
     "execution_count": 146,
     "metadata": {},
     "output_type": "execute_result"
    }
   ],
   "source": [
    "df_rating = pd.read_csv('rating.csv').drop(columns='Unnamed: 0')\n",
    "df_rating.head()"
   ]
  },
  {
   "cell_type": "code",
   "execution_count": null,
   "metadata": {},
   "outputs": [
    {
     "data": {
      "text/html": [
       "<div>\n",
       "<style scoped>\n",
       "    .dataframe tbody tr th:only-of-type {\n",
       "        vertical-align: middle;\n",
       "    }\n",
       "\n",
       "    .dataframe tbody tr th {\n",
       "        vertical-align: top;\n",
       "    }\n",
       "\n",
       "    .dataframe thead th {\n",
       "        text-align: right;\n",
       "    }\n",
       "</style>\n",
       "<table border=\"1\" class=\"dataframe\">\n",
       "  <thead>\n",
       "    <tr style=\"text-align: right;\">\n",
       "      <th></th>\n",
       "      <th>anime_id</th>\n",
       "      <th>name</th>\n",
       "      <th>genre</th>\n",
       "      <th>type</th>\n",
       "      <th>episodes</th>\n",
       "      <th>rating</th>\n",
       "      <th>members</th>\n",
       "    </tr>\n",
       "  </thead>\n",
       "  <tbody>\n",
       "    <tr>\n",
       "      <th>0</th>\n",
       "      <td>32281</td>\n",
       "      <td>Kimi no Na wa.</td>\n",
       "      <td>Drama, Romance, School, Supernatural</td>\n",
       "      <td>Movie</td>\n",
       "      <td>1</td>\n",
       "      <td>9.37</td>\n",
       "      <td>200630</td>\n",
       "    </tr>\n",
       "    <tr>\n",
       "      <th>1</th>\n",
       "      <td>5114</td>\n",
       "      <td>Fullmetal Alchemist: Brotherhood</td>\n",
       "      <td>Action, Adventure, Drama, Fantasy, Magic, Mili...</td>\n",
       "      <td>TV</td>\n",
       "      <td>64</td>\n",
       "      <td>9.26</td>\n",
       "      <td>793665</td>\n",
       "    </tr>\n",
       "    <tr>\n",
       "      <th>2</th>\n",
       "      <td>28977</td>\n",
       "      <td>Gintama°</td>\n",
       "      <td>Action, Comedy, Historical, Parody, Samurai, S...</td>\n",
       "      <td>TV</td>\n",
       "      <td>51</td>\n",
       "      <td>9.25</td>\n",
       "      <td>114262</td>\n",
       "    </tr>\n",
       "    <tr>\n",
       "      <th>3</th>\n",
       "      <td>9253</td>\n",
       "      <td>Steins;Gate</td>\n",
       "      <td>Sci-Fi, Thriller</td>\n",
       "      <td>TV</td>\n",
       "      <td>24</td>\n",
       "      <td>9.17</td>\n",
       "      <td>673572</td>\n",
       "    </tr>\n",
       "    <tr>\n",
       "      <th>4</th>\n",
       "      <td>9969</td>\n",
       "      <td>Gintama&amp;#039;</td>\n",
       "      <td>Action, Comedy, Historical, Parody, Samurai, S...</td>\n",
       "      <td>TV</td>\n",
       "      <td>51</td>\n",
       "      <td>9.16</td>\n",
       "      <td>151266</td>\n",
       "    </tr>\n",
       "  </tbody>\n",
       "</table>\n",
       "</div>"
      ],
      "text/plain": [
       "   anime_id                              name  \\\n",
       "0     32281                    Kimi no Na wa.   \n",
       "1      5114  Fullmetal Alchemist: Brotherhood   \n",
       "2     28977                          Gintama°   \n",
       "3      9253                       Steins;Gate   \n",
       "4      9969                     Gintama&#039;   \n",
       "\n",
       "                                               genre   type episodes  rating  \\\n",
       "0               Drama, Romance, School, Supernatural  Movie        1    9.37   \n",
       "1  Action, Adventure, Drama, Fantasy, Magic, Mili...     TV       64    9.26   \n",
       "2  Action, Comedy, Historical, Parody, Samurai, S...     TV       51    9.25   \n",
       "3                                   Sci-Fi, Thriller     TV       24    9.17   \n",
       "4  Action, Comedy, Historical, Parody, Samurai, S...     TV       51    9.16   \n",
       "\n",
       "   members  \n",
       "0   200630  \n",
       "1   793665  \n",
       "2   114262  \n",
       "3   673572  \n",
       "4   151266  "
      ]
     },
     "execution_count": 147,
     "metadata": {},
     "output_type": "execute_result"
    }
   ],
   "source": [
    "df_anime = pd.read_csv('anime.csv')\n",
    "df_anime.head()"
   ]
  },
  {
   "cell_type": "code",
   "execution_count": null,
   "metadata": {},
   "outputs": [],
   "source": [
    "df = pd.merge(left=df_rating,right=df_anime,on='anime_id')\n",
    "df = df[['user_id','anime_id','rating_x','name',]]"
   ]
  },
  {
   "cell_type": "code",
   "execution_count": null,
   "metadata": {},
   "outputs": [],
   "source": [
    "df.rename(columns={'rating_x':'rating'}, inplace=True)"
   ]
  },
  {
   "cell_type": "code",
   "execution_count": null,
   "metadata": {},
   "outputs": [
    {
     "data": {
      "text/html": [
       "<div>\n",
       "<style scoped>\n",
       "    .dataframe tbody tr th:only-of-type {\n",
       "        vertical-align: middle;\n",
       "    }\n",
       "\n",
       "    .dataframe tbody tr th {\n",
       "        vertical-align: top;\n",
       "    }\n",
       "\n",
       "    .dataframe thead th {\n",
       "        text-align: right;\n",
       "    }\n",
       "</style>\n",
       "<table border=\"1\" class=\"dataframe\">\n",
       "  <thead>\n",
       "    <tr style=\"text-align: right;\">\n",
       "      <th></th>\n",
       "      <th>user_id</th>\n",
       "      <th>anime_id</th>\n",
       "      <th>rating</th>\n",
       "      <th>name</th>\n",
       "    </tr>\n",
       "  </thead>\n",
       "  <tbody>\n",
       "    <tr>\n",
       "      <th>0</th>\n",
       "      <td>1</td>\n",
       "      <td>8074</td>\n",
       "      <td>10.0</td>\n",
       "      <td>Highschool of the Dead</td>\n",
       "    </tr>\n",
       "    <tr>\n",
       "      <th>1</th>\n",
       "      <td>3</td>\n",
       "      <td>8074</td>\n",
       "      <td>6.0</td>\n",
       "      <td>Highschool of the Dead</td>\n",
       "    </tr>\n",
       "    <tr>\n",
       "      <th>2</th>\n",
       "      <td>5</td>\n",
       "      <td>8074</td>\n",
       "      <td>2.0</td>\n",
       "      <td>Highschool of the Dead</td>\n",
       "    </tr>\n",
       "    <tr>\n",
       "      <th>3</th>\n",
       "      <td>12</td>\n",
       "      <td>8074</td>\n",
       "      <td>6.0</td>\n",
       "      <td>Highschool of the Dead</td>\n",
       "    </tr>\n",
       "    <tr>\n",
       "      <th>4</th>\n",
       "      <td>14</td>\n",
       "      <td>8074</td>\n",
       "      <td>6.0</td>\n",
       "      <td>Highschool of the Dead</td>\n",
       "    </tr>\n",
       "    <tr>\n",
       "      <th>...</th>\n",
       "      <td>...</td>\n",
       "      <td>...</td>\n",
       "      <td>...</td>\n",
       "      <td>...</td>\n",
       "    </tr>\n",
       "    <tr>\n",
       "      <th>77863</th>\n",
       "      <td>963</td>\n",
       "      <td>27909</td>\n",
       "      <td>6.0</td>\n",
       "      <td>Otome Hime</td>\n",
       "    </tr>\n",
       "    <tr>\n",
       "      <th>77864</th>\n",
       "      <td>979</td>\n",
       "      <td>7549</td>\n",
       "      <td>8.0</td>\n",
       "      <td>Quiz Magic Academy: The Original Animation 2</td>\n",
       "    </tr>\n",
       "    <tr>\n",
       "      <th>77865</th>\n",
       "      <td>992</td>\n",
       "      <td>1044</td>\n",
       "      <td>4.0</td>\n",
       "      <td>Taiyou no Ouji: Horus no Daibouken</td>\n",
       "    </tr>\n",
       "    <tr>\n",
       "      <th>77866</th>\n",
       "      <td>995</td>\n",
       "      <td>2571</td>\n",
       "      <td>6.0</td>\n",
       "      <td>Mitsubachi Maya no Bouken</td>\n",
       "    </tr>\n",
       "    <tr>\n",
       "      <th>77867</th>\n",
       "      <td>996</td>\n",
       "      <td>26101</td>\n",
       "      <td>7.0</td>\n",
       "      <td>Boku to Gaku: Ano Natsu no Monogatari</td>\n",
       "    </tr>\n",
       "  </tbody>\n",
       "</table>\n",
       "<p>77868 rows × 4 columns</p>\n",
       "</div>"
      ],
      "text/plain": [
       "       user_id  anime_id  rating                                          name\n",
       "0            1      8074    10.0                        Highschool of the Dead\n",
       "1            3      8074     6.0                        Highschool of the Dead\n",
       "2            5      8074     2.0                        Highschool of the Dead\n",
       "3           12      8074     6.0                        Highschool of the Dead\n",
       "4           14      8074     6.0                        Highschool of the Dead\n",
       "...        ...       ...     ...                                           ...\n",
       "77863      963     27909     6.0                                    Otome Hime\n",
       "77864      979      7549     8.0  Quiz Magic Academy: The Original Animation 2\n",
       "77865      992      1044     4.0            Taiyou no Ouji: Horus no Daibouken\n",
       "77866      995      2571     6.0                     Mitsubachi Maya no Bouken\n",
       "77867      996     26101     7.0         Boku to Gaku: Ano Natsu no Monogatari\n",
       "\n",
       "[77868 rows x 4 columns]"
      ]
     },
     "execution_count": 150,
     "metadata": {},
     "output_type": "execute_result"
    }
   ],
   "source": [
    "df"
   ]
  },
  {
   "cell_type": "code",
   "execution_count": null,
   "metadata": {},
   "outputs": [
    {
     "data": {
      "text/plain": [
       "user_id     0\n",
       "anime_id    0\n",
       "rating      0\n",
       "name        0\n",
       "dtype: int64"
      ]
     },
     "execution_count": 151,
     "metadata": {},
     "output_type": "execute_result"
    }
   ],
   "source": [
    "df.isna().sum()"
   ]
  },
  {
   "cell_type": "code",
   "execution_count": null,
   "metadata": {},
   "outputs": [
    {
     "data": {
      "text/plain": [
       "array([10.,  6.,  2.,  7.,  9.,  8.,  4.,  5.,  3.,  1.])"
      ]
     },
     "execution_count": 152,
     "metadata": {},
     "output_type": "execute_result"
    }
   ],
   "source": [
    "df['rating'].unique()"
   ]
  },
  {
   "cell_type": "code",
   "execution_count": null,
   "metadata": {},
   "outputs": [],
   "source": []
  },
  {
   "cell_type": "code",
   "execution_count": null,
   "metadata": {},
   "outputs": [
    {
     "data": {
      "text/plain": [
       "<surprise.dataset.DatasetAutoFolds at 0x1ccf6849400>"
      ]
     },
     "execution_count": 153,
     "metadata": {},
     "output_type": "execute_result"
    }
   ],
   "source": [
    "# Define reader\n",
    "reader = Reader(rating_scale=(1,10))\n",
    "\n",
    "# Load dataset\n",
    "data = Dataset.load_from_df(df=df.loc[:,'user_id':'rating'], reader=reader)\n",
    "# dataframe yg dimasukkin di parameter df, urutan kolomnya harus seperti ini: user -> item -> rating. Kalo salah urutan, bakal salah nanti.\n",
    "data"
   ]
  },
  {
   "cell_type": "code",
   "execution_count": null,
   "metadata": {},
   "outputs": [
    {
     "data": {
      "text/html": [
       "<div>\n",
       "<style scoped>\n",
       "    .dataframe tbody tr th:only-of-type {\n",
       "        vertical-align: middle;\n",
       "    }\n",
       "\n",
       "    .dataframe tbody tr th {\n",
       "        vertical-align: top;\n",
       "    }\n",
       "\n",
       "    .dataframe thead th {\n",
       "        text-align: right;\n",
       "    }\n",
       "</style>\n",
       "<table border=\"1\" class=\"dataframe\">\n",
       "  <thead>\n",
       "    <tr style=\"text-align: right;\">\n",
       "      <th></th>\n",
       "      <th>user_id</th>\n",
       "      <th>anime_id</th>\n",
       "      <th>rating</th>\n",
       "    </tr>\n",
       "  </thead>\n",
       "  <tbody>\n",
       "    <tr>\n",
       "      <th>0</th>\n",
       "      <td>1</td>\n",
       "      <td>8074</td>\n",
       "      <td>10.0</td>\n",
       "    </tr>\n",
       "    <tr>\n",
       "      <th>1</th>\n",
       "      <td>3</td>\n",
       "      <td>8074</td>\n",
       "      <td>6.0</td>\n",
       "    </tr>\n",
       "    <tr>\n",
       "      <th>2</th>\n",
       "      <td>5</td>\n",
       "      <td>8074</td>\n",
       "      <td>2.0</td>\n",
       "    </tr>\n",
       "    <tr>\n",
       "      <th>3</th>\n",
       "      <td>12</td>\n",
       "      <td>8074</td>\n",
       "      <td>6.0</td>\n",
       "    </tr>\n",
       "    <tr>\n",
       "      <th>4</th>\n",
       "      <td>14</td>\n",
       "      <td>8074</td>\n",
       "      <td>6.0</td>\n",
       "    </tr>\n",
       "    <tr>\n",
       "      <th>...</th>\n",
       "      <td>...</td>\n",
       "      <td>...</td>\n",
       "      <td>...</td>\n",
       "    </tr>\n",
       "    <tr>\n",
       "      <th>77863</th>\n",
       "      <td>963</td>\n",
       "      <td>27909</td>\n",
       "      <td>6.0</td>\n",
       "    </tr>\n",
       "    <tr>\n",
       "      <th>77864</th>\n",
       "      <td>979</td>\n",
       "      <td>7549</td>\n",
       "      <td>8.0</td>\n",
       "    </tr>\n",
       "    <tr>\n",
       "      <th>77865</th>\n",
       "      <td>992</td>\n",
       "      <td>1044</td>\n",
       "      <td>4.0</td>\n",
       "    </tr>\n",
       "    <tr>\n",
       "      <th>77866</th>\n",
       "      <td>995</td>\n",
       "      <td>2571</td>\n",
       "      <td>6.0</td>\n",
       "    </tr>\n",
       "    <tr>\n",
       "      <th>77867</th>\n",
       "      <td>996</td>\n",
       "      <td>26101</td>\n",
       "      <td>7.0</td>\n",
       "    </tr>\n",
       "  </tbody>\n",
       "</table>\n",
       "<p>77868 rows × 3 columns</p>\n",
       "</div>"
      ],
      "text/plain": [
       "       user_id  anime_id  rating\n",
       "0            1      8074    10.0\n",
       "1            3      8074     6.0\n",
       "2            5      8074     2.0\n",
       "3           12      8074     6.0\n",
       "4           14      8074     6.0\n",
       "...        ...       ...     ...\n",
       "77863      963     27909     6.0\n",
       "77864      979      7549     8.0\n",
       "77865      992      1044     4.0\n",
       "77866      995      2571     6.0\n",
       "77867      996     26101     7.0\n",
       "\n",
       "[77868 rows x 3 columns]"
      ]
     },
     "execution_count": 154,
     "metadata": {},
     "output_type": "execute_result"
    }
   ],
   "source": [
    "data.df"
   ]
  },
  {
   "attachments": {},
   "cell_type": "markdown",
   "metadata": {},
   "source": [
    "## Data Splitting"
   ]
  },
  {
   "cell_type": "code",
   "execution_count": null,
   "metadata": {},
   "outputs": [],
   "source": [
    "train_set,test_set = train_test_split(data=data, test_size=0.2, random_state=0)"
   ]
  },
  {
   "attachments": {},
   "cell_type": "markdown",
   "metadata": {},
   "source": [
    "## Cross Validation"
   ]
  },
  {
   "cell_type": "code",
   "execution_count": null,
   "metadata": {},
   "outputs": [
    {
     "name": "stdout",
     "output_type": "stream",
     "text": [
      "Evaluating MAE, RMSE of algorithm SVD on 5 split(s).\n",
      "\n",
      "                  Fold 1  Fold 2  Fold 3  Fold 4  Fold 5  Mean    Std     \n",
      "MAE (testset)     0.9109  0.9129  0.9127  0.9167  0.9129  0.9132  0.0019  \n",
      "RMSE (testset)    1.2044  1.2045  1.2037  1.2086  1.2014  1.2045  0.0023  \n",
      "Fit time          1.30    1.29    1.27    1.24    0.78    1.18    0.20    \n",
      "Test time         0.26    0.26    0.27    0.31    0.15    0.25    0.05    \n"
     ]
    },
    {
     "data": {
      "text/plain": [
       "{'test_mae': array([0.9109001 , 0.91288457, 0.9127245 , 0.91673464, 0.91291983]),\n",
       " 'test_rmse': array([1.20441786, 1.20449376, 1.20367772, 1.20858312, 1.20141587]),\n",
       " 'fit_time': (1.3049209117889404,\n",
       "  1.2926025390625,\n",
       "  1.267455816268921,\n",
       "  1.242506504058838,\n",
       "  0.7756330966949463),\n",
       " 'test_time': (0.2590975761413574,\n",
       "  0.26036596298217773,\n",
       "  0.2658874988555908,\n",
       "  0.3085782527923584,\n",
       "  0.14597368240356445)}"
      ]
     },
     "execution_count": 156,
     "metadata": {},
     "output_type": "execute_result"
    }
   ],
   "source": [
    "\n",
    "model_svd = SVD(random_state=10)\n",
    "\n",
    "\n",
    "cv_svd = cross_validate(\n",
    "    algo=model_svd,\n",
    "    data=data,\n",
    "    cv=5,\n",
    "    n_jobs=-1,\n",
    "    verbose=True, \n",
    "    measures=['mae', 'rmse'] \n",
    ")\n",
    "\n",
    "cv_svd"
   ]
  },
  {
   "cell_type": "code",
   "execution_count": null,
   "metadata": {},
   "outputs": [
    {
     "name": "stdout",
     "output_type": "stream",
     "text": [
      "0.9132327260832233 adalah rata-rata MAE model SVD\n",
      "1.2045176658148877 adalah rata-rata RMSE model SVD\n"
     ]
    }
   ],
   "source": [
    "print(cv_svd['test_mae'].mean(), 'adalah rata-rata MAE model SVD')\n",
    "print(cv_svd['test_rmse'].mean(), 'adalah rata-rata RMSE model SVD')"
   ]
  },
  {
   "attachments": {},
   "cell_type": "markdown",
   "metadata": {},
   "source": [
    "# 2. ALS"
   ]
  },
  {
   "cell_type": "code",
   "execution_count": null,
   "metadata": {},
   "outputs": [
    {
     "name": "stdout",
     "output_type": "stream",
     "text": [
      "Evaluating MAE, RMSE of algorithm BaselineOnly on 5 split(s).\n",
      "\n",
      "                  Fold 1  Fold 2  Fold 3  Fold 4  Fold 5  Mean    Std     \n",
      "MAE (testset)     0.9084  0.9205  0.9174  0.9146  0.9210  0.9164  0.0046  \n",
      "RMSE (testset)    1.1936  1.2102  1.2075  1.1987  1.2105  1.2041  0.0068  \n",
      "Fit time          0.16    0.14    0.20    0.14    0.12    0.15    0.03    \n",
      "Test time         0.32    0.31    0.23    0.17    0.11    0.23    0.08    \n"
     ]
    },
    {
     "data": {
      "text/plain": [
       "{'test_mae': array([0.90838447, 0.92049731, 0.91738703, 0.91456679, 0.92104595]),\n",
       " 'test_rmse': array([1.19357325, 1.21022634, 1.20750828, 1.19867742, 1.21051118]),\n",
       " 'fit_time': (0.1574852466583252,\n",
       "  0.13599133491516113,\n",
       "  0.20294761657714844,\n",
       "  0.13646173477172852,\n",
       "  0.11662864685058594),\n",
       " 'test_time': (0.3181018829345703,\n",
       "  0.3141329288482666,\n",
       "  0.22547650337219238,\n",
       "  0.17408037185668945,\n",
       "  0.10899019241333008)}"
      ]
     },
     "execution_count": 158,
     "metadata": {},
     "output_type": "execute_result"
    }
   ],
   "source": [
    "\n",
    "\n",
    "bsl_options = {\n",
    "    'method':'als',\n",
    "    'n_epoch':5,     \n",
    "    'reg_u':12,      \n",
    "    'reg_i':5        \n",
    "}\n",
    "model_als = BaselineOnly(bsl_options=bsl_options)\n",
    "\n",
    "\n",
    "cv_als = cross_validate(\n",
    "    algo=model_als,\n",
    "    data=data,\n",
    "    cv=5,\n",
    "    n_jobs=-1,\n",
    "    verbose=True, \n",
    "    measures=['mae', 'rmse']) \n",
    "\n",
    "cv_als"
   ]
  },
  {
   "cell_type": "code",
   "execution_count": null,
   "metadata": {},
   "outputs": [
    {
     "name": "stdout",
     "output_type": "stream",
     "text": [
      "0.9163763095793737 adalah rata-rata MAE model ALS\n",
      "1.204099292645402 adalah rata-rata RMSE model ALS\n"
     ]
    }
   ],
   "source": [
    "print(cv_als['test_mae'].mean(), 'adalah rata-rata MAE model ALS')\n",
    "print(cv_als['test_rmse'].mean(), 'adalah rata-rata RMSE model ALS')"
   ]
  },
  {
   "attachments": {},
   "cell_type": "markdown",
   "metadata": {},
   "source": [
    "# Hyperparameter Tuning"
   ]
  },
  {
   "attachments": {},
   "cell_type": "markdown",
   "metadata": {},
   "source": [
    "1. SVD"
   ]
  },
  {
   "cell_type": "code",
   "execution_count": null,
   "metadata": {},
   "outputs": [],
   "source": [
    "\n",
    "hyperparam = {\n",
    "    'n_epochs':[5,10,20],\n",
    "    'lr_all':[0.002, 0.005], \n",
    "    'reg_all':[0.02, 0.04, 0.06] \n",
    "}\n",
    "\n",
    "gridsearch_svd = GridSearchCV(\n",
    "    algo_class=SVD, \n",
    "    param_grid=hyperparam,\n",
    "    n_jobs=-1,\n",
    "    cv=5,\n",
    "    measures=['mae', 'rmse']\n",
    ")\n",
    "\n",
    "\n",
    "gridsearch_svd.fit(data)"
   ]
  },
  {
   "cell_type": "code",
   "execution_count": null,
   "metadata": {},
   "outputs": [
    {
     "data": {
      "text/plain": [
       "{'mae': {'n_epochs': 20, 'lr_all': 0.005, 'reg_all': 0.06},\n",
       " 'rmse': {'n_epochs': 20, 'lr_all': 0.005, 'reg_all': 0.06}}"
      ]
     },
     "metadata": {},
     "output_type": "display_data"
    },
    {
     "data": {
      "text/plain": [
       "{'mae': 0.9066976236580405, 'rmse': 1.1933922904423628}"
      ]
     },
     "metadata": {},
     "output_type": "display_data"
    }
   ],
   "source": [
    "display(gridsearch_svd.best_params, gridsearch_svd.best_score)"
   ]
  },
  {
   "cell_type": "code",
   "execution_count": null,
   "metadata": {},
   "outputs": [
    {
     "name": "stdout",
     "output_type": "stream",
     "text": [
      "0.9132327260832233 adalah rata-rata MAE model SVD sebelum tuning\n",
      "1.2045176658148877 adalah rata-rata RMSE model SVD sebelum tuning\n",
      "\n",
      "0.9066976236580405 adalah rata-rata MAE model SVD setelah tuning\n",
      "1.1933922904423628 adalah rata-rata RMSE model SVD setelah tuning\n"
     ]
    }
   ],
   "source": [
    "print(cv_svd['test_mae'].mean(), 'adalah rata-rata MAE model SVD sebelum tuning')\n",
    "print(cv_svd['test_rmse'].mean(), 'adalah rata-rata RMSE model SVD sebelum tuning')\n",
    "print()\n",
    "print(gridsearch_svd.best_score['mae'], 'adalah rata-rata MAE model SVD setelah tuning')\n",
    "print(gridsearch_svd.best_score['rmse'], 'adalah rata-rata RMSE model SVD setelah tuning')"
   ]
  },
  {
   "attachments": {},
   "cell_type": "markdown",
   "metadata": {},
   "source": [
    "## ALS"
   ]
  },
  {
   "cell_type": "code",
   "execution_count": null,
   "metadata": {},
   "outputs": [],
   "source": [
    "hyperparam = {\n",
    "    'bsl_options':{\n",
    "    'method':['als'],\n",
    "    'n_epoch':[5,10,20],\n",
    "    'reg_u':[12,20],\n",
    "    'reg_i':[5,10]\n",
    "    }\n",
    "}\n",
    "\n",
    "gridsearch_als = GridSearchCV(\n",
    "    algo_class=BaselineOnly, \n",
    "    param_grid=hyperparam,\n",
    "    n_jobs=-1,\n",
    "    cv=5,\n",
    "    measures=['mae', 'rmse']\n",
    ")\n",
    "\n",
    "\n",
    "gridsearch_als.fit(data)"
   ]
  },
  {
   "cell_type": "code",
   "execution_count": null,
   "metadata": {},
   "outputs": [
    {
     "data": {
      "text/plain": [
       "{'mae': {'bsl_options': {'method': 'als',\n",
       "   'n_epoch': 5,\n",
       "   'reg_u': 12,\n",
       "   'reg_i': 5}},\n",
       " 'rmse': {'bsl_options': {'method': 'als',\n",
       "   'n_epoch': 5,\n",
       "   'reg_u': 12,\n",
       "   'reg_i': 5}}}"
      ]
     },
     "metadata": {},
     "output_type": "display_data"
    },
    {
     "data": {
      "text/plain": [
       "{'mae': 0.9175430905764352, 'rmse': 1.2051714078774112}"
      ]
     },
     "metadata": {},
     "output_type": "display_data"
    }
   ],
   "source": [
    "display(gridsearch_als.best_params, gridsearch_als.best_score)"
   ]
  },
  {
   "cell_type": "code",
   "execution_count": null,
   "metadata": {},
   "outputs": [
    {
     "name": "stdout",
     "output_type": "stream",
     "text": [
      "0.9163763095793737 adalah rata-rata MAE model ALS sebelum tuning\n",
      "1.204099292645402 adalah rata-rata RMSE model ALS sebelum tuning\n",
      "\n",
      "0.9175430905764352 adalah rata-rata MAE model ALS setelah tuning\n",
      "1.2051714078774112 adalah rata-rata RMSE model ALS setelah tuning\n"
     ]
    }
   ],
   "source": [
    "print(cv_als['test_mae'].mean(), 'adalah rata-rata MAE model ALS sebelum tuning')\n",
    "print(cv_als['test_rmse'].mean(), 'adalah rata-rata RMSE model ALS sebelum tuning')\n",
    "print()\n",
    "print(gridsearch_als.best_score['mae'], 'adalah rata-rata MAE model ALS setelah tuning')\n",
    "print(gridsearch_als.best_score['rmse'], 'adalah rata-rata RMSE model ALS setelah tuning')"
   ]
  },
  {
   "attachments": {},
   "cell_type": "markdown",
   "metadata": {},
   "source": [
    "# Predict To Test Set"
   ]
  },
  {
   "cell_type": "code",
   "execution_count": null,
   "metadata": {},
   "outputs": [
    {
     "data": {
      "text/plain": [
       "<surprise.prediction_algorithms.matrix_factorization.SVD at 0x1cc99d80dc0>"
      ]
     },
     "execution_count": 166,
     "metadata": {},
     "output_type": "execute_result"
    }
   ],
   "source": [
    "# Define best model\n",
    "best_model = gridsearch_svd.best_estimator['mae']\n",
    "\n",
    "# Fitting\n",
    "best_model.fit(train_set)"
   ]
  },
  {
   "cell_type": "code",
   "execution_count": null,
   "metadata": {},
   "outputs": [
    {
     "data": {
      "text/plain": [
       "Prediction(uid=0, iid=1, r_ui=None, est=9.084471063008571, details={'was_impossible': False})"
      ]
     },
     "execution_count": 167,
     "metadata": {},
     "output_type": "execute_result"
    }
   ],
   "source": [
    "best_model.predict(uid=0, iid=1)"
   ]
  },
  {
   "cell_type": "code",
   "execution_count": null,
   "metadata": {},
   "outputs": [],
   "source": [
    "list_user = [50,200,400,800]\n",
    "list_anime = [11061,6438,1010,1257]"
   ]
  },
  {
   "cell_type": "code",
   "execution_count": null,
   "metadata": {},
   "outputs": [
    {
     "data": {
      "text/html": [
       "<div>\n",
       "<style scoped>\n",
       "    .dataframe tbody tr th:only-of-type {\n",
       "        vertical-align: middle;\n",
       "    }\n",
       "\n",
       "    .dataframe tbody tr th {\n",
       "        vertical-align: top;\n",
       "    }\n",
       "\n",
       "    .dataframe thead th {\n",
       "        text-align: right;\n",
       "    }\n",
       "</style>\n",
       "<table border=\"1\" class=\"dataframe\">\n",
       "  <thead>\n",
       "    <tr style=\"text-align: right;\">\n",
       "      <th></th>\n",
       "      <th>user_id</th>\n",
       "      <th>anime_id</th>\n",
       "    </tr>\n",
       "  </thead>\n",
       "  <tbody>\n",
       "  </tbody>\n",
       "</table>\n",
       "</div>"
      ],
      "text/plain": [
       "Empty DataFrame\n",
       "Columns: [user_id, anime_id]\n",
       "Index: []"
      ]
     },
     "execution_count": 169,
     "metadata": {},
     "output_type": "execute_result"
    }
   ],
   "source": [
    "df_result = pd.DataFrame(columns=['user_id', 'anime_id'])\n",
    "df_result"
   ]
  },
  {
   "cell_type": "code",
   "execution_count": null,
   "metadata": {},
   "outputs": [
    {
     "name": "stderr",
     "output_type": "stream",
     "text": [
      "C:\\Users\\user\\AppData\\Local\\Temp\\ipykernel_8940\\1752896420.py:3: FutureWarning: The frame.append method is deprecated and will be removed from pandas in a future version. Use pandas.concat instead.\n",
      "  df_result = df_result.append({'user_id':user, 'anime_id':item}, ignore_index=True)\n",
      "C:\\Users\\user\\AppData\\Local\\Temp\\ipykernel_8940\\1752896420.py:3: FutureWarning: The frame.append method is deprecated and will be removed from pandas in a future version. Use pandas.concat instead.\n",
      "  df_result = df_result.append({'user_id':user, 'anime_id':item}, ignore_index=True)\n",
      "C:\\Users\\user\\AppData\\Local\\Temp\\ipykernel_8940\\1752896420.py:3: FutureWarning: The frame.append method is deprecated and will be removed from pandas in a future version. Use pandas.concat instead.\n",
      "  df_result = df_result.append({'user_id':user, 'anime_id':item}, ignore_index=True)\n",
      "C:\\Users\\user\\AppData\\Local\\Temp\\ipykernel_8940\\1752896420.py:3: FutureWarning: The frame.append method is deprecated and will be removed from pandas in a future version. Use pandas.concat instead.\n",
      "  df_result = df_result.append({'user_id':user, 'anime_id':item}, ignore_index=True)\n",
      "C:\\Users\\user\\AppData\\Local\\Temp\\ipykernel_8940\\1752896420.py:3: FutureWarning: The frame.append method is deprecated and will be removed from pandas in a future version. Use pandas.concat instead.\n",
      "  df_result = df_result.append({'user_id':user, 'anime_id':item}, ignore_index=True)\n",
      "C:\\Users\\user\\AppData\\Local\\Temp\\ipykernel_8940\\1752896420.py:3: FutureWarning: The frame.append method is deprecated and will be removed from pandas in a future version. Use pandas.concat instead.\n",
      "  df_result = df_result.append({'user_id':user, 'anime_id':item}, ignore_index=True)\n",
      "C:\\Users\\user\\AppData\\Local\\Temp\\ipykernel_8940\\1752896420.py:3: FutureWarning: The frame.append method is deprecated and will be removed from pandas in a future version. Use pandas.concat instead.\n",
      "  df_result = df_result.append({'user_id':user, 'anime_id':item}, ignore_index=True)\n",
      "C:\\Users\\user\\AppData\\Local\\Temp\\ipykernel_8940\\1752896420.py:3: FutureWarning: The frame.append method is deprecated and will be removed from pandas in a future version. Use pandas.concat instead.\n",
      "  df_result = df_result.append({'user_id':user, 'anime_id':item}, ignore_index=True)\n",
      "C:\\Users\\user\\AppData\\Local\\Temp\\ipykernel_8940\\1752896420.py:3: FutureWarning: The frame.append method is deprecated and will be removed from pandas in a future version. Use pandas.concat instead.\n",
      "  df_result = df_result.append({'user_id':user, 'anime_id':item}, ignore_index=True)\n",
      "C:\\Users\\user\\AppData\\Local\\Temp\\ipykernel_8940\\1752896420.py:3: FutureWarning: The frame.append method is deprecated and will be removed from pandas in a future version. Use pandas.concat instead.\n",
      "  df_result = df_result.append({'user_id':user, 'anime_id':item}, ignore_index=True)\n",
      "C:\\Users\\user\\AppData\\Local\\Temp\\ipykernel_8940\\1752896420.py:3: FutureWarning: The frame.append method is deprecated and will be removed from pandas in a future version. Use pandas.concat instead.\n",
      "  df_result = df_result.append({'user_id':user, 'anime_id':item}, ignore_index=True)\n",
      "C:\\Users\\user\\AppData\\Local\\Temp\\ipykernel_8940\\1752896420.py:3: FutureWarning: The frame.append method is deprecated and will be removed from pandas in a future version. Use pandas.concat instead.\n",
      "  df_result = df_result.append({'user_id':user, 'anime_id':item}, ignore_index=True)\n",
      "C:\\Users\\user\\AppData\\Local\\Temp\\ipykernel_8940\\1752896420.py:3: FutureWarning: The frame.append method is deprecated and will be removed from pandas in a future version. Use pandas.concat instead.\n",
      "  df_result = df_result.append({'user_id':user, 'anime_id':item}, ignore_index=True)\n",
      "C:\\Users\\user\\AppData\\Local\\Temp\\ipykernel_8940\\1752896420.py:3: FutureWarning: The frame.append method is deprecated and will be removed from pandas in a future version. Use pandas.concat instead.\n",
      "  df_result = df_result.append({'user_id':user, 'anime_id':item}, ignore_index=True)\n",
      "C:\\Users\\user\\AppData\\Local\\Temp\\ipykernel_8940\\1752896420.py:3: FutureWarning: The frame.append method is deprecated and will be removed from pandas in a future version. Use pandas.concat instead.\n",
      "  df_result = df_result.append({'user_id':user, 'anime_id':item}, ignore_index=True)\n",
      "C:\\Users\\user\\AppData\\Local\\Temp\\ipykernel_8940\\1752896420.py:3: FutureWarning: The frame.append method is deprecated and will be removed from pandas in a future version. Use pandas.concat instead.\n",
      "  df_result = df_result.append({'user_id':user, 'anime_id':item}, ignore_index=True)\n"
     ]
    },
    {
     "data": {
      "text/html": [
       "<div>\n",
       "<style scoped>\n",
       "    .dataframe tbody tr th:only-of-type {\n",
       "        vertical-align: middle;\n",
       "    }\n",
       "\n",
       "    .dataframe tbody tr th {\n",
       "        vertical-align: top;\n",
       "    }\n",
       "\n",
       "    .dataframe thead th {\n",
       "        text-align: right;\n",
       "    }\n",
       "</style>\n",
       "<table border=\"1\" class=\"dataframe\">\n",
       "  <thead>\n",
       "    <tr style=\"text-align: right;\">\n",
       "      <th></th>\n",
       "      <th>user_id</th>\n",
       "      <th>anime_id</th>\n",
       "    </tr>\n",
       "  </thead>\n",
       "  <tbody>\n",
       "    <tr>\n",
       "      <th>0</th>\n",
       "      <td>50</td>\n",
       "      <td>11061</td>\n",
       "    </tr>\n",
       "    <tr>\n",
       "      <th>1</th>\n",
       "      <td>50</td>\n",
       "      <td>6438</td>\n",
       "    </tr>\n",
       "    <tr>\n",
       "      <th>2</th>\n",
       "      <td>50</td>\n",
       "      <td>1010</td>\n",
       "    </tr>\n",
       "    <tr>\n",
       "      <th>3</th>\n",
       "      <td>50</td>\n",
       "      <td>1257</td>\n",
       "    </tr>\n",
       "    <tr>\n",
       "      <th>4</th>\n",
       "      <td>200</td>\n",
       "      <td>11061</td>\n",
       "    </tr>\n",
       "    <tr>\n",
       "      <th>5</th>\n",
       "      <td>200</td>\n",
       "      <td>6438</td>\n",
       "    </tr>\n",
       "    <tr>\n",
       "      <th>6</th>\n",
       "      <td>200</td>\n",
       "      <td>1010</td>\n",
       "    </tr>\n",
       "    <tr>\n",
       "      <th>7</th>\n",
       "      <td>200</td>\n",
       "      <td>1257</td>\n",
       "    </tr>\n",
       "    <tr>\n",
       "      <th>8</th>\n",
       "      <td>400</td>\n",
       "      <td>11061</td>\n",
       "    </tr>\n",
       "    <tr>\n",
       "      <th>9</th>\n",
       "      <td>400</td>\n",
       "      <td>6438</td>\n",
       "    </tr>\n",
       "    <tr>\n",
       "      <th>10</th>\n",
       "      <td>400</td>\n",
       "      <td>1010</td>\n",
       "    </tr>\n",
       "    <tr>\n",
       "      <th>11</th>\n",
       "      <td>400</td>\n",
       "      <td>1257</td>\n",
       "    </tr>\n",
       "    <tr>\n",
       "      <th>12</th>\n",
       "      <td>800</td>\n",
       "      <td>11061</td>\n",
       "    </tr>\n",
       "    <tr>\n",
       "      <th>13</th>\n",
       "      <td>800</td>\n",
       "      <td>6438</td>\n",
       "    </tr>\n",
       "    <tr>\n",
       "      <th>14</th>\n",
       "      <td>800</td>\n",
       "      <td>1010</td>\n",
       "    </tr>\n",
       "    <tr>\n",
       "      <th>15</th>\n",
       "      <td>800</td>\n",
       "      <td>1257</td>\n",
       "    </tr>\n",
       "  </tbody>\n",
       "</table>\n",
       "</div>"
      ],
      "text/plain": [
       "   user_id anime_id\n",
       "0       50    11061\n",
       "1       50     6438\n",
       "2       50     1010\n",
       "3       50     1257\n",
       "4      200    11061\n",
       "5      200     6438\n",
       "6      200     1010\n",
       "7      200     1257\n",
       "8      400    11061\n",
       "9      400     6438\n",
       "10     400     1010\n",
       "11     400     1257\n",
       "12     800    11061\n",
       "13     800     6438\n",
       "14     800     1010\n",
       "15     800     1257"
      ]
     },
     "execution_count": 170,
     "metadata": {},
     "output_type": "execute_result"
    }
   ],
   "source": [
    "for user in list_user:\n",
    "    for item in list_anime:\n",
    "        df_result = df_result.append({'user_id':user, 'anime_id':item}, ignore_index=True)\n",
    "df_result"
   ]
  },
  {
   "cell_type": "code",
   "execution_count": null,
   "metadata": {},
   "outputs": [
    {
     "data": {
      "text/plain": [
       "[9.723652188238214,\n",
       " 7.265788412190737,\n",
       " 7.336779024022364,\n",
       " 7.849194640422156,\n",
       " 10,\n",
       " 8.944392036363155,\n",
       " 8.757318595771554,\n",
       " 9.580018119468624,\n",
       " 8.44779515777702,\n",
       " 6.462006346461142,\n",
       " 6.017348830677101,\n",
       " 6.959551030741963,\n",
       " 9.428946338479149,\n",
       " 7.933931088080923,\n",
       " 7.889811765590983,\n",
       " 8.367705846466073]"
      ]
     },
     "execution_count": 171,
     "metadata": {},
     "output_type": "execute_result"
    }
   ],
   "source": [
    "list_rating_predict = []\n",
    "\n",
    "for index, value in df_result.iterrows():\n",
    "    rating_estimate = best_model.predict(uid=value['user_id'], iid=value['anime_id'])\n",
    "    list_rating_predict.append(rating_estimate[3])\n",
    "\n",
    "list_rating_predict"
   ]
  },
  {
   "cell_type": "code",
   "execution_count": null,
   "metadata": {},
   "outputs": [
    {
     "data": {
      "text/html": [
       "<div>\n",
       "<style scoped>\n",
       "    .dataframe tbody tr th:only-of-type {\n",
       "        vertical-align: middle;\n",
       "    }\n",
       "\n",
       "    .dataframe tbody tr th {\n",
       "        vertical-align: top;\n",
       "    }\n",
       "\n",
       "    .dataframe thead th {\n",
       "        text-align: right;\n",
       "    }\n",
       "</style>\n",
       "<table border=\"1\" class=\"dataframe\">\n",
       "  <thead>\n",
       "    <tr style=\"text-align: right;\">\n",
       "      <th></th>\n",
       "      <th>user_id</th>\n",
       "      <th>anime_id</th>\n",
       "      <th>rating</th>\n",
       "    </tr>\n",
       "  </thead>\n",
       "  <tbody>\n",
       "    <tr>\n",
       "      <th>0</th>\n",
       "      <td>50</td>\n",
       "      <td>11061</td>\n",
       "      <td>9.723652</td>\n",
       "    </tr>\n",
       "    <tr>\n",
       "      <th>1</th>\n",
       "      <td>50</td>\n",
       "      <td>6438</td>\n",
       "      <td>7.265788</td>\n",
       "    </tr>\n",
       "    <tr>\n",
       "      <th>2</th>\n",
       "      <td>50</td>\n",
       "      <td>1010</td>\n",
       "      <td>7.336779</td>\n",
       "    </tr>\n",
       "    <tr>\n",
       "      <th>3</th>\n",
       "      <td>50</td>\n",
       "      <td>1257</td>\n",
       "      <td>7.849195</td>\n",
       "    </tr>\n",
       "    <tr>\n",
       "      <th>4</th>\n",
       "      <td>200</td>\n",
       "      <td>11061</td>\n",
       "      <td>10.000000</td>\n",
       "    </tr>\n",
       "    <tr>\n",
       "      <th>5</th>\n",
       "      <td>200</td>\n",
       "      <td>6438</td>\n",
       "      <td>8.944392</td>\n",
       "    </tr>\n",
       "    <tr>\n",
       "      <th>6</th>\n",
       "      <td>200</td>\n",
       "      <td>1010</td>\n",
       "      <td>8.757319</td>\n",
       "    </tr>\n",
       "    <tr>\n",
       "      <th>7</th>\n",
       "      <td>200</td>\n",
       "      <td>1257</td>\n",
       "      <td>9.580018</td>\n",
       "    </tr>\n",
       "    <tr>\n",
       "      <th>8</th>\n",
       "      <td>400</td>\n",
       "      <td>11061</td>\n",
       "      <td>8.447795</td>\n",
       "    </tr>\n",
       "    <tr>\n",
       "      <th>9</th>\n",
       "      <td>400</td>\n",
       "      <td>6438</td>\n",
       "      <td>6.462006</td>\n",
       "    </tr>\n",
       "    <tr>\n",
       "      <th>10</th>\n",
       "      <td>400</td>\n",
       "      <td>1010</td>\n",
       "      <td>6.017349</td>\n",
       "    </tr>\n",
       "    <tr>\n",
       "      <th>11</th>\n",
       "      <td>400</td>\n",
       "      <td>1257</td>\n",
       "      <td>6.959551</td>\n",
       "    </tr>\n",
       "    <tr>\n",
       "      <th>12</th>\n",
       "      <td>800</td>\n",
       "      <td>11061</td>\n",
       "      <td>9.428946</td>\n",
       "    </tr>\n",
       "    <tr>\n",
       "      <th>13</th>\n",
       "      <td>800</td>\n",
       "      <td>6438</td>\n",
       "      <td>7.933931</td>\n",
       "    </tr>\n",
       "    <tr>\n",
       "      <th>14</th>\n",
       "      <td>800</td>\n",
       "      <td>1010</td>\n",
       "      <td>7.889812</td>\n",
       "    </tr>\n",
       "    <tr>\n",
       "      <th>15</th>\n",
       "      <td>800</td>\n",
       "      <td>1257</td>\n",
       "      <td>8.367706</td>\n",
       "    </tr>\n",
       "  </tbody>\n",
       "</table>\n",
       "</div>"
      ],
      "text/plain": [
       "   user_id anime_id     rating\n",
       "0       50    11061   9.723652\n",
       "1       50     6438   7.265788\n",
       "2       50     1010   7.336779\n",
       "3       50     1257   7.849195\n",
       "4      200    11061  10.000000\n",
       "5      200     6438   8.944392\n",
       "6      200     1010   8.757319\n",
       "7      200     1257   9.580018\n",
       "8      400    11061   8.447795\n",
       "9      400     6438   6.462006\n",
       "10     400     1010   6.017349\n",
       "11     400     1257   6.959551\n",
       "12     800    11061   9.428946\n",
       "13     800     6438   7.933931\n",
       "14     800     1010   7.889812\n",
       "15     800     1257   8.367706"
      ]
     },
     "execution_count": 172,
     "metadata": {},
     "output_type": "execute_result"
    }
   ],
   "source": [
    "df_result['rating'] = list_rating_predict\n",
    "df_result"
   ]
  },
  {
   "cell_type": "code",
   "execution_count": null,
   "metadata": {},
   "outputs": [],
   "source": [
    "df_result = pd.merge(left=df_result,right=df,on='anime_id')[['user_id_x','anime_id','rating_x','name']].drop_duplicates()"
   ]
  },
  {
   "cell_type": "code",
   "execution_count": null,
   "metadata": {},
   "outputs": [],
   "source": [
    "df_result = df_result.rename(columns={'user_id_x':'user_id','rating_x':'rating'})"
   ]
  },
  {
   "cell_type": "code",
   "execution_count": null,
   "metadata": {},
   "outputs": [],
   "source": [
    "def reccomend(user):\n",
    "    return df_result[df_result['user_id']==user].sort_values('rating', ascending=False)"
   ]
  },
  {
   "cell_type": "code",
   "execution_count": null,
   "metadata": {},
   "outputs": [
    {
     "data": {
      "text/html": [
       "<div>\n",
       "<style scoped>\n",
       "    .dataframe tbody tr th:only-of-type {\n",
       "        vertical-align: middle;\n",
       "    }\n",
       "\n",
       "    .dataframe tbody tr th {\n",
       "        vertical-align: top;\n",
       "    }\n",
       "\n",
       "    .dataframe thead th {\n",
       "        text-align: right;\n",
       "    }\n",
       "</style>\n",
       "<table border=\"1\" class=\"dataframe\">\n",
       "  <thead>\n",
       "    <tr style=\"text-align: right;\">\n",
       "      <th></th>\n",
       "      <th>user_id</th>\n",
       "      <th>anime_id</th>\n",
       "      <th>rating</th>\n",
       "      <th>name</th>\n",
       "    </tr>\n",
       "  </thead>\n",
       "  <tbody>\n",
       "    <tr>\n",
       "      <th>0</th>\n",
       "      <td>50</td>\n",
       "      <td>11061</td>\n",
       "      <td>9.723652</td>\n",
       "      <td>Hunter x Hunter (2011)</td>\n",
       "    </tr>\n",
       "    <tr>\n",
       "      <th>464</th>\n",
       "      <td>50</td>\n",
       "      <td>1257</td>\n",
       "      <td>7.849195</td>\n",
       "      <td>Saint Seiya: Meiou Hades Juuni Kyuu-hen</td>\n",
       "    </tr>\n",
       "    <tr>\n",
       "      <th>456</th>\n",
       "      <td>50</td>\n",
       "      <td>1010</td>\n",
       "      <td>7.336779</td>\n",
       "      <td>Ranma ½: Chou Musabetsu Kessen! Ranma Team vs....</td>\n",
       "    </tr>\n",
       "    <tr>\n",
       "      <th>452</th>\n",
       "      <td>50</td>\n",
       "      <td>6438</td>\n",
       "      <td>7.265788</td>\n",
       "      <td>Detective Conan OVA 09: The Stranger in 10 Yea...</td>\n",
       "    </tr>\n",
       "  </tbody>\n",
       "</table>\n",
       "</div>"
      ],
      "text/plain": [
       "    user_id anime_id    rating  \\\n",
       "0        50    11061  9.723652   \n",
       "464      50     1257  7.849195   \n",
       "456      50     1010  7.336779   \n",
       "452      50     6438  7.265788   \n",
       "\n",
       "                                                  name  \n",
       "0                               Hunter x Hunter (2011)  \n",
       "464            Saint Seiya: Meiou Hades Juuni Kyuu-hen  \n",
       "456  Ranma ½: Chou Musabetsu Kessen! Ranma Team vs....  \n",
       "452  Detective Conan OVA 09: The Stranger in 10 Yea...  "
      ]
     },
     "execution_count": 176,
     "metadata": {},
     "output_type": "execute_result"
    }
   ],
   "source": [
    "reccomend(50)"
   ]
  }
 ],
 "metadata": {
  "kernelspec": {
   "display_name": "Python 3",
   "language": "python",
   "name": "python3"
  },
  "language_info": {
   "codemirror_mode": {
    "name": "ipython",
    "version": 3
   },
   "file_extension": ".py",
   "mimetype": "text/x-python",
   "name": "python",
   "nbconvert_exporter": "python",
   "pygments_lexer": "ipython3",
   "version": "3.11.0"
  },
  "orig_nbformat": 4,
  "vscode": {
   "interpreter": {
    "hash": "de47f5c92c0ee6f12a59a5613ac5feff6aab19ddff207ba0b3964cced08c4ccc"
   }
  }
 },
 "nbformat": 4,
 "nbformat_minor": 2
}
